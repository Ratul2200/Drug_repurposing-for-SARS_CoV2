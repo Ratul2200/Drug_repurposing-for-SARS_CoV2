{
  "nbformat": 4,
  "nbformat_minor": 0,
  "metadata": {
    "colab": {
      "name": "Vina_score_predictor_num_dnn_model.ipynb",
      "provenance": [],
      "collapsed_sections": [],
      "authorship_tag": "ABX9TyMF87jpRmho7z0bHD9awUJO"
    },
    "kernelspec": {
      "name": "python3",
      "display_name": "Python 3"
    },
    "language_info": {
      "name": "python"
    },
    "accelerator": "GPU"
  },
  "cells": [
    {
      "cell_type": "code",
      "execution_count": 1,
      "metadata": {
        "id": "Eq4YHHPypF5N"
      },
      "outputs": [],
      "source": [
        "# Basic Libraries\n",
        "import os\n",
        "import sys\n",
        "import numpy as np\n",
        "import pandas as pd\n",
        "import matplotlib.pyplot as plt\n",
        "import seaborn as sns\n",
        "from logging import getLogger, StreamHandler, INFO\n",
        "%matplotlib inline\n",
        "\n",
        "# sklearn libraries\n",
        "from sklearn.model_selection import train_test_split,RandomizedSearchCV\n",
        "from sklearn.metrics import mean_absolute_error,mean_squared_error,r2_score\n",
        "\n",
        "# Tensorflow libraries\n",
        "import tensorflow as tf\n",
        "from tensorflow import keras\n",
        "from tensorflow.keras import layers"
      ]
    },
    {
      "cell_type": "code",
      "source": [
        "print(tf.__version__)"
      ],
      "metadata": {
        "colab": {
          "base_uri": "https://localhost:8080/"
        },
        "id": "wrRy7x2BpiA5",
        "outputId": "360d2336-97ff-4eb1-b05d-e01b9a1cb55a"
      },
      "execution_count": 2,
      "outputs": [
        {
          "output_type": "stream",
          "name": "stdout",
          "text": [
            "2.7.0\n"
          ]
        }
      ]
    },
    {
      "cell_type": "code",
      "source": [
        "# check for the gpu device\n",
        "device_name = tf.test.gpu_device_name()\n",
        "print('Found GPU at: {}'.format(device_name))"
      ],
      "metadata": {
        "colab": {
          "base_uri": "https://localhost:8080/"
        },
        "id": "GEVFGX7u1RP3",
        "outputId": "3a816560-a27b-4302-c9dd-5480671e8290"
      },
      "execution_count": 3,
      "outputs": [
        {
          "output_type": "stream",
          "name": "stdout",
          "text": [
            "Found GPU at: /device:GPU:0\n"
          ]
        }
      ]
    },
    {
      "cell_type": "code",
      "source": [
        "!pip install rdkit-pypi"
      ],
      "metadata": {
        "colab": {
          "base_uri": "https://localhost:8080/"
        },
        "id": "DlKecor-vFKQ",
        "outputId": "95153a87-5f18-4e95-b3dd-398c085c2ce9"
      },
      "execution_count": null,
      "outputs": [
        {
          "output_type": "stream",
          "name": "stdout",
          "text": [
            "Collecting rdkit-pypi\n",
            "  Downloading rdkit_pypi-2021.9.4-cp37-cp37m-manylinux_2_17_x86_64.manylinux2014_x86_64.whl (20.6 MB)\n",
            "\u001b[K     |████████████████████████████████| 20.6 MB 10.9 MB/s \n",
            "\u001b[?25hRequirement already satisfied: numpy>=1.19 in /usr/local/lib/python3.7/dist-packages (from rdkit-pypi) (1.19.5)\n",
            "Requirement already satisfied: Pillow in /usr/local/lib/python3.7/dist-packages (from rdkit-pypi) (7.1.2)\n",
            "Installing collected packages: rdkit-pypi\n",
            "Successfully installed rdkit-pypi-2021.9.4\n"
          ]
        }
      ]
    },
    {
      "cell_type": "code",
      "source": [
        "from rdkit import rdBase\n",
        "from rdkit import Chem\n",
        "print(rdBase.rdkitVersion)"
      ],
      "metadata": {
        "colab": {
          "base_uri": "https://localhost:8080/"
        },
        "id": "QO9wj_gqvI1c",
        "outputId": "9c5e6df2-665f-425d-bf66-49e460ae4791"
      },
      "execution_count": 4,
      "outputs": [
        {
          "output_type": "stream",
          "name": "stdout",
          "text": [
            "2021.09.4\n"
          ]
        }
      ]
    },
    {
      "cell_type": "code",
      "source": [
        "!pip install git+https://github.com/samoturk/mol2vec"
      ],
      "metadata": {
        "colab": {
          "base_uri": "https://localhost:8080/"
        },
        "id": "Xztup7XWtimj",
        "outputId": "c3cd86e2-3691-4112-df29-12acd87f581b"
      },
      "execution_count": null,
      "outputs": [
        {
          "output_type": "stream",
          "name": "stdout",
          "text": [
            "Collecting git+https://github.com/samoturk/mol2vec\n",
            "  Cloning https://github.com/samoturk/mol2vec to /tmp/pip-req-build-1amgyiix\n",
            "  Running command git clone -q https://github.com/samoturk/mol2vec /tmp/pip-req-build-1amgyiix\n",
            "Requirement already satisfied: numpy in /usr/local/lib/python3.7/dist-packages (from mol2vec==0.1) (1.19.5)\n",
            "Requirement already satisfied: gensim in /usr/local/lib/python3.7/dist-packages (from mol2vec==0.1) (3.6.0)\n",
            "Requirement already satisfied: tqdm in /usr/local/lib/python3.7/dist-packages (from mol2vec==0.1) (4.62.3)\n",
            "Requirement already satisfied: joblib in /usr/local/lib/python3.7/dist-packages (from mol2vec==0.1) (1.1.0)\n",
            "Requirement already satisfied: pandas in /usr/local/lib/python3.7/dist-packages (from mol2vec==0.1) (1.3.5)\n",
            "Requirement already satisfied: matplotlib in /usr/local/lib/python3.7/dist-packages (from mol2vec==0.1) (3.2.2)\n",
            "Requirement already satisfied: IPython in /usr/local/lib/python3.7/dist-packages (from mol2vec==0.1) (5.5.0)\n",
            "Requirement already satisfied: seaborn in /usr/local/lib/python3.7/dist-packages (from mol2vec==0.1) (0.11.2)\n",
            "Requirement already satisfied: six>=1.5.0 in /usr/local/lib/python3.7/dist-packages (from gensim->mol2vec==0.1) (1.15.0)\n",
            "Requirement already satisfied: scipy>=0.18.1 in /usr/local/lib/python3.7/dist-packages (from gensim->mol2vec==0.1) (1.4.1)\n",
            "Requirement already satisfied: smart-open>=1.2.1 in /usr/local/lib/python3.7/dist-packages (from gensim->mol2vec==0.1) (5.2.1)\n",
            "Requirement already satisfied: pygments in /usr/local/lib/python3.7/dist-packages (from IPython->mol2vec==0.1) (2.6.1)\n",
            "Requirement already satisfied: simplegeneric>0.8 in /usr/local/lib/python3.7/dist-packages (from IPython->mol2vec==0.1) (0.8.1)\n",
            "Requirement already satisfied: pexpect in /usr/local/lib/python3.7/dist-packages (from IPython->mol2vec==0.1) (4.8.0)\n",
            "Requirement already satisfied: pickleshare in /usr/local/lib/python3.7/dist-packages (from IPython->mol2vec==0.1) (0.7.5)\n",
            "Requirement already satisfied: setuptools>=18.5 in /usr/local/lib/python3.7/dist-packages (from IPython->mol2vec==0.1) (57.4.0)\n",
            "Requirement already satisfied: prompt-toolkit<2.0.0,>=1.0.4 in /usr/local/lib/python3.7/dist-packages (from IPython->mol2vec==0.1) (1.0.18)\n",
            "Requirement already satisfied: traitlets>=4.2 in /usr/local/lib/python3.7/dist-packages (from IPython->mol2vec==0.1) (5.1.1)\n",
            "Requirement already satisfied: decorator in /usr/local/lib/python3.7/dist-packages (from IPython->mol2vec==0.1) (4.4.2)\n",
            "Requirement already satisfied: wcwidth in /usr/local/lib/python3.7/dist-packages (from prompt-toolkit<2.0.0,>=1.0.4->IPython->mol2vec==0.1) (0.2.5)\n",
            "Requirement already satisfied: cycler>=0.10 in /usr/local/lib/python3.7/dist-packages (from matplotlib->mol2vec==0.1) (0.11.0)\n",
            "Requirement already satisfied: pyparsing!=2.0.4,!=2.1.2,!=2.1.6,>=2.0.1 in /usr/local/lib/python3.7/dist-packages (from matplotlib->mol2vec==0.1) (3.0.7)\n",
            "Requirement already satisfied: python-dateutil>=2.1 in /usr/local/lib/python3.7/dist-packages (from matplotlib->mol2vec==0.1) (2.8.2)\n",
            "Requirement already satisfied: kiwisolver>=1.0.1 in /usr/local/lib/python3.7/dist-packages (from matplotlib->mol2vec==0.1) (1.3.2)\n",
            "Requirement already satisfied: pytz>=2017.3 in /usr/local/lib/python3.7/dist-packages (from pandas->mol2vec==0.1) (2018.9)\n",
            "Requirement already satisfied: ptyprocess>=0.5 in /usr/local/lib/python3.7/dist-packages (from pexpect->IPython->mol2vec==0.1) (0.7.0)\n",
            "Building wheels for collected packages: mol2vec\n",
            "  Building wheel for mol2vec (setup.py) ... \u001b[?25l\u001b[?25hdone\n",
            "  Created wheel for mol2vec: filename=mol2vec-0.1-py3-none-any.whl size=14038 sha256=c8ad8dceb7520e43985c5bd9945f5f42c9a34ce896b1bef50c1bf66809024455\n",
            "  Stored in directory: /tmp/pip-ephem-wheel-cache-_lofwg58/wheels/80/d5/e1/90dc211e4a17780f99eaec43328470a70284cd731ef2a77034\n",
            "Successfully built mol2vec\n",
            "Installing collected packages: mol2vec\n",
            "Successfully installed mol2vec-0.1\n"
          ]
        }
      ]
    },
    {
      "cell_type": "code",
      "source": [
        "from gensim.models import word2vec\n",
        "from mol2vec import features\n",
        "from mol2vec import helpers\n",
        "from mol2vec.features import mol2alt_sentence, mol2sentence, MolSentence, DfVec, sentences2vec"
      ],
      "metadata": {
        "id": "uen4Y98-vAPC"
      },
      "execution_count": 5,
      "outputs": []
    },
    {
      "cell_type": "markdown",
      "source": [
        "## Load Data and Preprocess"
      ],
      "metadata": {
        "id": "oe--pU2irPR-"
      }
    },
    {
      "cell_type": "code",
      "source": [
        "from google.colab import drive\n",
        "drive.mount('/content/gdrive')\n",
        "print(os.getcwd())"
      ],
      "metadata": {
        "colab": {
          "base_uri": "https://localhost:8080/"
        },
        "id": "wUnNS7gfpmAS",
        "outputId": "ce94010f-ffd4-4368-ba02-1a3eda125f22"
      },
      "execution_count": null,
      "outputs": [
        {
          "output_type": "stream",
          "name": "stdout",
          "text": [
            "Mounted at /content/gdrive\n",
            "/content\n"
          ]
        }
      ]
    },
    {
      "cell_type": "code",
      "source": [
        "# import data\n",
        "drug_dataset = pd.read_csv(\"/content/gdrive/MyDrive/Datasets/Drug Repurposing/supercompf.csv\")\n",
        "drug_dataset.shape"
      ],
      "metadata": {
        "colab": {
          "base_uri": "https://localhost:8080/"
        },
        "id": "Ck1cKfQsrWeo",
        "outputId": "7db993fd-d9ca-40c3-c3c2-8440afd1fb53"
      },
      "execution_count": 6,
      "outputs": [
        {
          "output_type": "execute_result",
          "data": {
            "text/plain": [
              "(9002, 29)"
            ]
          },
          "metadata": {},
          "execution_count": 6
        }
      ]
    },
    {
      "cell_type": "code",
      "source": [
        "drug_dataset.head()"
      ],
      "metadata": {
        "colab": {
          "base_uri": "https://localhost:8080/",
          "height": 461
        },
        "id": "OCiC7d3NseSj",
        "outputId": "a00cf5cc-699b-439e-ffd4-f093bc779daa"
      },
      "execution_count": 7,
      "outputs": [
        {
          "output_type": "execute_result",
          "data": {
            "text/html": [
              "\n",
              "  <div id=\"df-0adbc339-3ae0-46b8-b7d8-28ab51e13f95\">\n",
              "    <div class=\"colab-df-container\">\n",
              "      <div>\n",
              "<style scoped>\n",
              "    .dataframe tbody tr th:only-of-type {\n",
              "        vertical-align: middle;\n",
              "    }\n",
              "\n",
              "    .dataframe tbody tr th {\n",
              "        vertical-align: top;\n",
              "    }\n",
              "\n",
              "    .dataframe thead th {\n",
              "        text-align: right;\n",
              "    }\n",
              "</style>\n",
              "<table border=\"1\" class=\"dataframe\">\n",
              "  <thead>\n",
              "    <tr style=\"text-align: right;\">\n",
              "      <th></th>\n",
              "      <th>Unnamed: 0</th>\n",
              "      <th>ind1</th>\n",
              "      <th>ind2</th>\n",
              "      <th>vina_score</th>\n",
              "      <th>Unnamed: 3</th>\n",
              "      <th>smiles</th>\n",
              "      <th>mol</th>\n",
              "      <th>carbonyl</th>\n",
              "      <th>carboxylic acid</th>\n",
              "      <th>primary amine</th>\n",
              "      <th>alcohol</th>\n",
              "      <th>ester</th>\n",
              "      <th>amide</th>\n",
              "      <th>acid halide</th>\n",
              "      <th>fluorine halide</th>\n",
              "      <th>chlorine halide</th>\n",
              "      <th>bromine halide</th>\n",
              "      <th>iodine halide</th>\n",
              "      <th>anhydride</th>\n",
              "      <th>ether</th>\n",
              "      <th>secondary amine</th>\n",
              "      <th>enamine</th>\n",
              "      <th>alene</th>\n",
              "      <th>vinyl</th>\n",
              "      <th>phenol</th>\n",
              "      <th>fluorine</th>\n",
              "      <th>chlorine</th>\n",
              "      <th>Bromine</th>\n",
              "      <th>Iodine</th>\n",
              "    </tr>\n",
              "  </thead>\n",
              "  <tbody>\n",
              "    <tr>\n",
              "      <th>0</th>\n",
              "      <td>0</td>\n",
              "      <td>0</td>\n",
              "      <td>0</td>\n",
              "      <td>-10.6</td>\n",
              "      <td>ERGOTAMINE</td>\n",
              "      <td>CC1(C(=O)N2C(C(=O)N3CCCC3C2(O1)O)CC4=CC=CC=C4)...</td>\n",
              "      <td>&lt;rdkit.Chem.rdchem.Mol object at 0x7f562a245df0&gt;</td>\n",
              "      <td>3</td>\n",
              "      <td>0</td>\n",
              "      <td>0</td>\n",
              "      <td>1</td>\n",
              "      <td>0</td>\n",
              "      <td>3</td>\n",
              "      <td>3</td>\n",
              "      <td>0</td>\n",
              "      <td>0</td>\n",
              "      <td>0</td>\n",
              "      <td>0</td>\n",
              "      <td>0</td>\n",
              "      <td>1</td>\n",
              "      <td>0</td>\n",
              "      <td>0</td>\n",
              "      <td>0</td>\n",
              "      <td>2</td>\n",
              "      <td>0</td>\n",
              "      <td>0</td>\n",
              "      <td>0</td>\n",
              "      <td>0</td>\n",
              "      <td>0</td>\n",
              "    </tr>\n",
              "    <tr>\n",
              "      <th>1</th>\n",
              "      <td>1</td>\n",
              "      <td>1</td>\n",
              "      <td>1</td>\n",
              "      <td>-10.0</td>\n",
              "      <td>METERGOTAMINE</td>\n",
              "      <td>CC1(C(=O)N2C(C(=O)N3CCCC3C2(O1)O)CC4=CC=CC=C4)...</td>\n",
              "      <td>&lt;rdkit.Chem.rdchem.Mol object at 0x7f562a245e40&gt;</td>\n",
              "      <td>3</td>\n",
              "      <td>0</td>\n",
              "      <td>0</td>\n",
              "      <td>1</td>\n",
              "      <td>0</td>\n",
              "      <td>3</td>\n",
              "      <td>3</td>\n",
              "      <td>0</td>\n",
              "      <td>0</td>\n",
              "      <td>0</td>\n",
              "      <td>0</td>\n",
              "      <td>0</td>\n",
              "      <td>1</td>\n",
              "      <td>0</td>\n",
              "      <td>0</td>\n",
              "      <td>0</td>\n",
              "      <td>2</td>\n",
              "      <td>0</td>\n",
              "      <td>0</td>\n",
              "      <td>0</td>\n",
              "      <td>0</td>\n",
              "      <td>0</td>\n",
              "    </tr>\n",
              "    <tr>\n",
              "      <th>2</th>\n",
              "      <td>2</td>\n",
              "      <td>2</td>\n",
              "      <td>2</td>\n",
              "      <td>-9.9</td>\n",
              "      <td>ABBV-744</td>\n",
              "      <td>CCNC(=O)C1=CC2=C(N1)C(=O)N(C=C2C3=C(C=CC(=C3)C...</td>\n",
              "      <td>&lt;rdkit.Chem.rdchem.Mol object at 0x7f562a245e90&gt;</td>\n",
              "      <td>1</td>\n",
              "      <td>0</td>\n",
              "      <td>0</td>\n",
              "      <td>1</td>\n",
              "      <td>0</td>\n",
              "      <td>1</td>\n",
              "      <td>1</td>\n",
              "      <td>0</td>\n",
              "      <td>0</td>\n",
              "      <td>0</td>\n",
              "      <td>0</td>\n",
              "      <td>0</td>\n",
              "      <td>1</td>\n",
              "      <td>0</td>\n",
              "      <td>0</td>\n",
              "      <td>0</td>\n",
              "      <td>0</td>\n",
              "      <td>0</td>\n",
              "      <td>1</td>\n",
              "      <td>0</td>\n",
              "      <td>0</td>\n",
              "      <td>0</td>\n",
              "    </tr>\n",
              "    <tr>\n",
              "      <th>3</th>\n",
              "      <td>3</td>\n",
              "      <td>3</td>\n",
              "      <td>3</td>\n",
              "      <td>-9.9</td>\n",
              "      <td>DERQUANTEL</td>\n",
              "      <td>CC1(C=COC2=C(O1)C=CC3=C2NCC34CC56CN7CCC(C7(CC5...</td>\n",
              "      <td>&lt;rdkit.Chem.rdchem.Mol object at 0x7f562a245ee0&gt;</td>\n",
              "      <td>1</td>\n",
              "      <td>0</td>\n",
              "      <td>0</td>\n",
              "      <td>1</td>\n",
              "      <td>0</td>\n",
              "      <td>1</td>\n",
              "      <td>1</td>\n",
              "      <td>0</td>\n",
              "      <td>0</td>\n",
              "      <td>0</td>\n",
              "      <td>0</td>\n",
              "      <td>0</td>\n",
              "      <td>2</td>\n",
              "      <td>1</td>\n",
              "      <td>1</td>\n",
              "      <td>0</td>\n",
              "      <td>2</td>\n",
              "      <td>0</td>\n",
              "      <td>0</td>\n",
              "      <td>0</td>\n",
              "      <td>0</td>\n",
              "      <td>0</td>\n",
              "    </tr>\n",
              "    <tr>\n",
              "      <th>4</th>\n",
              "      <td>4</td>\n",
              "      <td>4</td>\n",
              "      <td>4</td>\n",
              "      <td>-9.9</td>\n",
              "      <td>MERGOCRIPTINE</td>\n",
              "      <td>CC1=C2CC3C(=CC(CN3C)C(=O)NC4(C(=O)N5C(C(=O)N6C...</td>\n",
              "      <td>&lt;rdkit.Chem.rdchem.Mol object at 0x7f562a245f30&gt;</td>\n",
              "      <td>3</td>\n",
              "      <td>0</td>\n",
              "      <td>0</td>\n",
              "      <td>1</td>\n",
              "      <td>0</td>\n",
              "      <td>3</td>\n",
              "      <td>3</td>\n",
              "      <td>0</td>\n",
              "      <td>0</td>\n",
              "      <td>0</td>\n",
              "      <td>0</td>\n",
              "      <td>0</td>\n",
              "      <td>1</td>\n",
              "      <td>0</td>\n",
              "      <td>0</td>\n",
              "      <td>0</td>\n",
              "      <td>2</td>\n",
              "      <td>0</td>\n",
              "      <td>0</td>\n",
              "      <td>0</td>\n",
              "      <td>0</td>\n",
              "      <td>0</td>\n",
              "    </tr>\n",
              "  </tbody>\n",
              "</table>\n",
              "</div>\n",
              "      <button class=\"colab-df-convert\" onclick=\"convertToInteractive('df-0adbc339-3ae0-46b8-b7d8-28ab51e13f95')\"\n",
              "              title=\"Convert this dataframe to an interactive table.\"\n",
              "              style=\"display:none;\">\n",
              "        \n",
              "  <svg xmlns=\"http://www.w3.org/2000/svg\" height=\"24px\"viewBox=\"0 0 24 24\"\n",
              "       width=\"24px\">\n",
              "    <path d=\"M0 0h24v24H0V0z\" fill=\"none\"/>\n",
              "    <path d=\"M18.56 5.44l.94 2.06.94-2.06 2.06-.94-2.06-.94-.94-2.06-.94 2.06-2.06.94zm-11 1L8.5 8.5l.94-2.06 2.06-.94-2.06-.94L8.5 2.5l-.94 2.06-2.06.94zm10 10l.94 2.06.94-2.06 2.06-.94-2.06-.94-.94-2.06-.94 2.06-2.06.94z\"/><path d=\"M17.41 7.96l-1.37-1.37c-.4-.4-.92-.59-1.43-.59-.52 0-1.04.2-1.43.59L10.3 9.45l-7.72 7.72c-.78.78-.78 2.05 0 2.83L4 21.41c.39.39.9.59 1.41.59.51 0 1.02-.2 1.41-.59l7.78-7.78 2.81-2.81c.8-.78.8-2.07 0-2.86zM5.41 20L4 18.59l7.72-7.72 1.47 1.35L5.41 20z\"/>\n",
              "  </svg>\n",
              "      </button>\n",
              "      \n",
              "  <style>\n",
              "    .colab-df-container {\n",
              "      display:flex;\n",
              "      flex-wrap:wrap;\n",
              "      gap: 12px;\n",
              "    }\n",
              "\n",
              "    .colab-df-convert {\n",
              "      background-color: #E8F0FE;\n",
              "      border: none;\n",
              "      border-radius: 50%;\n",
              "      cursor: pointer;\n",
              "      display: none;\n",
              "      fill: #1967D2;\n",
              "      height: 32px;\n",
              "      padding: 0 0 0 0;\n",
              "      width: 32px;\n",
              "    }\n",
              "\n",
              "    .colab-df-convert:hover {\n",
              "      background-color: #E2EBFA;\n",
              "      box-shadow: 0px 1px 2px rgba(60, 64, 67, 0.3), 0px 1px 3px 1px rgba(60, 64, 67, 0.15);\n",
              "      fill: #174EA6;\n",
              "    }\n",
              "\n",
              "    [theme=dark] .colab-df-convert {\n",
              "      background-color: #3B4455;\n",
              "      fill: #D2E3FC;\n",
              "    }\n",
              "\n",
              "    [theme=dark] .colab-df-convert:hover {\n",
              "      background-color: #434B5C;\n",
              "      box-shadow: 0px 1px 3px 1px rgba(0, 0, 0, 0.15);\n",
              "      filter: drop-shadow(0px 1px 2px rgba(0, 0, 0, 0.3));\n",
              "      fill: #FFFFFF;\n",
              "    }\n",
              "  </style>\n",
              "\n",
              "      <script>\n",
              "        const buttonEl =\n",
              "          document.querySelector('#df-0adbc339-3ae0-46b8-b7d8-28ab51e13f95 button.colab-df-convert');\n",
              "        buttonEl.style.display =\n",
              "          google.colab.kernel.accessAllowed ? 'block' : 'none';\n",
              "\n",
              "        async function convertToInteractive(key) {\n",
              "          const element = document.querySelector('#df-0adbc339-3ae0-46b8-b7d8-28ab51e13f95');\n",
              "          const dataTable =\n",
              "            await google.colab.kernel.invokeFunction('convertToInteractive',\n",
              "                                                     [key], {});\n",
              "          if (!dataTable) return;\n",
              "\n",
              "          const docLinkHtml = 'Like what you see? Visit the ' +\n",
              "            '<a target=\"_blank\" href=https://colab.research.google.com/notebooks/data_table.ipynb>data table notebook</a>'\n",
              "            + ' to learn more about interactive tables.';\n",
              "          element.innerHTML = '';\n",
              "          dataTable['output_type'] = 'display_data';\n",
              "          await google.colab.output.renderOutput(dataTable, element);\n",
              "          const docLink = document.createElement('div');\n",
              "          docLink.innerHTML = docLinkHtml;\n",
              "          element.appendChild(docLink);\n",
              "        }\n",
              "      </script>\n",
              "    </div>\n",
              "  </div>\n",
              "  "
            ],
            "text/plain": [
              "   Unnamed: 0  ind1  ind2  vina_score  ... fluorine chlorine Bromine  Iodine\n",
              "0           0     0     0       -10.6  ...        0        0       0       0\n",
              "1           1     1     1       -10.0  ...        0        0       0       0\n",
              "2           2     2     2        -9.9  ...        1        0       0       0\n",
              "3           3     3     3        -9.9  ...        0        0       0       0\n",
              "4           4     4     4        -9.9  ...        0        0       0       0\n",
              "\n",
              "[5 rows x 29 columns]"
            ]
          },
          "metadata": {},
          "execution_count": 7
        }
      ]
    },
    {
      "cell_type": "code",
      "source": [
        "X_full_df = drug_dataset[['smiles','vina_score']]\n",
        "print(X_full_df.shape)\n",
        "X_full_df.head()"
      ],
      "metadata": {
        "colab": {
          "base_uri": "https://localhost:8080/",
          "height": 223
        },
        "id": "RqEWDWe3yDgw",
        "outputId": "c7ca6041-3ba1-4f1b-da85-89625ce4cf5c"
      },
      "execution_count": 8,
      "outputs": [
        {
          "output_type": "stream",
          "name": "stdout",
          "text": [
            "(9002, 2)\n"
          ]
        },
        {
          "output_type": "execute_result",
          "data": {
            "text/html": [
              "\n",
              "  <div id=\"df-35258160-6aa0-4269-b759-b977e6487b90\">\n",
              "    <div class=\"colab-df-container\">\n",
              "      <div>\n",
              "<style scoped>\n",
              "    .dataframe tbody tr th:only-of-type {\n",
              "        vertical-align: middle;\n",
              "    }\n",
              "\n",
              "    .dataframe tbody tr th {\n",
              "        vertical-align: top;\n",
              "    }\n",
              "\n",
              "    .dataframe thead th {\n",
              "        text-align: right;\n",
              "    }\n",
              "</style>\n",
              "<table border=\"1\" class=\"dataframe\">\n",
              "  <thead>\n",
              "    <tr style=\"text-align: right;\">\n",
              "      <th></th>\n",
              "      <th>smiles</th>\n",
              "      <th>vina_score</th>\n",
              "    </tr>\n",
              "  </thead>\n",
              "  <tbody>\n",
              "    <tr>\n",
              "      <th>0</th>\n",
              "      <td>CC1(C(=O)N2C(C(=O)N3CCCC3C2(O1)O)CC4=CC=CC=C4)...</td>\n",
              "      <td>-10.6</td>\n",
              "    </tr>\n",
              "    <tr>\n",
              "      <th>1</th>\n",
              "      <td>CC1(C(=O)N2C(C(=O)N3CCCC3C2(O1)O)CC4=CC=CC=C4)...</td>\n",
              "      <td>-10.0</td>\n",
              "    </tr>\n",
              "    <tr>\n",
              "      <th>2</th>\n",
              "      <td>CCNC(=O)C1=CC2=C(N1)C(=O)N(C=C2C3=C(C=CC(=C3)C...</td>\n",
              "      <td>-9.9</td>\n",
              "    </tr>\n",
              "    <tr>\n",
              "      <th>3</th>\n",
              "      <td>CC1(C=COC2=C(O1)C=CC3=C2NCC34CC56CN7CCC(C7(CC5...</td>\n",
              "      <td>-9.9</td>\n",
              "    </tr>\n",
              "    <tr>\n",
              "      <th>4</th>\n",
              "      <td>CC1=C2CC3C(=CC(CN3C)C(=O)NC4(C(=O)N5C(C(=O)N6C...</td>\n",
              "      <td>-9.9</td>\n",
              "    </tr>\n",
              "  </tbody>\n",
              "</table>\n",
              "</div>\n",
              "      <button class=\"colab-df-convert\" onclick=\"convertToInteractive('df-35258160-6aa0-4269-b759-b977e6487b90')\"\n",
              "              title=\"Convert this dataframe to an interactive table.\"\n",
              "              style=\"display:none;\">\n",
              "        \n",
              "  <svg xmlns=\"http://www.w3.org/2000/svg\" height=\"24px\"viewBox=\"0 0 24 24\"\n",
              "       width=\"24px\">\n",
              "    <path d=\"M0 0h24v24H0V0z\" fill=\"none\"/>\n",
              "    <path d=\"M18.56 5.44l.94 2.06.94-2.06 2.06-.94-2.06-.94-.94-2.06-.94 2.06-2.06.94zm-11 1L8.5 8.5l.94-2.06 2.06-.94-2.06-.94L8.5 2.5l-.94 2.06-2.06.94zm10 10l.94 2.06.94-2.06 2.06-.94-2.06-.94-.94-2.06-.94 2.06-2.06.94z\"/><path d=\"M17.41 7.96l-1.37-1.37c-.4-.4-.92-.59-1.43-.59-.52 0-1.04.2-1.43.59L10.3 9.45l-7.72 7.72c-.78.78-.78 2.05 0 2.83L4 21.41c.39.39.9.59 1.41.59.51 0 1.02-.2 1.41-.59l7.78-7.78 2.81-2.81c.8-.78.8-2.07 0-2.86zM5.41 20L4 18.59l7.72-7.72 1.47 1.35L5.41 20z\"/>\n",
              "  </svg>\n",
              "      </button>\n",
              "      \n",
              "  <style>\n",
              "    .colab-df-container {\n",
              "      display:flex;\n",
              "      flex-wrap:wrap;\n",
              "      gap: 12px;\n",
              "    }\n",
              "\n",
              "    .colab-df-convert {\n",
              "      background-color: #E8F0FE;\n",
              "      border: none;\n",
              "      border-radius: 50%;\n",
              "      cursor: pointer;\n",
              "      display: none;\n",
              "      fill: #1967D2;\n",
              "      height: 32px;\n",
              "      padding: 0 0 0 0;\n",
              "      width: 32px;\n",
              "    }\n",
              "\n",
              "    .colab-df-convert:hover {\n",
              "      background-color: #E2EBFA;\n",
              "      box-shadow: 0px 1px 2px rgba(60, 64, 67, 0.3), 0px 1px 3px 1px rgba(60, 64, 67, 0.15);\n",
              "      fill: #174EA6;\n",
              "    }\n",
              "\n",
              "    [theme=dark] .colab-df-convert {\n",
              "      background-color: #3B4455;\n",
              "      fill: #D2E3FC;\n",
              "    }\n",
              "\n",
              "    [theme=dark] .colab-df-convert:hover {\n",
              "      background-color: #434B5C;\n",
              "      box-shadow: 0px 1px 3px 1px rgba(0, 0, 0, 0.15);\n",
              "      filter: drop-shadow(0px 1px 2px rgba(0, 0, 0, 0.3));\n",
              "      fill: #FFFFFF;\n",
              "    }\n",
              "  </style>\n",
              "\n",
              "      <script>\n",
              "        const buttonEl =\n",
              "          document.querySelector('#df-35258160-6aa0-4269-b759-b977e6487b90 button.colab-df-convert');\n",
              "        buttonEl.style.display =\n",
              "          google.colab.kernel.accessAllowed ? 'block' : 'none';\n",
              "\n",
              "        async function convertToInteractive(key) {\n",
              "          const element = document.querySelector('#df-35258160-6aa0-4269-b759-b977e6487b90');\n",
              "          const dataTable =\n",
              "            await google.colab.kernel.invokeFunction('convertToInteractive',\n",
              "                                                     [key], {});\n",
              "          if (!dataTable) return;\n",
              "\n",
              "          const docLinkHtml = 'Like what you see? Visit the ' +\n",
              "            '<a target=\"_blank\" href=https://colab.research.google.com/notebooks/data_table.ipynb>data table notebook</a>'\n",
              "            + ' to learn more about interactive tables.';\n",
              "          element.innerHTML = '';\n",
              "          dataTable['output_type'] = 'display_data';\n",
              "          await google.colab.output.renderOutput(dataTable, element);\n",
              "          const docLink = document.createElement('div');\n",
              "          docLink.innerHTML = docLinkHtml;\n",
              "          element.appendChild(docLink);\n",
              "        }\n",
              "      </script>\n",
              "    </div>\n",
              "  </div>\n",
              "  "
            ],
            "text/plain": [
              "                                              smiles  vina_score\n",
              "0  CC1(C(=O)N2C(C(=O)N3CCCC3C2(O1)O)CC4=CC=CC=C4)...       -10.6\n",
              "1  CC1(C(=O)N2C(C(=O)N3CCCC3C2(O1)O)CC4=CC=CC=C4)...       -10.0\n",
              "2  CCNC(=O)C1=CC2=C(N1)C(=O)N(C=C2C3=C(C=CC(=C3)C...        -9.9\n",
              "3  CC1(C=COC2=C(O1)C=CC3=C2NCC34CC56CN7CCC(C7(CC5...        -9.9\n",
              "4  CC1=C2CC3C(=CC(CN3C)C(=O)NC4(C(=O)N5C(C(=O)N6C...        -9.9"
            ]
          },
          "metadata": {},
          "execution_count": 8
        }
      ]
    },
    {
      "cell_type": "code",
      "source": [
        "X_full_df['molecules'] = X_full_df['smiles'].apply(lambda x: Chem.MolFromSmiles(x))\n",
        "X_full_df.head()"
      ],
      "metadata": {
        "colab": {
          "base_uri": "https://localhost:8080/",
          "height": 310
        },
        "id": "znsFarQhyH5Q",
        "outputId": "b4df2f3b-eaa0-4cad-f243-2a05f7439116"
      },
      "execution_count": 9,
      "outputs": [
        {
          "output_type": "stream",
          "name": "stderr",
          "text": [
            "/usr/local/lib/python3.7/dist-packages/ipykernel_launcher.py:1: SettingWithCopyWarning: \n",
            "A value is trying to be set on a copy of a slice from a DataFrame.\n",
            "Try using .loc[row_indexer,col_indexer] = value instead\n",
            "\n",
            "See the caveats in the documentation: https://pandas.pydata.org/pandas-docs/stable/user_guide/indexing.html#returning-a-view-versus-a-copy\n",
            "  \"\"\"Entry point for launching an IPython kernel.\n"
          ]
        },
        {
          "output_type": "execute_result",
          "data": {
            "text/html": [
              "\n",
              "  <div id=\"df-8c36f7f7-a284-435f-80ae-4ec14a43dbda\">\n",
              "    <div class=\"colab-df-container\">\n",
              "      <div>\n",
              "<style scoped>\n",
              "    .dataframe tbody tr th:only-of-type {\n",
              "        vertical-align: middle;\n",
              "    }\n",
              "\n",
              "    .dataframe tbody tr th {\n",
              "        vertical-align: top;\n",
              "    }\n",
              "\n",
              "    .dataframe thead th {\n",
              "        text-align: right;\n",
              "    }\n",
              "</style>\n",
              "<table border=\"1\" class=\"dataframe\">\n",
              "  <thead>\n",
              "    <tr style=\"text-align: right;\">\n",
              "      <th></th>\n",
              "      <th>smiles</th>\n",
              "      <th>vina_score</th>\n",
              "      <th>molecules</th>\n",
              "    </tr>\n",
              "  </thead>\n",
              "  <tbody>\n",
              "    <tr>\n",
              "      <th>0</th>\n",
              "      <td>CC1(C(=O)N2C(C(=O)N3CCCC3C2(O1)O)CC4=CC=CC=C4)...</td>\n",
              "      <td>-10.6</td>\n",
              "      <td>&lt;img data-content=\"rdkit/molecule\" src=\"data:i...</td>\n",
              "    </tr>\n",
              "    <tr>\n",
              "      <th>1</th>\n",
              "      <td>CC1(C(=O)N2C(C(=O)N3CCCC3C2(O1)O)CC4=CC=CC=C4)...</td>\n",
              "      <td>-10.0</td>\n",
              "      <td>&lt;img data-content=\"rdkit/molecule\" src=\"data:i...</td>\n",
              "    </tr>\n",
              "    <tr>\n",
              "      <th>2</th>\n",
              "      <td>CCNC(=O)C1=CC2=C(N1)C(=O)N(C=C2C3=C(C=CC(=C3)C...</td>\n",
              "      <td>-9.9</td>\n",
              "      <td>&lt;img data-content=\"rdkit/molecule\" src=\"data:i...</td>\n",
              "    </tr>\n",
              "    <tr>\n",
              "      <th>3</th>\n",
              "      <td>CC1(C=COC2=C(O1)C=CC3=C2NCC34CC56CN7CCC(C7(CC5...</td>\n",
              "      <td>-9.9</td>\n",
              "      <td>&lt;img data-content=\"rdkit/molecule\" src=\"data:i...</td>\n",
              "    </tr>\n",
              "    <tr>\n",
              "      <th>4</th>\n",
              "      <td>CC1=C2CC3C(=CC(CN3C)C(=O)NC4(C(=O)N5C(C(=O)N6C...</td>\n",
              "      <td>-9.9</td>\n",
              "      <td>&lt;img data-content=\"rdkit/molecule\" src=\"data:i...</td>\n",
              "    </tr>\n",
              "  </tbody>\n",
              "</table>\n",
              "</div>\n",
              "      <button class=\"colab-df-convert\" onclick=\"convertToInteractive('df-8c36f7f7-a284-435f-80ae-4ec14a43dbda')\"\n",
              "              title=\"Convert this dataframe to an interactive table.\"\n",
              "              style=\"display:none;\">\n",
              "        \n",
              "  <svg xmlns=\"http://www.w3.org/2000/svg\" height=\"24px\"viewBox=\"0 0 24 24\"\n",
              "       width=\"24px\">\n",
              "    <path d=\"M0 0h24v24H0V0z\" fill=\"none\"/>\n",
              "    <path d=\"M18.56 5.44l.94 2.06.94-2.06 2.06-.94-2.06-.94-.94-2.06-.94 2.06-2.06.94zm-11 1L8.5 8.5l.94-2.06 2.06-.94-2.06-.94L8.5 2.5l-.94 2.06-2.06.94zm10 10l.94 2.06.94-2.06 2.06-.94-2.06-.94-.94-2.06-.94 2.06-2.06.94z\"/><path d=\"M17.41 7.96l-1.37-1.37c-.4-.4-.92-.59-1.43-.59-.52 0-1.04.2-1.43.59L10.3 9.45l-7.72 7.72c-.78.78-.78 2.05 0 2.83L4 21.41c.39.39.9.59 1.41.59.51 0 1.02-.2 1.41-.59l7.78-7.78 2.81-2.81c.8-.78.8-2.07 0-2.86zM5.41 20L4 18.59l7.72-7.72 1.47 1.35L5.41 20z\"/>\n",
              "  </svg>\n",
              "      </button>\n",
              "      \n",
              "  <style>\n",
              "    .colab-df-container {\n",
              "      display:flex;\n",
              "      flex-wrap:wrap;\n",
              "      gap: 12px;\n",
              "    }\n",
              "\n",
              "    .colab-df-convert {\n",
              "      background-color: #E8F0FE;\n",
              "      border: none;\n",
              "      border-radius: 50%;\n",
              "      cursor: pointer;\n",
              "      display: none;\n",
              "      fill: #1967D2;\n",
              "      height: 32px;\n",
              "      padding: 0 0 0 0;\n",
              "      width: 32px;\n",
              "    }\n",
              "\n",
              "    .colab-df-convert:hover {\n",
              "      background-color: #E2EBFA;\n",
              "      box-shadow: 0px 1px 2px rgba(60, 64, 67, 0.3), 0px 1px 3px 1px rgba(60, 64, 67, 0.15);\n",
              "      fill: #174EA6;\n",
              "    }\n",
              "\n",
              "    [theme=dark] .colab-df-convert {\n",
              "      background-color: #3B4455;\n",
              "      fill: #D2E3FC;\n",
              "    }\n",
              "\n",
              "    [theme=dark] .colab-df-convert:hover {\n",
              "      background-color: #434B5C;\n",
              "      box-shadow: 0px 1px 3px 1px rgba(0, 0, 0, 0.15);\n",
              "      filter: drop-shadow(0px 1px 2px rgba(0, 0, 0, 0.3));\n",
              "      fill: #FFFFFF;\n",
              "    }\n",
              "  </style>\n",
              "\n",
              "      <script>\n",
              "        const buttonEl =\n",
              "          document.querySelector('#df-8c36f7f7-a284-435f-80ae-4ec14a43dbda button.colab-df-convert');\n",
              "        buttonEl.style.display =\n",
              "          google.colab.kernel.accessAllowed ? 'block' : 'none';\n",
              "\n",
              "        async function convertToInteractive(key) {\n",
              "          const element = document.querySelector('#df-8c36f7f7-a284-435f-80ae-4ec14a43dbda');\n",
              "          const dataTable =\n",
              "            await google.colab.kernel.invokeFunction('convertToInteractive',\n",
              "                                                     [key], {});\n",
              "          if (!dataTable) return;\n",
              "\n",
              "          const docLinkHtml = 'Like what you see? Visit the ' +\n",
              "            '<a target=\"_blank\" href=https://colab.research.google.com/notebooks/data_table.ipynb>data table notebook</a>'\n",
              "            + ' to learn more about interactive tables.';\n",
              "          element.innerHTML = '';\n",
              "          dataTable['output_type'] = 'display_data';\n",
              "          await google.colab.output.renderOutput(dataTable, element);\n",
              "          const docLink = document.createElement('div');\n",
              "          docLink.innerHTML = docLinkHtml;\n",
              "          element.appendChild(docLink);\n",
              "        }\n",
              "      </script>\n",
              "    </div>\n",
              "  </div>\n",
              "  "
            ],
            "text/plain": [
              "                                              smiles  ...                                          molecules\n",
              "0  CC1(C(=O)N2C(C(=O)N3CCCC3C2(O1)O)CC4=CC=CC=C4)...  ...  <img data-content=\"rdkit/molecule\" src=\"data:i...\n",
              "1  CC1(C(=O)N2C(C(=O)N3CCCC3C2(O1)O)CC4=CC=CC=C4)...  ...  <img data-content=\"rdkit/molecule\" src=\"data:i...\n",
              "2  CCNC(=O)C1=CC2=C(N1)C(=O)N(C=C2C3=C(C=CC(=C3)C...  ...  <img data-content=\"rdkit/molecule\" src=\"data:i...\n",
              "3  CC1(C=COC2=C(O1)C=CC3=C2NCC34CC56CN7CCC(C7(CC5...  ...  <img data-content=\"rdkit/molecule\" src=\"data:i...\n",
              "4  CC1=C2CC3C(=CC(CN3C)C(=O)NC4(C(=O)N5C(C(=O)N6C...  ...  <img data-content=\"rdkit/molecule\" src=\"data:i...\n",
              "\n",
              "[5 rows x 3 columns]"
            ]
          },
          "metadata": {},
          "execution_count": 9
        }
      ]
    },
    {
      "cell_type": "code",
      "source": [
        "# drop missing value, if any\n",
        "X_full_df = X_full_df.dropna(axis=0)\n",
        "X_full_df.shape"
      ],
      "metadata": {
        "colab": {
          "base_uri": "https://localhost:8080/"
        },
        "id": "sMLwGW2ByLw1",
        "outputId": "141f4552-9ac9-4222-8649-22b009fd2c80"
      },
      "execution_count": 10,
      "outputs": [
        {
          "output_type": "execute_result",
          "data": {
            "text/plain": [
              "(9002, 3)"
            ]
          },
          "metadata": {},
          "execution_count": 10
        }
      ]
    },
    {
      "cell_type": "code",
      "source": [
        "X_full_df.vina_score.describe()"
      ],
      "metadata": {
        "colab": {
          "base_uri": "https://localhost:8080/"
        },
        "id": "0gbIkgDVyNt0",
        "outputId": "55add619-a061-4431-d33e-f4e268d03a40"
      },
      "execution_count": 11,
      "outputs": [
        {
          "output_type": "execute_result",
          "data": {
            "text/plain": [
              "count    9002.000000\n",
              "mean       -6.552066\n",
              "std         1.107641\n",
              "min       -10.600000\n",
              "25%        -7.300000\n",
              "50%        -6.700000\n",
              "75%        -5.900000\n",
              "max        -1.300000\n",
              "Name: vina_score, dtype: float64"
            ]
          },
          "metadata": {},
          "execution_count": 11
        }
      ]
    },
    {
      "cell_type": "code",
      "source": [
        "plt.figure(figsize=(12,5))\n",
        "plt.subplot(1,2,1)\n",
        "sns.kdeplot(data=X_full_df['vina_score'], shade=True)\n",
        "plt.subplot(1,2,2)\n",
        "sns.boxplot(data=X_full_df['vina_score'])\n",
        "X_full_df['vina_score'].skew()"
      ],
      "metadata": {
        "colab": {
          "base_uri": "https://localhost:8080/",
          "height": 353
        },
        "id": "meOqxr9jyPqx",
        "outputId": "743e3147-053d-4864-e9d5-15506f1c9dc8"
      },
      "execution_count": 12,
      "outputs": [
        {
          "output_type": "execute_result",
          "data": {
            "text/plain": [
              "0.7008733166633144"
            ]
          },
          "metadata": {},
          "execution_count": 12
        },
        {
          "output_type": "display_data",
          "data": {
            "image/png": "[encoded data removed]",
            "text/plain": [
              "<Figure size 864x360 with 2 Axes>"
            ]
          },
          "metadata": {
            "needs_background": "light"
          }
        }
      ]
    },
    {
      "cell_type": "code",
      "source": [
        "# target variables\n",
        "y_full_df = X_full_df['vina_score']\n",
        "print(y_full_df.shape)\n",
        "y_full_df.head()"
      ],
      "metadata": {
        "colab": {
          "base_uri": "https://localhost:8080/"
        },
        "id": "oj_9c_vFySHw",
        "outputId": "d069d0e5-33af-4930-9572-e476e9d0efb4"
      },
      "execution_count": 13,
      "outputs": [
        {
          "output_type": "stream",
          "name": "stdout",
          "text": [
            "(9002,)\n"
          ]
        },
        {
          "output_type": "execute_result",
          "data": {
            "text/plain": [
              "0   -10.6\n",
              "1   -10.0\n",
              "2    -9.9\n",
              "3    -9.9\n",
              "4    -9.9\n",
              "Name: vina_score, dtype: float64"
            ]
          },
          "metadata": {},
          "execution_count": 13
        }
      ]
    },
    {
      "cell_type": "code",
      "source": [
        "X_full_df.drop(['vina_score'], axis=1, inplace=True)\n",
        "X_full_df.shape"
      ],
      "metadata": {
        "colab": {
          "base_uri": "https://localhost:8080/"
        },
        "id": "8NA9oZ9WyVwd",
        "outputId": "487ea2a2-16ca-4e59-dda6-04c8cc2f5bd3"
      },
      "execution_count": 14,
      "outputs": [
        {
          "output_type": "execute_result",
          "data": {
            "text/plain": [
              "(9002, 2)"
            ]
          },
          "metadata": {},
          "execution_count": 14
        }
      ]
    },
    {
      "cell_type": "code",
      "source": [
        "X_full_df['sentence'] = X_full_df.apply(lambda x: MolSentence(mol2alt_sentence(x['molecules'], 1)), axis=1)\n",
        "X_full_df.head()"
      ],
      "metadata": {
        "colab": {
          "base_uri": "https://localhost:8080/",
          "height": 250
        },
        "id": "S6p-m1a6yX77",
        "outputId": "beb76cd9-e2a8-4c0b-c2b7-6340ef75defb"
      },
      "execution_count": 15,
      "outputs": [
        {
          "output_type": "execute_result",
          "data": {
            "text/html": [
              "\n",
              "  <div id=\"df-67ea06fb-6ad4-4b01-8ca9-cf94ed47ea21\">\n",
              "    <div class=\"colab-df-container\">\n",
              "      <div>\n",
              "<style scoped>\n",
              "    .dataframe tbody tr th:only-of-type {\n",
              "        vertical-align: middle;\n",
              "    }\n",
              "\n",
              "    .dataframe tbody tr th {\n",
              "        vertical-align: top;\n",
              "    }\n",
              "\n",
              "    .dataframe thead th {\n",
              "        text-align: right;\n",
              "    }\n",
              "</style>\n",
              "<table border=\"1\" class=\"dataframe\">\n",
              "  <thead>\n",
              "    <tr style=\"text-align: right;\">\n",
              "      <th></th>\n",
              "      <th>smiles</th>\n",
              "      <th>molecules</th>\n",
              "      <th>sentence</th>\n",
              "    </tr>\n",
              "  </thead>\n",
              "  <tbody>\n",
              "    <tr>\n",
              "      <th>0</th>\n",
              "      <td>CC1(C(=O)N2C(C(=O)N3CCCC3C2(O1)O)CC4=CC=CC=C4)...</td>\n",
              "      <td>&lt;img data-content=\"rdkit/molecule\" src=\"data:i...</td>\n",
              "      <td>(2246728737, 1861965050, 2976816164, 417788840...</td>\n",
              "    </tr>\n",
              "    <tr>\n",
              "      <th>1</th>\n",
              "      <td>CC1(C(=O)N2C(C(=O)N3CCCC3C2(O1)O)CC4=CC=CC=C4)...</td>\n",
              "      <td>&lt;img data-content=\"rdkit/molecule\" src=\"data:i...</td>\n",
              "      <td>(2246728737, 1861965050, 2976816164, 417788840...</td>\n",
              "    </tr>\n",
              "    <tr>\n",
              "      <th>2</th>\n",
              "      <td>CCNC(=O)C1=CC2=C(N1)C(=O)N(C=C2C3=C(C=CC(=C3)C...</td>\n",
              "      <td>&lt;img data-content=\"rdkit/molecule\" src=\"data:i...</td>\n",
              "      <td>(2246728737, 3542456614, 2245384272, 773607102...</td>\n",
              "    </tr>\n",
              "    <tr>\n",
              "      <th>3</th>\n",
              "      <td>CC1(C=COC2=C(O1)C=CC3=C2NCC34CC56CN7CCC(C7(CC5...</td>\n",
              "      <td>&lt;img data-content=\"rdkit/molecule\" src=\"data:i...</td>\n",
              "      <td>(2246728737, 1861965050, 2976816164, 247601566...</td>\n",
              "    </tr>\n",
              "    <tr>\n",
              "      <th>4</th>\n",
              "      <td>CC1=C2CC3C(=CC(CN3C)C(=O)NC4(C(=O)N5C(C(=O)N6C...</td>\n",
              "      <td>&lt;img data-content=\"rdkit/molecule\" src=\"data:i...</td>\n",
              "      <td>(2246728737, 422715066, 3217380708, 1308598964...</td>\n",
              "    </tr>\n",
              "  </tbody>\n",
              "</table>\n",
              "</div>\n",
              "      <button class=\"colab-df-convert\" onclick=\"convertToInteractive('df-67ea06fb-6ad4-4b01-8ca9-cf94ed47ea21')\"\n",
              "              title=\"Convert this dataframe to an interactive table.\"\n",
              "              style=\"display:none;\">\n",
              "        \n",
              "  <svg xmlns=\"http://www.w3.org/2000/svg\" height=\"24px\"viewBox=\"0 0 24 24\"\n",
              "       width=\"24px\">\n",
              "    <path d=\"M0 0h24v24H0V0z\" fill=\"none\"/>\n",
              "    <path d=\"M18.56 5.44l.94 2.06.94-2.06 2.06-.94-2.06-.94-.94-2.06-.94 2.06-2.06.94zm-11 1L8.5 8.5l.94-2.06 2.06-.94-2.06-.94L8.5 2.5l-.94 2.06-2.06.94zm10 10l.94 2.06.94-2.06 2.06-.94-2.06-.94-.94-2.06-.94 2.06-2.06.94z\"/><path d=\"M17.41 7.96l-1.37-1.37c-.4-.4-.92-.59-1.43-.59-.52 0-1.04.2-1.43.59L10.3 9.45l-7.72 7.72c-.78.78-.78 2.05 0 2.83L4 21.41c.39.39.9.59 1.41.59.51 0 1.02-.2 1.41-.59l7.78-7.78 2.81-2.81c.8-.78.8-2.07 0-2.86zM5.41 20L4 18.59l7.72-7.72 1.47 1.35L5.41 20z\"/>\n",
              "  </svg>\n",
              "      </button>\n",
              "      \n",
              "  <style>\n",
              "    .colab-df-container {\n",
              "      display:flex;\n",
              "      flex-wrap:wrap;\n",
              "      gap: 12px;\n",
              "    }\n",
              "\n",
              "    .colab-df-convert {\n",
              "      background-color: #E8F0FE;\n",
              "      border: none;\n",
              "      border-radius: 50%;\n",
              "      cursor: pointer;\n",
              "      display: none;\n",
              "      fill: #1967D2;\n",
              "      height: 32px;\n",
              "      padding: 0 0 0 0;\n",
              "      width: 32px;\n",
              "    }\n",
              "\n",
              "    .colab-df-convert:hover {\n",
              "      background-color: #E2EBFA;\n",
              "      box-shadow: 0px 1px 2px rgba(60, 64, 67, 0.3), 0px 1px 3px 1px rgba(60, 64, 67, 0.15);\n",
              "      fill: #174EA6;\n",
              "    }\n",
              "\n",
              "    [theme=dark] .colab-df-convert {\n",
              "      background-color: #3B4455;\n",
              "      fill: #D2E3FC;\n",
              "    }\n",
              "\n",
              "    [theme=dark] .colab-df-convert:hover {\n",
              "      background-color: #434B5C;\n",
              "      box-shadow: 0px 1px 3px 1px rgba(0, 0, 0, 0.15);\n",
              "      filter: drop-shadow(0px 1px 2px rgba(0, 0, 0, 0.3));\n",
              "      fill: #FFFFFF;\n",
              "    }\n",
              "  </style>\n",
              "\n",
              "      <script>\n",
              "        const buttonEl =\n",
              "          document.querySelector('#df-67ea06fb-6ad4-4b01-8ca9-cf94ed47ea21 button.colab-df-convert');\n",
              "        buttonEl.style.display =\n",
              "          google.colab.kernel.accessAllowed ? 'block' : 'none';\n",
              "\n",
              "        async function convertToInteractive(key) {\n",
              "          const element = document.querySelector('#df-67ea06fb-6ad4-4b01-8ca9-cf94ed47ea21');\n",
              "          const dataTable =\n",
              "            await google.colab.kernel.invokeFunction('convertToInteractive',\n",
              "                                                     [key], {});\n",
              "          if (!dataTable) return;\n",
              "\n",
              "          const docLinkHtml = 'Like what you see? Visit the ' +\n",
              "            '<a target=\"_blank\" href=https://colab.research.google.com/notebooks/data_table.ipynb>data table notebook</a>'\n",
              "            + ' to learn more about interactive tables.';\n",
              "          element.innerHTML = '';\n",
              "          dataTable['output_type'] = 'display_data';\n",
              "          await google.colab.output.renderOutput(dataTable, element);\n",
              "          const docLink = document.createElement('div');\n",
              "          docLink.innerHTML = docLinkHtml;\n",
              "          element.appendChild(docLink);\n",
              "        }\n",
              "      </script>\n",
              "    </div>\n",
              "  </div>\n",
              "  "
            ],
            "text/plain": [
              "                                              smiles  ...                                           sentence\n",
              "0  CC1(C(=O)N2C(C(=O)N3CCCC3C2(O1)O)CC4=CC=CC=C4)...  ...  (2246728737, 1861965050, 2976816164, 417788840...\n",
              "1  CC1(C(=O)N2C(C(=O)N3CCCC3C2(O1)O)CC4=CC=CC=C4)...  ...  (2246728737, 1861965050, 2976816164, 417788840...\n",
              "2  CCNC(=O)C1=CC2=C(N1)C(=O)N(C=C2C3=C(C=CC(=C3)C...  ...  (2246728737, 3542456614, 2245384272, 773607102...\n",
              "3  CC1(C=COC2=C(O1)C=CC3=C2NCC34CC56CN7CCC(C7(CC5...  ...  (2246728737, 1861965050, 2976816164, 247601566...\n",
              "4  CC1=C2CC3C(=CC(CN3C)C(=O)NC4(C(=O)N5C(C(=O)N6C...  ...  (2246728737, 422715066, 3217380708, 1308598964...\n",
              "\n",
              "[5 rows x 3 columns]"
            ]
          },
          "metadata": {},
          "execution_count": 15
        }
      ]
    },
    {
      "cell_type": "code",
      "source": [
        "model = word2vec.Word2Vec.load('/content/gdrive/MyDrive/Models/model_300dim.pkl')\n",
        "X_full_df['mol2vec'] = [DfVec(x) for x in sentences2vec(X_full_df['sentence'], model, unseen='UNK')]\n",
        "X_full_df.head()"
      ],
      "metadata": {
        "colab": {
          "base_uri": "https://localhost:8080/",
          "height": 337
        },
        "id": "K38xSqmVyaaU",
        "outputId": "6b16f4b0-9b6e-4f4b-b851-d1d25ae1d190"
      },
      "execution_count": 16,
      "outputs": [
        {
          "output_type": "execute_result",
          "data": {
            "text/html": [
              "\n",
              "  <div id=\"df-617928d9-a63e-424e-bcad-c656d760daef\">\n",
              "    <div class=\"colab-df-container\">\n",
              "      <div>\n",
              "<style scoped>\n",
              "    .dataframe tbody tr th:only-of-type {\n",
              "        vertical-align: middle;\n",
              "    }\n",
              "\n",
              "    .dataframe tbody tr th {\n",
              "        vertical-align: top;\n",
              "    }\n",
              "\n",
              "    .dataframe thead th {\n",
              "        text-align: right;\n",
              "    }\n",
              "</style>\n",
              "<table border=\"1\" class=\"dataframe\">\n",
              "  <thead>\n",
              "    <tr style=\"text-align: right;\">\n",
              "      <th></th>\n",
              "      <th>smiles</th>\n",
              "      <th>molecules</th>\n",
              "      <th>sentence</th>\n",
              "      <th>mol2vec</th>\n",
              "    </tr>\n",
              "  </thead>\n",
              "  <tbody>\n",
              "    <tr>\n",
              "      <th>0</th>\n",
              "      <td>CC1(C(=O)N2C(C(=O)N3CCCC3C2(O1)O)CC4=CC=CC=C4)...</td>\n",
              "      <td>&lt;img data-content=\"rdkit/molecule\" src=\"data:i...</td>\n",
              "      <td>(2246728737, 1861965050, 2976816164, 417788840...</td>\n",
              "      <td>(300,) dimensional vector</td>\n",
              "    </tr>\n",
              "    <tr>\n",
              "      <th>1</th>\n",
              "      <td>CC1(C(=O)N2C(C(=O)N3CCCC3C2(O1)O)CC4=CC=CC=C4)...</td>\n",
              "      <td>&lt;img data-content=\"rdkit/molecule\" src=\"data:i...</td>\n",
              "      <td>(2246728737, 1861965050, 2976816164, 417788840...</td>\n",
              "      <td>(300,) dimensional vector</td>\n",
              "    </tr>\n",
              "    <tr>\n",
              "      <th>2</th>\n",
              "      <td>CCNC(=O)C1=CC2=C(N1)C(=O)N(C=C2C3=C(C=CC(=C3)C...</td>\n",
              "      <td>&lt;img data-content=\"rdkit/molecule\" src=\"data:i...</td>\n",
              "      <td>(2246728737, 3542456614, 2245384272, 773607102...</td>\n",
              "      <td>(300,) dimensional vector</td>\n",
              "    </tr>\n",
              "    <tr>\n",
              "      <th>3</th>\n",
              "      <td>CC1(C=COC2=C(O1)C=CC3=C2NCC34CC56CN7CCC(C7(CC5...</td>\n",
              "      <td>&lt;img data-content=\"rdkit/molecule\" src=\"data:i...</td>\n",
              "      <td>(2246728737, 1861965050, 2976816164, 247601566...</td>\n",
              "      <td>(300,) dimensional vector</td>\n",
              "    </tr>\n",
              "    <tr>\n",
              "      <th>4</th>\n",
              "      <td>CC1=C2CC3C(=CC(CN3C)C(=O)NC4(C(=O)N5C(C(=O)N6C...</td>\n",
              "      <td>&lt;img data-content=\"rdkit/molecule\" src=\"data:i...</td>\n",
              "      <td>(2246728737, 422715066, 3217380708, 1308598964...</td>\n",
              "      <td>(300,) dimensional vector</td>\n",
              "    </tr>\n",
              "  </tbody>\n",
              "</table>\n",
              "</div>\n",
              "      <button class=\"colab-df-convert\" onclick=\"convertToInteractive('df-617928d9-a63e-424e-bcad-c656d760daef')\"\n",
              "              title=\"Convert this dataframe to an interactive table.\"\n",
              "              style=\"display:none;\">\n",
              "        \n",
              "  <svg xmlns=\"http://www.w3.org/2000/svg\" height=\"24px\"viewBox=\"0 0 24 24\"\n",
              "       width=\"24px\">\n",
              "    <path d=\"M0 0h24v24H0V0z\" fill=\"none\"/>\n",
              "    <path d=\"M18.56 5.44l.94 2.06.94-2.06 2.06-.94-2.06-.94-.94-2.06-.94 2.06-2.06.94zm-11 1L8.5 8.5l.94-2.06 2.06-.94-2.06-.94L8.5 2.5l-.94 2.06-2.06.94zm10 10l.94 2.06.94-2.06 2.06-.94-2.06-.94-.94-2.06-.94 2.06-2.06.94z\"/><path d=\"M17.41 7.96l-1.37-1.37c-.4-.4-.92-.59-1.43-.59-.52 0-1.04.2-1.43.59L10.3 9.45l-7.72 7.72c-.78.78-.78 2.05 0 2.83L4 21.41c.39.39.9.59 1.41.59.51 0 1.02-.2 1.41-.59l7.78-7.78 2.81-2.81c.8-.78.8-2.07 0-2.86zM5.41 20L4 18.59l7.72-7.72 1.47 1.35L5.41 20z\"/>\n",
              "  </svg>\n",
              "      </button>\n",
              "      \n",
              "  <style>\n",
              "    .colab-df-container {\n",
              "      display:flex;\n",
              "      flex-wrap:wrap;\n",
              "      gap: 12px;\n",
              "    }\n",
              "\n",
              "    .colab-df-convert {\n",
              "      background-color: #E8F0FE;\n",
              "      border: none;\n",
              "      border-radius: 50%;\n",
              "      cursor: pointer;\n",
              "      display: none;\n",
              "      fill: #1967D2;\n",
              "      height: 32px;\n",
              "      padding: 0 0 0 0;\n",
              "      width: 32px;\n",
              "    }\n",
              "\n",
              "    .colab-df-convert:hover {\n",
              "      background-color: #E2EBFA;\n",
              "      box-shadow: 0px 1px 2px rgba(60, 64, 67, 0.3), 0px 1px 3px 1px rgba(60, 64, 67, 0.15);\n",
              "      fill: #174EA6;\n",
              "    }\n",
              "\n",
              "    [theme=dark] .colab-df-convert {\n",
              "      background-color: #3B4455;\n",
              "      fill: #D2E3FC;\n",
              "    }\n",
              "\n",
              "    [theme=dark] .colab-df-convert:hover {\n",
              "      background-color: #434B5C;\n",
              "      box-shadow: 0px 1px 3px 1px rgba(0, 0, 0, 0.15);\n",
              "      filter: drop-shadow(0px 1px 2px rgba(0, 0, 0, 0.3));\n",
              "      fill: #FFFFFF;\n",
              "    }\n",
              "  </style>\n",
              "\n",
              "      <script>\n",
              "        const buttonEl =\n",
              "          document.querySelector('#df-617928d9-a63e-424e-bcad-c656d760daef button.colab-df-convert');\n",
              "        buttonEl.style.display =\n",
              "          google.colab.kernel.accessAllowed ? 'block' : 'none';\n",
              "\n",
              "        async function convertToInteractive(key) {\n",
              "          const element = document.querySelector('#df-617928d9-a63e-424e-bcad-c656d760daef');\n",
              "          const dataTable =\n",
              "            await google.colab.kernel.invokeFunction('convertToInteractive',\n",
              "                                                     [key], {});\n",
              "          if (!dataTable) return;\n",
              "\n",
              "          const docLinkHtml = 'Like what you see? Visit the ' +\n",
              "            '<a target=\"_blank\" href=https://colab.research.google.com/notebooks/data_table.ipynb>data table notebook</a>'\n",
              "            + ' to learn more about interactive tables.';\n",
              "          element.innerHTML = '';\n",
              "          dataTable['output_type'] = 'display_data';\n",
              "          await google.colab.output.renderOutput(dataTable, element);\n",
              "          const docLink = document.createElement('div');\n",
              "          docLink.innerHTML = docLinkHtml;\n",
              "          element.appendChild(docLink);\n",
              "        }\n",
              "      </script>\n",
              "    </div>\n",
              "  </div>\n",
              "  "
            ],
            "text/plain": [
              "                                              smiles  ...                    mol2vec\n",
              "0  CC1(C(=O)N2C(C(=O)N3CCCC3C2(O1)O)CC4=CC=CC=C4)...  ...  (300,) dimensional vector\n",
              "1  CC1(C(=O)N2C(C(=O)N3CCCC3C2(O1)O)CC4=CC=CC=C4)...  ...  (300,) dimensional vector\n",
              "2  CCNC(=O)C1=CC2=C(N1)C(=O)N(C=C2C3=C(C=CC(=C3)C...  ...  (300,) dimensional vector\n",
              "3  CC1(C=COC2=C(O1)C=CC3=C2NCC34CC56CN7CCC(C7(CC5...  ...  (300,) dimensional vector\n",
              "4  CC1=C2CC3C(=CC(CN3C)C(=O)NC4(C(=O)N5C(C(=O)N6C...  ...  (300,) dimensional vector\n",
              "\n",
              "[5 rows x 4 columns]"
            ]
          },
          "metadata": {},
          "execution_count": 16
        }
      ]
    },
    {
      "cell_type": "code",
      "source": [
        "# get target and feature as numpy array\n",
        "X_full = np.array([x.vec for x in X_full_df['mol2vec']])\n",
        "y_full = np.array(y_full_df)\n",
        "print(X_full.shape)\n",
        "print(y_full.shape)"
      ],
      "metadata": {
        "colab": {
          "base_uri": "https://localhost:8080/"
        },
        "id": "Z-KFro-syrQG",
        "outputId": "b4de2553-f3f7-4f7a-9b2f-5d2002b3ea37"
      },
      "execution_count": 17,
      "outputs": [
        {
          "output_type": "stream",
          "name": "stdout",
          "text": [
            "(9002, 300)\n",
            "(9002,)\n"
          ]
        }
      ]
    },
    {
      "cell_type": "code",
      "source": [
        "# split data in train and test set\n",
        "X_train,X_test,y_train,y_test = train_test_split(X_full, y_full, test_size=0.2, random_state=1)"
      ],
      "metadata": {
        "id": "EDNmxQUwy3TD"
      },
      "execution_count": 18,
      "outputs": []
    },
    {
      "cell_type": "code",
      "source": [
        "# convert numpy arrays into tensor\n",
        "X_train = tf.convert_to_tensor(X_train)\n",
        "X_test = tf.convert_to_tensor(X_test)\n",
        "y_train = tf.convert_to_tensor(y_train)\n",
        "y_test = tf.convert_to_tensor(y_test)"
      ],
      "metadata": {
        "id": "3dsxhkyGaFCO"
      },
      "execution_count": 19,
      "outputs": []
    },
    {
      "cell_type": "code",
      "source": [
        "# normalize the input tensors\n",
        "normalizer = tf.keras.layers.Normalization(axis=-1)\n",
        "normalizer.adapt(X_train)\n",
        "print(normalizer.mean.shape)\n",
        "print(normalizer.variance.shape)"
      ],
      "metadata": {
        "colab": {
          "base_uri": "https://localhost:8080/"
        },
        "id": "NM5T7FazABdc",
        "outputId": "6eef9e95-b7eb-4778-ec7c-adb711633d38"
      },
      "execution_count": 20,
      "outputs": [
        {
          "output_type": "stream",
          "name": "stdout",
          "text": [
            "(1, 300)\n",
            "(1, 300)\n"
          ]
        }
      ]
    },
    {
      "cell_type": "markdown",
      "source": [
        "## Training the model"
      ],
      "metadata": {
        "id": "acZDqx63HJPY"
      }
    },
    {
      "cell_type": "code",
      "source": [
        "BUFFER_SIZE = 10000\n",
        "BATCH_SIZE = 32\n",
        "STEPS_PER_EPOCH = X_train.shape[0]//BATCH_SIZE\n",
        "NUM_EPOCHS = 150"
      ],
      "metadata": {
        "id": "skBeX2pjuLbm"
      },
      "execution_count": 21,
      "outputs": []
    },
    {
      "cell_type": "code",
      "source": [
        "# get tf datasets\n",
        "train_dataset = tf.data.Dataset.from_tensor_slices((X_train, y_train)).shuffle(BUFFER_SIZE, seed=1).batch(BATCH_SIZE)\n",
        "test_dataset = tf.data.Dataset.from_tensor_slices((X_test, y_test)).shuffle(BUFFER_SIZE, seed=1).batch(BATCH_SIZE)"
      ],
      "metadata": {
        "id": "dmNDJooK8XsL"
      },
      "execution_count": 22,
      "outputs": []
    },
    {
      "cell_type": "code",
      "source": [
        "# Schedule to decrease the learning rate for better training\n",
        "lr_schedule = tf.keras.optimizers.schedules.InverseTimeDecay(initial_learning_rate=0.001, decay_steps=STEPS_PER_EPOCH*20, \n",
        "                                                             decay_rate=1, staircase=False)\n",
        "\n",
        "# Early stopping to stop unnecessary training\n",
        "def get_callbacks():\n",
        "  return tf.keras.callbacks.EarlyStopping(monitor='val_mean_squared_error', patience=25)"
      ],
      "metadata": {
        "id": "fLPn5ycxuSzK"
      },
      "execution_count": 23,
      "outputs": []
    },
    {
      "cell_type": "code",
      "source": [
        "def conv_model(input_shape=(300,)):\n",
        "    \"\"\"\n",
        "    DNN model for prediction of vina scores\n",
        "    Argument:\n",
        "    input_shape = shape of one feature vector\n",
        "    \"\"\"\n",
        "    inputs = tf.keras.Input(shape=input_shape)\n",
        "    x = normalizer(inputs)\n",
        "    x = layers.Dense(4096, activation = 'relu')(x)\n",
        "    x = layers.Reshape((64,64,1))(x)\n",
        "    x = layers.Conv2D(16, (3, 3), strides = 1, padding = 'same')(x)\n",
        "    x = layers.BatchNormalization(axis = 3)(x)\n",
        "    x = layers.ReLU()(x)\n",
        "    x = layers.MaxPool2D(pool_size = (2, 2), strides = 2)(x)\n",
        "    x = layers.Flatten()(x)\n",
        "    x = layers.Dropout(0.2)(x)\n",
        "    x = layers.Dense(256, activation = 'relu',kernel_regularizer=tf.keras.regularizers.l2(0.0001))(x)\n",
        "    outputs = layers.Dense(1)(x)\n",
        "    model = tf.keras.Model(inputs=inputs, outputs=outputs)\n",
        "\n",
        "    return model"
      ],
      "metadata": {
        "id": "16L9-GonDuRJ"
      },
      "execution_count": 24,
      "outputs": []
    },
    {
      "cell_type": "code",
      "source": [
        "drug_model = conv_model()\n",
        "drug_model.compile(optimizer=tf.keras.optimizers.Adam(learning_rate=lr_schedule),\n",
        "                  loss=tf.keras.losses.MeanSquaredError(),\n",
        "                  metrics=['mean_squared_error', 'mean_absolute_error'])\n",
        "drug_model.summary()"
      ],
      "metadata": {
        "colab": {
          "base_uri": "https://localhost:8080/"
        },
        "id": "5DK2YXX3JvAe",
        "outputId": "8d13f5a5-2416-415b-a5fd-a869bb81da88"
      },
      "execution_count": 30,
      "outputs": [
        {
          "output_type": "stream",
          "name": "stdout",
          "text": [
            "Model: \"model_1\"\n",
            "_________________________________________________________________\n",
            " Layer (type)                Output Shape              Param #   \n",
            "=================================================================\n",
            " input_2 (InputLayer)        [(None, 300)]             0         \n",
            "                                                                 \n",
            " normalization (Normalizatio  (None, 300)              601       \n",
            " n)                                                              \n",
            "                                                                 \n",
            " dense_3 (Dense)             (None, 4096)              1232896   \n",
            "                                                                 \n",
            " reshape_1 (Reshape)         (None, 64, 64, 1)         0         \n",
            "                                                                 \n",
            " conv2d_1 (Conv2D)           (None, 64, 64, 16)        160       \n",
            "                                                                 \n",
            " batch_normalization_1 (Batc  (None, 64, 64, 16)       64        \n",
            " hNormalization)                                                 \n",
            "                                                                 \n",
            " re_lu_1 (ReLU)              (None, 64, 64, 16)        0         \n",
            "                                                                 \n",
            " max_pooling2d_1 (MaxPooling  (None, 32, 32, 16)       0         \n",
            " 2D)                                                             \n",
            "                                                                 \n",
            " flatten_1 (Flatten)         (None, 16384)             0         \n",
            "                                                                 \n",
            " dropout_1 (Dropout)         (None, 16384)             0         \n",
            "                                                                 \n",
            " dense_4 (Dense)             (None, 256)               4194560   \n",
            "                                                                 \n",
            " dense_5 (Dense)             (None, 1)                 257       \n",
            "                                                                 \n",
            "=================================================================\n",
            "Total params: 5,428,538\n",
            "Trainable params: 5,427,905\n",
            "Non-trainable params: 633\n",
            "_________________________________________________________________\n"
          ]
        }
      ]
    },
    {
      "cell_type": "code",
      "source": [
        "#history = drug_model.fit(X_train, y_train, batch_size=BATCH_SIZE, epochs=NUM_EPOCHS, validation_data=(X_test,y_test), callbacks=get_callbacks())\n",
        "history = drug_model.fit(train_dataset, epochs=BATCH_SIZE, validation_data=test_dataset, callbacks=get_callbacks())"
      ],
      "metadata": {
        "colab": {
          "base_uri": "https://localhost:8080/"
        },
        "id": "_1F9D-wVPGsG",
        "outputId": "14d15722-7ae0-481f-ad84-ba89a1ea4c8b"
      },
      "execution_count": 31,
      "outputs": [
        {
          "output_type": "stream",
          "name": "stdout",
          "text": [
            "Epoch 1/150\n",
            "226/226 [==============================] - 4s 16ms/step - loss: 91.3418 - mean_squared_error: 91.2809 - mean_absolute_error: 1.9951 - val_loss: 16.8405 - val_mean_squared_error: 16.7790 - val_mean_absolute_error: 4.0118\n",
            "Epoch 2/150\n",
            "226/226 [==============================] - 3s 15ms/step - loss: 0.5323 - mean_squared_error: 0.4711 - mean_absolute_error: 0.5167 - val_loss: 2.2070 - val_mean_squared_error: 2.1461 - val_mean_absolute_error: 1.3790\n",
            "Epoch 3/150\n",
            "226/226 [==============================] - 3s 12ms/step - loss: 0.4419 - mean_squared_error: 0.3813 - mean_absolute_error: 0.4572 - val_loss: 0.3784 - val_mean_squared_error: 0.3182 - val_mean_absolute_error: 0.3998\n",
            "Epoch 4/150\n",
            "226/226 [==============================] - 3s 14ms/step - loss: 0.4417 - mean_squared_error: 0.3818 - mean_absolute_error: 0.4556 - val_loss: 0.4498 - val_mean_squared_error: 0.3902 - val_mean_absolute_error: 0.4484\n",
            "Epoch 5/150\n",
            "226/226 [==============================] - 3s 14ms/step - loss: 0.4256 - mean_squared_error: 0.3664 - mean_absolute_error: 0.4419 - val_loss: 0.4854 - val_mean_squared_error: 0.4265 - val_mean_absolute_error: 0.5121\n",
            "Epoch 6/150\n",
            "226/226 [==============================] - 3s 14ms/step - loss: 0.3745 - mean_squared_error: 0.3160 - mean_absolute_error: 0.4100 - val_loss: 0.3594 - val_mean_squared_error: 0.3012 - val_mean_absolute_error: 0.3884\n",
            "Epoch 7/150\n",
            "226/226 [==============================] - 3s 14ms/step - loss: 0.3473 - mean_squared_error: 0.2895 - mean_absolute_error: 0.3966 - val_loss: 0.4492 - val_mean_squared_error: 0.3918 - val_mean_absolute_error: 0.4922\n",
            "Epoch 8/150\n",
            "226/226 [==============================] - 3s 12ms/step - loss: 0.3598 - mean_squared_error: 0.3026 - mean_absolute_error: 0.4019 - val_loss: 0.3777 - val_mean_squared_error: 0.3209 - val_mean_absolute_error: 0.4146\n",
            "Epoch 9/150\n",
            "226/226 [==============================] - 3s 13ms/step - loss: 0.3340 - mean_squared_error: 0.2775 - mean_absolute_error: 0.3802 - val_loss: 0.4538 - val_mean_squared_error: 0.3976 - val_mean_absolute_error: 0.4788\n",
            "Epoch 10/150\n",
            "226/226 [==============================] - 5s 21ms/step - loss: 0.3413 - mean_squared_error: 0.2855 - mean_absolute_error: 0.3877 - val_loss: 0.3366 - val_mean_squared_error: 0.2811 - val_mean_absolute_error: 0.3638\n",
            "Epoch 11/150\n",
            "226/226 [==============================] - 4s 17ms/step - loss: 0.3130 - mean_squared_error: 0.2579 - mean_absolute_error: 0.3689 - val_loss: 0.2879 - val_mean_squared_error: 0.2330 - val_mean_absolute_error: 0.3337\n",
            "Epoch 12/150\n",
            "226/226 [==============================] - 4s 16ms/step - loss: 0.2984 - mean_squared_error: 0.2439 - mean_absolute_error: 0.3610 - val_loss: 0.2968 - val_mean_squared_error: 0.2427 - val_mean_absolute_error: 0.3379\n",
            "Epoch 13/150\n",
            "226/226 [==============================] - 4s 18ms/step - loss: 0.2901 - mean_squared_error: 0.2363 - mean_absolute_error: 0.3555 - val_loss: 0.3334 - val_mean_squared_error: 0.2800 - val_mean_absolute_error: 0.3812\n",
            "Epoch 14/150\n",
            "226/226 [==============================] - 5s 21ms/step - loss: 0.2601 - mean_squared_error: 0.2070 - mean_absolute_error: 0.3301 - val_loss: 0.3234 - val_mean_squared_error: 0.2707 - val_mean_absolute_error: 0.3636\n",
            "Epoch 15/150\n",
            "226/226 [==============================] - 3s 12ms/step - loss: 0.2593 - mean_squared_error: 0.2069 - mean_absolute_error: 0.3325 - val_loss: 0.2931 - val_mean_squared_error: 0.2411 - val_mean_absolute_error: 0.3431\n",
            "Epoch 16/150\n",
            "226/226 [==============================] - 3s 12ms/step - loss: 0.2640 - mean_squared_error: 0.2123 - mean_absolute_error: 0.3365 - val_loss: 0.2780 - val_mean_squared_error: 0.2266 - val_mean_absolute_error: 0.3310\n",
            "Epoch 17/150\n",
            "226/226 [==============================] - 3s 12ms/step - loss: 0.2457 - mean_squared_error: 0.1947 - mean_absolute_error: 0.3198 - val_loss: 0.2975 - val_mean_squared_error: 0.2469 - val_mean_absolute_error: 0.3564\n",
            "Epoch 18/150\n",
            "226/226 [==============================] - 3s 12ms/step - loss: 0.2330 - mean_squared_error: 0.1827 - mean_absolute_error: 0.3109 - val_loss: 0.3721 - val_mean_squared_error: 0.3222 - val_mean_absolute_error: 0.4361\n",
            "Epoch 19/150\n",
            "226/226 [==============================] - 3s 12ms/step - loss: 0.2262 - mean_squared_error: 0.1766 - mean_absolute_error: 0.3076 - val_loss: 0.2944 - val_mean_squared_error: 0.2452 - val_mean_absolute_error: 0.3515\n",
            "Epoch 20/150\n",
            "226/226 [==============================] - 3s 12ms/step - loss: 0.2275 - mean_squared_error: 0.1786 - mean_absolute_error: 0.3086 - val_loss: 0.3044 - val_mean_squared_error: 0.2560 - val_mean_absolute_error: 0.3640\n",
            "Epoch 21/150\n",
            "226/226 [==============================] - 3s 12ms/step - loss: 0.2144 - mean_squared_error: 0.1663 - mean_absolute_error: 0.2962 - val_loss: 0.2802 - val_mean_squared_error: 0.2325 - val_mean_absolute_error: 0.3337\n",
            "Epoch 22/150\n",
            "226/226 [==============================] - 3s 12ms/step - loss: 0.2134 - mean_squared_error: 0.1660 - mean_absolute_error: 0.2958 - val_loss: 0.8581 - val_mean_squared_error: 0.8112 - val_mean_absolute_error: 0.7878\n",
            "Epoch 23/150\n",
            "226/226 [==============================] - 3s 12ms/step - loss: 0.2810 - mean_squared_error: 0.2344 - mean_absolute_error: 0.3459 - val_loss: 0.2770 - val_mean_squared_error: 0.2307 - val_mean_absolute_error: 0.3321\n",
            "Epoch 24/150\n",
            "226/226 [==============================] - 3s 12ms/step - loss: 0.2058 - mean_squared_error: 0.1599 - mean_absolute_error: 0.2881 - val_loss: 0.4398 - val_mean_squared_error: 0.3943 - val_mean_absolute_error: 0.4887\n",
            "Epoch 25/150\n",
            "226/226 [==============================] - 3s 12ms/step - loss: 0.2197 - mean_squared_error: 0.1746 - mean_absolute_error: 0.3011 - val_loss: 0.3065 - val_mean_squared_error: 0.2618 - val_mean_absolute_error: 0.3611\n",
            "Epoch 26/150\n",
            "226/226 [==============================] - 3s 12ms/step - loss: 0.2031 - mean_squared_error: 0.1588 - mean_absolute_error: 0.2889 - val_loss: 0.2892 - val_mean_squared_error: 0.2452 - val_mean_absolute_error: 0.3518\n",
            "Epoch 27/150\n",
            "226/226 [==============================] - 3s 12ms/step - loss: 0.1993 - mean_squared_error: 0.1558 - mean_absolute_error: 0.2861 - val_loss: 0.2799 - val_mean_squared_error: 0.2368 - val_mean_absolute_error: 0.3355\n",
            "Epoch 28/150\n",
            "226/226 [==============================] - 3s 12ms/step - loss: 0.1913 - mean_squared_error: 0.1485 - mean_absolute_error: 0.2793 - val_loss: 0.2908 - val_mean_squared_error: 0.2484 - val_mean_absolute_error: 0.3611\n",
            "Epoch 29/150\n",
            "226/226 [==============================] - 3s 12ms/step - loss: 0.1851 - mean_squared_error: 0.1432 - mean_absolute_error: 0.2757 - val_loss: 0.2930 - val_mean_squared_error: 0.2515 - val_mean_absolute_error: 0.3562\n",
            "Epoch 30/150\n",
            "226/226 [==============================] - 3s 12ms/step - loss: 0.1773 - mean_squared_error: 0.1361 - mean_absolute_error: 0.2633 - val_loss: 0.2815 - val_mean_squared_error: 0.2408 - val_mean_absolute_error: 0.3427\n",
            "Epoch 31/150\n",
            "226/226 [==============================] - 3s 12ms/step - loss: 0.1771 - mean_squared_error: 0.1368 - mean_absolute_error: 0.2626 - val_loss: 0.2781 - val_mean_squared_error: 0.2382 - val_mean_absolute_error: 0.3363\n",
            "Epoch 32/150\n",
            "226/226 [==============================] - 3s 12ms/step - loss: 0.1868 - mean_squared_error: 0.1472 - mean_absolute_error: 0.2803 - val_loss: 0.2956 - val_mean_squared_error: 0.2565 - val_mean_absolute_error: 0.3612\n",
            "Epoch 33/150\n",
            "226/226 [==============================] - 3s 12ms/step - loss: 0.1887 - mean_squared_error: 0.1500 - mean_absolute_error: 0.2779 - val_loss: 0.3103 - val_mean_squared_error: 0.2720 - val_mean_absolute_error: 0.3780\n",
            "Epoch 34/150\n",
            "226/226 [==============================] - 3s 12ms/step - loss: 0.1728 - mean_squared_error: 0.1349 - mean_absolute_error: 0.2626 - val_loss: 0.2759 - val_mean_squared_error: 0.2384 - val_mean_absolute_error: 0.3465\n",
            "Epoch 35/150\n",
            "226/226 [==============================] - 3s 12ms/step - loss: 0.1671 - mean_squared_error: 0.1300 - mean_absolute_error: 0.2560 - val_loss: 0.2968 - val_mean_squared_error: 0.2601 - val_mean_absolute_error: 0.3531\n",
            "Epoch 36/150\n",
            "226/226 [==============================] - 3s 15ms/step - loss: 0.1584 - mean_squared_error: 0.1221 - mean_absolute_error: 0.2467 - val_loss: 0.2849 - val_mean_squared_error: 0.2490 - val_mean_absolute_error: 0.3598\n",
            "Epoch 37/150\n",
            "226/226 [==============================] - 3s 12ms/step - loss: 0.1641 - mean_squared_error: 0.1285 - mean_absolute_error: 0.2575 - val_loss: 0.2645 - val_mean_squared_error: 0.2294 - val_mean_absolute_error: 0.3299\n",
            "Epoch 38/150\n",
            "226/226 [==============================] - 3s 12ms/step - loss: 0.1631 - mean_squared_error: 0.1283 - mean_absolute_error: 0.2538 - val_loss: 0.2701 - val_mean_squared_error: 0.2358 - val_mean_absolute_error: 0.3361\n",
            "Epoch 39/150\n",
            "226/226 [==============================] - 3s 12ms/step - loss: 0.1572 - mean_squared_error: 0.1232 - mean_absolute_error: 0.2515 - val_loss: 0.3028 - val_mean_squared_error: 0.2692 - val_mean_absolute_error: 0.3849\n",
            "Epoch 40/150\n",
            "226/226 [==============================] - 3s 12ms/step - loss: 0.1508 - mean_squared_error: 0.1175 - mean_absolute_error: 0.2471 - val_loss: 0.2651 - val_mean_squared_error: 0.2323 - val_mean_absolute_error: 0.3341\n",
            "Epoch 41/150\n",
            "226/226 [==============================] - 3s 12ms/step - loss: 0.1551 - mean_squared_error: 0.1226 - mean_absolute_error: 0.2553 - val_loss: 0.2605 - val_mean_squared_error: 0.2284 - val_mean_absolute_error: 0.3347\n"
          ]
        }
      ]
    },
    {
      "cell_type": "code",
      "source": [
        "# plot training and validation losses to get an idea of overfitting and underfitting\n",
        "df_loss_full = pd.DataFrame(history.history)\n",
        "df_loss= df_loss_full[['loss','val_loss']]\n",
        "df_loss.rename(columns={'loss':'train','val_loss':'validation'},inplace=True)\n",
        "df_mse= df_loss_full[['mean_squared_error','val_mean_squared_error']]\n",
        "df_mse.rename(columns={'accuracy':'train','val_accuracy':'validation'},inplace=True)\n",
        "df_mae= df_loss_full[['mean_absolute_error','val_mean_absolute_error']]\n",
        "df_mae.rename(columns={'accuracy':'train','val_accuracy':'validation'},inplace=True)\n",
        "df_loss.plot(title='Model loss',figsize=(8,5)).set(xlabel='Epoch',ylabel='Loss')\n",
        "df_mse.plot(title='Model Mean Squared Error',figsize=(8,5)).set(xlabel='Epoch',ylabel='MSE')\n",
        "df_mae.plot(title='Model Mean_absolute_error',figsize=(8,5)).set(xlabel='Epoch',ylabel='MAE')"
      ],
      "metadata": {
        "colab": {
          "base_uri": "https://localhost:8080/",
          "height": 1000
        },
        "id": "dtVEpCTqP70o",
        "outputId": "ce465fd6-f7c8-421e-a63d-506299cc837d"
      },
      "execution_count": 32,
      "outputs": [
        {
          "output_type": "stream",
          "name": "stderr",
          "text": [
            "/usr/local/lib/python3.7/dist-packages/pandas/core/frame.py:5047: SettingWithCopyWarning: \n",
            "A value is trying to be set on a copy of a slice from a DataFrame\n",
            "\n",
            "See the caveats in the documentation: https://pandas.pydata.org/pandas-docs/stable/user_guide/indexing.html#returning-a-view-versus-a-copy\n",
            "  errors=errors,\n"
          ]
        },
        {
          "output_type": "execute_result",
          "data": {
            "text/plain": [
              "[Text(0, 0.5, 'MAE'), Text(0.5, 0, 'Epoch')]"
            ]
          },
          "metadata": {},
          "execution_count": 32
        },
        {
          "output_type": "display_data",
          "data": {
            "image/png": "[encoded data removed]",
            "text/plain": [
              "<Figure size 576x360 with 1 Axes>"
            ]
          },
          "metadata": {}
        },
        {
          "output_type": "display_data",
          "data": {
            "image/png": "[encoded data removed]",
            "text/plain": [
              "<Figure size 576x360 with 1 Axes>"
            ]
          },
          "metadata": {}
        },
        {
          "output_type": "display_data",
          "data": {
            "image/png": "[encoded data removed]",
            "text/plain": [
              "<Figure size 576x360 with 1 Axes>"
            ]
          },
          "metadata": {}
        }
      ]
    },
    {
      "cell_type": "code",
      "source": [
        "test_predictions = drug_model.predict(X_test)\n",
        "mae,mse,r_square = mean_absolute_error(y_test,test_predictions),mean_squared_error(y_test,test_predictions),r2_score(y_test,test_predictions)\n",
        "print('MAE score : {:.4f}'.format(mae))\n",
        "print('MSE score : {:.4f}'.format(mse))\n",
        "print('r2 score : {:.4f}'.format(r_square))"
      ],
      "metadata": {
        "colab": {
          "base_uri": "https://localhost:8080/"
        },
        "id": "aiXlT37HiRJT",
        "outputId": "aa307eb8-916d-40e1-d51d-18c6a68a4777"
      },
      "execution_count": 33,
      "outputs": [
        {
          "output_type": "stream",
          "name": "stdout",
          "text": [
            "MAE score : 0.3347\n",
            "MSE score : 0.2284\n",
            "r2 score : 0.8170\n"
          ]
        }
      ]
    },
    {
      "cell_type": "code",
      "source": [
        "sns.set(color_codes=True)\n",
        "sns.set_style(\"white\")\n",
        "\n",
        "ax = sns.regplot(y_test, test_predictions, scatter_kws={'alpha':0.4})\n",
        "ax.set_xlabel('True Vina Score', fontsize='large', fontweight='bold')\n",
        "ax.set_ylabel('Predicted Vina Score', fontsize='large', fontweight='bold')\n",
        "ax.set_xlim(-10, 0)\n",
        "ax.set_ylim(-10, 0)\n",
        "ax.figure.set_size_inches(6, 6)\n",
        "plt.show"
      ],
      "metadata": {
        "id": "V7QllUAkTnrC",
        "colab": {
          "base_uri": "https://localhost:8080/",
          "height": 471
        },
        "outputId": "a53b1147-d350-4107-ac11-fd56197b079d"
      },
      "execution_count": 34,
      "outputs": [
        {
          "output_type": "stream",
          "name": "stderr",
          "text": [
            "/usr/local/lib/python3.7/dist-packages/seaborn/_decorators.py:43: FutureWarning: Pass the following variables as keyword args: x, y. From version 0.12, the only valid positional argument will be `data`, and passing other arguments without an explicit keyword will result in an error or misinterpretation.\n",
            "  FutureWarning\n"
          ]
        },
        {
          "output_type": "execute_result",
          "data": {
            "text/plain": [
              "<function matplotlib.pyplot.show>"
            ]
          },
          "metadata": {},
          "execution_count": 34
        },
        {
          "output_type": "display_data",
          "data": {
            "image/png": "[encoded data removed]",
            "text/plain": [
              "<Figure size 432x432 with 1 Axes>"
            ]
          },
          "metadata": {}
        }
      ]
    }
  ]
}