{
 "cells": [
  {
   "cell_type": "code",
   "execution_count": 61,
   "metadata": {
    "executionInfo": {
     "elapsed": 1520,
     "status": "ok",
     "timestamp": 1643987580891,
     "user": {
      "displayName": "Ratul Mali",
      "photoUrl": "https://lh3.googleusercontent.com/a/default-user=s64",
      "userId": "15812466021162346003"
     },
     "user_tz": -330
    },
    "id": "7av1DO9YrsGC"
   },
   "outputs": [],
   "source": [
    "# Basic Libraries\n",
    "import os\n",
    "import sys\n",
    "import numpy as np\n",
    "import pandas as pd\n",
    "import matplotlib.pyplot as plt\n",
    "import seaborn as sns\n",
    "import random\n",
    "%matplotlib inline\n",
    "\n",
    "# For ML\n",
    "from sklearn.preprocessing import StandardScaler\n",
    "from sklearn.model_selection import train_test_split,RandomizedSearchCV,GridSearchCV,cross_val_score\n",
    "from sklearn.metrics import mean_absolute_error,mean_squared_error,r2_score\n",
    "from sklearn.ensemble import RandomForestRegressor\n",
    "from sklearn.svm import SVR\n",
    "from xgboost import XGBRegressor\n",
    "import lazypredict\n",
    "from lazypredict.Supervised import LazyRegressor"
   ]
  },
  {
   "cell_type": "code",
   "execution_count": 2,
   "metadata": {
    "colab": {
     "base_uri": "https://localhost:8080/"
    },
    "executionInfo": {
     "elapsed": 4,
     "status": "ok",
     "timestamp": 1643987594726,
     "user": {
      "displayName": "Ratul Mali",
      "photoUrl": "https://lh3.googleusercontent.com/a/default-user=s64",
      "userId": "15812466021162346003"
     },
     "user_tz": -330
    },
    "id": "mOZLC4KzsXpW",
    "outputId": "1cb6d4d9-b524-44c5-eddc-40c9528d7ce0"
   },
   "outputs": [
    {
     "name": "stdout",
     "output_type": "stream",
     "text": [
      "2020.09.1\n"
     ]
    }
   ],
   "source": [
    "from rdkit import rdBase\n",
    "from rdkit import Chem\n",
    "print(rdBase.rdkitVersion)"
   ]
  },
  {
   "cell_type": "code",
   "execution_count": 15,
   "metadata": {
    "colab": {
     "base_uri": "https://localhost:8080/"
    },
    "executionInfo": {
     "elapsed": 18519,
     "status": "ok",
     "timestamp": 1643987613842,
     "user": {
      "displayName": "Ratul Mali",
      "photoUrl": "https://lh3.googleusercontent.com/a/default-user=s64",
      "userId": "15812466021162346003"
     },
     "user_tz": -330
    },
    "id": "edTucmh6urh8",
    "outputId": "ced26b5a-c218-4491-f35c-59e29d2db751"
   },
   "outputs": [
    {
     "name": "stdout",
     "output_type": "stream",
     "text": [
      "Collecting git+https://github.com/samoturk/mol2vec\n",
      "  Cloning https://github.com/samoturk/mol2vec to c:\\users\\ratul\\appdata\\local\\temp\\pip-req-build-smoa1f2u\n",
      "  Resolved https://github.com/samoturk/mol2vec to commit 850d944d5f48a58e26ed0264332b5741f72555aa\n",
      "Requirement already satisfied: numpy in c:\\users\\ratul\\anaconda3\\envs\\my-rdkit-env\\lib\\site-packages (from mol2vec==0.1) (1.21.2)\n",
      "Requirement already satisfied: gensim in c:\\users\\ratul\\anaconda3\\envs\\my-rdkit-env\\lib\\site-packages (from mol2vec==0.1) (4.1.2)\n",
      "Requirement already satisfied: tqdm in c:\\users\\ratul\\anaconda3\\envs\\my-rdkit-env\\lib\\site-packages (from mol2vec==0.1) (4.62.3)\n",
      "Requirement already satisfied: joblib in c:\\users\\ratul\\anaconda3\\envs\\my-rdkit-env\\lib\\site-packages (from mol2vec==0.1) (1.1.0)\n",
      "Requirement already satisfied: pandas in c:\\users\\ratul\\anaconda3\\envs\\my-rdkit-env\\lib\\site-packages (from mol2vec==0.1) (1.3.5)\n",
      "Requirement already satisfied: matplotlib in c:\\users\\ratul\\anaconda3\\envs\\my-rdkit-env\\lib\\site-packages (from mol2vec==0.1) (3.5.1)\n",
      "Requirement already satisfied: IPython in c:\\users\\ratul\\anaconda3\\envs\\my-rdkit-env\\lib\\site-packages (from mol2vec==0.1) (7.31.1)\n",
      "Requirement already satisfied: seaborn in c:\\users\\ratul\\anaconda3\\envs\\my-rdkit-env\\lib\\site-packages (from mol2vec==0.1) (0.11.2)\n",
      "Requirement already satisfied: smart-open>=1.8.1 in c:\\users\\ratul\\anaconda3\\envs\\my-rdkit-env\\lib\\site-packages (from gensim->mol2vec==0.1) (5.2.1)\n",
      "Requirement already satisfied: scipy>=0.18.1 in c:\\users\\ratul\\anaconda3\\envs\\my-rdkit-env\\lib\\site-packages (from gensim->mol2vec==0.1) (1.7.3)\n",
      "Requirement already satisfied: Cython==0.29.23 in c:\\users\\ratul\\anaconda3\\envs\\my-rdkit-env\\lib\\site-packages (from gensim->mol2vec==0.1) (0.29.23)\n",
      "Requirement already satisfied: backcall in c:\\users\\ratul\\anaconda3\\envs\\my-rdkit-env\\lib\\site-packages (from IPython->mol2vec==0.1) (0.2.0)\n",
      "Requirement already satisfied: jedi>=0.16 in c:\\users\\ratul\\anaconda3\\envs\\my-rdkit-env\\lib\\site-packages (from IPython->mol2vec==0.1) (0.18.1)\n",
      "Requirement already satisfied: pickleshare in c:\\users\\ratul\\anaconda3\\envs\\my-rdkit-env\\lib\\site-packages (from IPython->mol2vec==0.1) (0.7.5)\n",
      "Requirement already satisfied: prompt-toolkit!=3.0.0,!=3.0.1,<3.1.0,>=2.0.0 in c:\\users\\ratul\\anaconda3\\envs\\my-rdkit-env\\lib\\site-packages (from IPython->mol2vec==0.1) (3.0.26)\n",
      "Requirement already satisfied: setuptools>=18.5 in c:\\users\\ratul\\anaconda3\\envs\\my-rdkit-env\\lib\\site-packages (from IPython->mol2vec==0.1) (58.0.4)\n",
      "Requirement already satisfied: pygments in c:\\users\\ratul\\anaconda3\\envs\\my-rdkit-env\\lib\\site-packages (from IPython->mol2vec==0.1) (2.11.2)\n",
      "Requirement already satisfied: matplotlib-inline in c:\\users\\ratul\\anaconda3\\envs\\my-rdkit-env\\lib\\site-packages (from IPython->mol2vec==0.1) (0.1.3)\n",
      "Requirement already satisfied: traitlets>=4.2 in c:\\users\\ratul\\anaconda3\\envs\\my-rdkit-env\\lib\\site-packages (from IPython->mol2vec==0.1) (5.1.1)\n",
      "Requirement already satisfied: colorama in c:\\users\\ratul\\anaconda3\\envs\\my-rdkit-env\\lib\\site-packages (from IPython->mol2vec==0.1) (0.4.4)\n",
      "Requirement already satisfied: decorator in c:\\users\\ratul\\anaconda3\\envs\\my-rdkit-env\\lib\\site-packages (from IPython->mol2vec==0.1) (5.1.1)\n",
      "Requirement already satisfied: parso<0.9.0,>=0.8.0 in c:\\users\\ratul\\anaconda3\\envs\\my-rdkit-env\\lib\\site-packages (from jedi>=0.16->IPython->mol2vec==0.1) (0.8.3)\n",
      "Requirement already satisfied: wcwidth in c:\\users\\ratul\\anaconda3\\envs\\my-rdkit-env\\lib\\site-packages (from prompt-toolkit!=3.0.0,!=3.0.1,<3.1.0,>=2.0.0->IPython->mol2vec==0.1) (0.2.5)\n",
      "Requirement already satisfied: packaging>=20.0 in c:\\users\\ratul\\anaconda3\\envs\\my-rdkit-env\\lib\\site-packages (from matplotlib->mol2vec==0.1) (21.3)\n",
      "Requirement already satisfied: pillow>=6.2.0 in c:\\users\\ratul\\anaconda3\\envs\\my-rdkit-env\\lib\\site-packages (from matplotlib->mol2vec==0.1) (8.4.0)\n",
      "Requirement already satisfied: fonttools>=4.22.0 in c:\\users\\ratul\\anaconda3\\envs\\my-rdkit-env\\lib\\site-packages (from matplotlib->mol2vec==0.1) (4.29.1)\n",
      "Requirement already satisfied: python-dateutil>=2.7 in c:\\users\\ratul\\anaconda3\\envs\\my-rdkit-env\\lib\\site-packages (from matplotlib->mol2vec==0.1) (2.8.2)\n",
      "Requirement already satisfied: pyparsing>=2.2.1 in c:\\users\\ratul\\anaconda3\\envs\\my-rdkit-env\\lib\\site-packages (from matplotlib->mol2vec==0.1) (3.0.4)\n",
      "Requirement already satisfied: cycler>=0.10 in c:\\users\\ratul\\anaconda3\\envs\\my-rdkit-env\\lib\\site-packages (from matplotlib->mol2vec==0.1) (0.11.0)\n",
      "Requirement already satisfied: kiwisolver>=1.0.1 in c:\\users\\ratul\\anaconda3\\envs\\my-rdkit-env\\lib\\site-packages (from matplotlib->mol2vec==0.1) (1.3.2)\n",
      "Requirement already satisfied: six>=1.5 in c:\\users\\ratul\\anaconda3\\envs\\my-rdkit-env\\lib\\site-packages (from python-dateutil>=2.7->matplotlib->mol2vec==0.1) (1.16.0)\n",
      "Requirement already satisfied: pytz>=2017.3 in c:\\users\\ratul\\anaconda3\\envs\\my-rdkit-env\\lib\\site-packages (from pandas->mol2vec==0.1) (2021.3)\n"
     ]
    },
    {
     "name": "stderr",
     "output_type": "stream",
     "text": [
      "  Running command git clone -q https://github.com/samoturk/mol2vec 'C:\\Users\\ratul\\AppData\\Local\\Temp\\pip-req-build-smoa1f2u'\n"
     ]
    }
   ],
   "source": [
    "!pip install git+https://github.com/samoturk/mol2vec"
   ]
  },
  {
   "cell_type": "code",
   "execution_count": 3,
   "metadata": {
    "executionInfo": {
     "elapsed": 706,
     "status": "ok",
     "timestamp": 1643987620994,
     "user": {
      "displayName": "Ratul Mali",
      "photoUrl": "https://lh3.googleusercontent.com/a/default-user=s64",
      "userId": "15812466021162346003"
     },
     "user_tz": -330
    },
    "id": "rdvEEHwevCd3"
   },
   "outputs": [],
   "source": [
    "from gensim.models import word2vec\n",
    "from mol2vec import features\n",
    "from mol2vec import helpers\n",
    "from mol2vec.features import mol2alt_sentence, mol2sentence, MolSentence, DfVec, sentences2vec"
   ]
  },
  {
   "cell_type": "markdown",
   "metadata": {
    "id": "bAUZaLs3vPhB"
   },
   "source": [
    "### Load and Preprocess Data"
   ]
  },
  {
   "cell_type": "code",
   "execution_count": 121,
   "metadata": {
    "colab": {
     "base_uri": "https://localhost:8080/"
    },
    "collapsed": true,
    "executionInfo": {
     "elapsed": 2,
     "status": "ok",
     "timestamp": 1643987657021,
     "user": {
      "displayName": "Ratul Mali",
      "photoUrl": "https://lh3.googleusercontent.com/a/default-user=s64",
      "userId": "15812466021162346003"
     },
     "user_tz": -330
    },
    "id": "07vrWVDJvVRd",
    "outputId": "00680892-d6d8-45b7-a5c4-a65ec0003b41"
   },
   "outputs": [
    {
     "name": "stdout",
     "output_type": "stream",
     "text": [
      "D:\\Project\\AP\\Notebooks\n"
     ]
    }
   ],
   "source": [
    "print(os.getcwd())"
   ]
  },
  {
   "cell_type": "code",
   "execution_count": 5,
   "metadata": {
    "colab": {
     "base_uri": "https://localhost:8080/"
    },
    "executionInfo": {
     "elapsed": 2043,
     "status": "ok",
     "timestamp": 1643987661237,
     "user": {
      "displayName": "Ratul Mali",
      "photoUrl": "https://lh3.googleusercontent.com/a/default-user=s64",
      "userId": "15812466021162346003"
     },
     "user_tz": -330
    },
    "id": "sGh-VjPUvdEo",
    "outputId": "881fcd59-8c2e-4163-a68a-80797d9bcda4"
   },
   "outputs": [
    {
     "data": {
      "text/plain": [
       "(9002, 29)"
      ]
     },
     "execution_count": 5,
     "metadata": {},
     "output_type": "execute_result"
    }
   ],
   "source": [
    "# import data\n",
    "drug_dataset = pd.read_csv(\"supercompf.csv\")\n",
    "drug_dataset.shape"
   ]
  },
  {
   "cell_type": "code",
   "execution_count": 6,
   "metadata": {
    "colab": {
     "base_uri": "https://localhost:8080/",
     "height": 461
    },
    "executionInfo": {
     "elapsed": 607,
     "status": "ok",
     "timestamp": 1643987662620,
     "user": {
      "displayName": "Ratul Mali",
      "photoUrl": "https://lh3.googleusercontent.com/a/default-user=s64",
      "userId": "15812466021162346003"
     },
     "user_tz": -330
    },
    "id": "ZVHeq5x8vpy4",
    "outputId": "6697b255-3c4b-4f11-cb31-f4e55f90462e"
   },
   "outputs": [
    {
     "data": {
      "text/html": [
       "<div>\n",
       "<style scoped>\n",
       "    .dataframe tbody tr th:only-of-type {\n",
       "        vertical-align: middle;\n",
       "    }\n",
       "\n",
       "    .dataframe tbody tr th {\n",
       "        vertical-align: top;\n",
       "    }\n",
       "\n",
       "    .dataframe thead th {\n",
       "        text-align: right;\n",
       "    }\n",
       "</style>\n",
       "<table border=\"1\" class=\"dataframe\">\n",
       "  <thead>\n",
       "    <tr style=\"text-align: right;\">\n",
       "      <th></th>\n",
       "      <th>Unnamed: 0</th>\n",
       "      <th>ind1</th>\n",
       "      <th>ind2</th>\n",
       "      <th>vina_score</th>\n",
       "      <th>Unnamed: 3</th>\n",
       "      <th>smiles</th>\n",
       "      <th>mol</th>\n",
       "      <th>carbonyl</th>\n",
       "      <th>carboxylic acid</th>\n",
       "      <th>primary amine</th>\n",
       "      <th>...</th>\n",
       "      <th>ether</th>\n",
       "      <th>secondary amine</th>\n",
       "      <th>enamine</th>\n",
       "      <th>alene</th>\n",
       "      <th>vinyl</th>\n",
       "      <th>phenol</th>\n",
       "      <th>fluorine</th>\n",
       "      <th>chlorine</th>\n",
       "      <th>Bromine</th>\n",
       "      <th>Iodine</th>\n",
       "    </tr>\n",
       "  </thead>\n",
       "  <tbody>\n",
       "    <tr>\n",
       "      <th>0</th>\n",
       "      <td>0</td>\n",
       "      <td>0</td>\n",
       "      <td>0</td>\n",
       "      <td>-10.6</td>\n",
       "      <td>ERGOTAMINE</td>\n",
       "      <td>CC1(C(=O)N2C(C(=O)N3CCCC3C2(O1)O)CC4=CC=CC=C4)...</td>\n",
       "      <td>&lt;rdkit.Chem.rdchem.Mol object at 0x7f562a245df0&gt;</td>\n",
       "      <td>3</td>\n",
       "      <td>0</td>\n",
       "      <td>0</td>\n",
       "      <td>...</td>\n",
       "      <td>1</td>\n",
       "      <td>0</td>\n",
       "      <td>0</td>\n",
       "      <td>0</td>\n",
       "      <td>2</td>\n",
       "      <td>0</td>\n",
       "      <td>0</td>\n",
       "      <td>0</td>\n",
       "      <td>0</td>\n",
       "      <td>0</td>\n",
       "    </tr>\n",
       "    <tr>\n",
       "      <th>1</th>\n",
       "      <td>1</td>\n",
       "      <td>1</td>\n",
       "      <td>1</td>\n",
       "      <td>-10.0</td>\n",
       "      <td>METERGOTAMINE</td>\n",
       "      <td>CC1(C(=O)N2C(C(=O)N3CCCC3C2(O1)O)CC4=CC=CC=C4)...</td>\n",
       "      <td>&lt;rdkit.Chem.rdchem.Mol object at 0x7f562a245e40&gt;</td>\n",
       "      <td>3</td>\n",
       "      <td>0</td>\n",
       "      <td>0</td>\n",
       "      <td>...</td>\n",
       "      <td>1</td>\n",
       "      <td>0</td>\n",
       "      <td>0</td>\n",
       "      <td>0</td>\n",
       "      <td>2</td>\n",
       "      <td>0</td>\n",
       "      <td>0</td>\n",
       "      <td>0</td>\n",
       "      <td>0</td>\n",
       "      <td>0</td>\n",
       "    </tr>\n",
       "    <tr>\n",
       "      <th>2</th>\n",
       "      <td>2</td>\n",
       "      <td>2</td>\n",
       "      <td>2</td>\n",
       "      <td>-9.9</td>\n",
       "      <td>ABBV-744</td>\n",
       "      <td>CCNC(=O)C1=CC2=C(N1)C(=O)N(C=C2C3=C(C=CC(=C3)C...</td>\n",
       "      <td>&lt;rdkit.Chem.rdchem.Mol object at 0x7f562a245e90&gt;</td>\n",
       "      <td>1</td>\n",
       "      <td>0</td>\n",
       "      <td>0</td>\n",
       "      <td>...</td>\n",
       "      <td>1</td>\n",
       "      <td>0</td>\n",
       "      <td>0</td>\n",
       "      <td>0</td>\n",
       "      <td>0</td>\n",
       "      <td>0</td>\n",
       "      <td>1</td>\n",
       "      <td>0</td>\n",
       "      <td>0</td>\n",
       "      <td>0</td>\n",
       "    </tr>\n",
       "    <tr>\n",
       "      <th>3</th>\n",
       "      <td>3</td>\n",
       "      <td>3</td>\n",
       "      <td>3</td>\n",
       "      <td>-9.9</td>\n",
       "      <td>DERQUANTEL</td>\n",
       "      <td>CC1(C=COC2=C(O1)C=CC3=C2NCC34CC56CN7CCC(C7(CC5...</td>\n",
       "      <td>&lt;rdkit.Chem.rdchem.Mol object at 0x7f562a245ee0&gt;</td>\n",
       "      <td>1</td>\n",
       "      <td>0</td>\n",
       "      <td>0</td>\n",
       "      <td>...</td>\n",
       "      <td>2</td>\n",
       "      <td>1</td>\n",
       "      <td>1</td>\n",
       "      <td>0</td>\n",
       "      <td>2</td>\n",
       "      <td>0</td>\n",
       "      <td>0</td>\n",
       "      <td>0</td>\n",
       "      <td>0</td>\n",
       "      <td>0</td>\n",
       "    </tr>\n",
       "    <tr>\n",
       "      <th>4</th>\n",
       "      <td>4</td>\n",
       "      <td>4</td>\n",
       "      <td>4</td>\n",
       "      <td>-9.9</td>\n",
       "      <td>MERGOCRIPTINE</td>\n",
       "      <td>CC1=C2CC3C(=CC(CN3C)C(=O)NC4(C(=O)N5C(C(=O)N6C...</td>\n",
       "      <td>&lt;rdkit.Chem.rdchem.Mol object at 0x7f562a245f30&gt;</td>\n",
       "      <td>3</td>\n",
       "      <td>0</td>\n",
       "      <td>0</td>\n",
       "      <td>...</td>\n",
       "      <td>1</td>\n",
       "      <td>0</td>\n",
       "      <td>0</td>\n",
       "      <td>0</td>\n",
       "      <td>2</td>\n",
       "      <td>0</td>\n",
       "      <td>0</td>\n",
       "      <td>0</td>\n",
       "      <td>0</td>\n",
       "      <td>0</td>\n",
       "    </tr>\n",
       "  </tbody>\n",
       "</table>\n",
       "<p>5 rows × 29 columns</p>\n",
       "</div>"
      ],
      "text/plain": [
       "   Unnamed: 0  ind1  ind2  vina_score     Unnamed: 3  \\\n",
       "0           0     0     0       -10.6     ERGOTAMINE   \n",
       "1           1     1     1       -10.0  METERGOTAMINE   \n",
       "2           2     2     2        -9.9       ABBV-744   \n",
       "3           3     3     3        -9.9     DERQUANTEL   \n",
       "4           4     4     4        -9.9  MERGOCRIPTINE   \n",
       "\n",
       "                                              smiles  \\\n",
       "0  CC1(C(=O)N2C(C(=O)N3CCCC3C2(O1)O)CC4=CC=CC=C4)...   \n",
       "1  CC1(C(=O)N2C(C(=O)N3CCCC3C2(O1)O)CC4=CC=CC=C4)...   \n",
       "2  CCNC(=O)C1=CC2=C(N1)C(=O)N(C=C2C3=C(C=CC(=C3)C...   \n",
       "3  CC1(C=COC2=C(O1)C=CC3=C2NCC34CC56CN7CCC(C7(CC5...   \n",
       "4  CC1=C2CC3C(=CC(CN3C)C(=O)NC4(C(=O)N5C(C(=O)N6C...   \n",
       "\n",
       "                                                mol  carbonyl  \\\n",
       "0  <rdkit.Chem.rdchem.Mol object at 0x7f562a245df0>         3   \n",
       "1  <rdkit.Chem.rdchem.Mol object at 0x7f562a245e40>         3   \n",
       "2  <rdkit.Chem.rdchem.Mol object at 0x7f562a245e90>         1   \n",
       "3  <rdkit.Chem.rdchem.Mol object at 0x7f562a245ee0>         1   \n",
       "4  <rdkit.Chem.rdchem.Mol object at 0x7f562a245f30>         3   \n",
       "\n",
       "   carboxylic acid  primary amine  ...  ether  secondary amine  enamine  \\\n",
       "0                0              0  ...      1                0        0   \n",
       "1                0              0  ...      1                0        0   \n",
       "2                0              0  ...      1                0        0   \n",
       "3                0              0  ...      2                1        1   \n",
       "4                0              0  ...      1                0        0   \n",
       "\n",
       "   alene  vinyl  phenol  fluorine  chlorine  Bromine  Iodine  \n",
       "0      0      2       0         0         0        0       0  \n",
       "1      0      2       0         0         0        0       0  \n",
       "2      0      0       0         1         0        0       0  \n",
       "3      0      2       0         0         0        0       0  \n",
       "4      0      2       0         0         0        0       0  \n",
       "\n",
       "[5 rows x 29 columns]"
      ]
     },
     "execution_count": 6,
     "metadata": {},
     "output_type": "execute_result"
    }
   ],
   "source": [
    "drug_dataset.head()"
   ]
  },
  {
   "cell_type": "markdown",
   "metadata": {
    "id": "d2B3xwiRs3uc"
   },
   "source": [
    "## Data Preprocessing"
   ]
  },
  {
   "cell_type": "code",
   "execution_count": 7,
   "metadata": {
    "colab": {
     "base_uri": "https://localhost:8080/",
     "height": 223
    },
    "executionInfo": {
     "elapsed": 6,
     "status": "ok",
     "timestamp": 1643987663183,
     "user": {
      "displayName": "Ratul Mali",
      "photoUrl": "https://lh3.googleusercontent.com/a/default-user=s64",
      "userId": "15812466021162346003"
     },
     "user_tz": -330
    },
    "id": "UWCSHI_ktLFS",
    "outputId": "6220b4db-68ab-475e-e55e-1fae31604c7c"
   },
   "outputs": [
    {
     "name": "stdout",
     "output_type": "stream",
     "text": [
      "(9002, 2)\n"
     ]
    },
    {
     "data": {
      "text/html": [
       "<div>\n",
       "<style scoped>\n",
       "    .dataframe tbody tr th:only-of-type {\n",
       "        vertical-align: middle;\n",
       "    }\n",
       "\n",
       "    .dataframe tbody tr th {\n",
       "        vertical-align: top;\n",
       "    }\n",
       "\n",
       "    .dataframe thead th {\n",
       "        text-align: right;\n",
       "    }\n",
       "</style>\n",
       "<table border=\"1\" class=\"dataframe\">\n",
       "  <thead>\n",
       "    <tr style=\"text-align: right;\">\n",
       "      <th></th>\n",
       "      <th>smiles</th>\n",
       "      <th>vina_score</th>\n",
       "    </tr>\n",
       "  </thead>\n",
       "  <tbody>\n",
       "    <tr>\n",
       "      <th>0</th>\n",
       "      <td>CC1(C(=O)N2C(C(=O)N3CCCC3C2(O1)O)CC4=CC=CC=C4)...</td>\n",
       "      <td>-10.6</td>\n",
       "    </tr>\n",
       "    <tr>\n",
       "      <th>1</th>\n",
       "      <td>CC1(C(=O)N2C(C(=O)N3CCCC3C2(O1)O)CC4=CC=CC=C4)...</td>\n",
       "      <td>-10.0</td>\n",
       "    </tr>\n",
       "    <tr>\n",
       "      <th>2</th>\n",
       "      <td>CCNC(=O)C1=CC2=C(N1)C(=O)N(C=C2C3=C(C=CC(=C3)C...</td>\n",
       "      <td>-9.9</td>\n",
       "    </tr>\n",
       "    <tr>\n",
       "      <th>3</th>\n",
       "      <td>CC1(C=COC2=C(O1)C=CC3=C2NCC34CC56CN7CCC(C7(CC5...</td>\n",
       "      <td>-9.9</td>\n",
       "    </tr>\n",
       "    <tr>\n",
       "      <th>4</th>\n",
       "      <td>CC1=C2CC3C(=CC(CN3C)C(=O)NC4(C(=O)N5C(C(=O)N6C...</td>\n",
       "      <td>-9.9</td>\n",
       "    </tr>\n",
       "  </tbody>\n",
       "</table>\n",
       "</div>"
      ],
      "text/plain": [
       "                                              smiles  vina_score\n",
       "0  CC1(C(=O)N2C(C(=O)N3CCCC3C2(O1)O)CC4=CC=CC=C4)...       -10.6\n",
       "1  CC1(C(=O)N2C(C(=O)N3CCCC3C2(O1)O)CC4=CC=CC=C4)...       -10.0\n",
       "2  CCNC(=O)C1=CC2=C(N1)C(=O)N(C=C2C3=C(C=CC(=C3)C...        -9.9\n",
       "3  CC1(C=COC2=C(O1)C=CC3=C2NCC34CC56CN7CCC(C7(CC5...        -9.9\n",
       "4  CC1=C2CC3C(=CC(CN3C)C(=O)NC4(C(=O)N5C(C(=O)N6C...        -9.9"
      ]
     },
     "execution_count": 7,
     "metadata": {},
     "output_type": "execute_result"
    }
   ],
   "source": [
    "X_full_df = drug_dataset[['smiles','vina_score']]\n",
    "print(X_full_df.shape)\n",
    "X_full_df.head()"
   ]
  },
  {
   "cell_type": "code",
   "execution_count": 8,
   "metadata": {
    "colab": {
     "base_uri": "https://localhost:8080/",
     "height": 310
    },
    "executionInfo": {
     "elapsed": 1233,
     "status": "ok",
     "timestamp": 1643987666877,
     "user": {
      "displayName": "Ratul Mali",
      "photoUrl": "https://lh3.googleusercontent.com/a/default-user=s64",
      "userId": "15812466021162346003"
     },
     "user_tz": -330
    },
    "id": "EJYmWUwutkue",
    "outputId": "ea1bd72e-50be-4ded-ce99-b56a2052cdd4"
   },
   "outputs": [
    {
     "name": "stderr",
     "output_type": "stream",
     "text": [
      "C:\\Users\\ratul\\anaconda3\\envs\\my-rdkit-env\\lib\\site-packages\\ipykernel_launcher.py:1: SettingWithCopyWarning: \n",
      "A value is trying to be set on a copy of a slice from a DataFrame.\n",
      "Try using .loc[row_indexer,col_indexer] = value instead\n",
      "\n",
      "See the caveats in the documentation: https://pandas.pydata.org/pandas-docs/stable/user_guide/indexing.html#returning-a-view-versus-a-copy\n",
      "  \"\"\"Entry point for launching an IPython kernel.\n"
     ]
    },
    {
     "data": {
      "text/html": [
       "<div>\n",
       "<style scoped>\n",
       "    .dataframe tbody tr th:only-of-type {\n",
       "        vertical-align: middle;\n",
       "    }\n",
       "\n",
       "    .dataframe tbody tr th {\n",
       "        vertical-align: top;\n",
       "    }\n",
       "\n",
       "    .dataframe thead th {\n",
       "        text-align: right;\n",
       "    }\n",
       "</style>\n",
       "<table border=\"1\" class=\"dataframe\">\n",
       "  <thead>\n",
       "    <tr style=\"text-align: right;\">\n",
       "      <th></th>\n",
       "      <th>smiles</th>\n",
       "      <th>vina_score</th>\n",
       "      <th>molecules</th>\n",
       "    </tr>\n",
       "  </thead>\n",
       "  <tbody>\n",
       "    <tr>\n",
       "      <th>0</th>\n",
       "      <td>CC1(C(=O)N2C(C(=O)N3CCCC3C2(O1)O)CC4=CC=CC=C4)...</td>\n",
       "      <td>-10.6</td>\n",
       "      <td>&lt;img data-content=\"rdkit/molecule\" src=\"data:i...</td>\n",
       "    </tr>\n",
       "    <tr>\n",
       "      <th>1</th>\n",
       "      <td>CC1(C(=O)N2C(C(=O)N3CCCC3C2(O1)O)CC4=CC=CC=C4)...</td>\n",
       "      <td>-10.0</td>\n",
       "      <td>&lt;img data-content=\"rdkit/molecule\" src=\"data:i...</td>\n",
       "    </tr>\n",
       "    <tr>\n",
       "      <th>2</th>\n",
       "      <td>CCNC(=O)C1=CC2=C(N1)C(=O)N(C=C2C3=C(C=CC(=C3)C...</td>\n",
       "      <td>-9.9</td>\n",
       "      <td>&lt;img data-content=\"rdkit/molecule\" src=\"data:i...</td>\n",
       "    </tr>\n",
       "    <tr>\n",
       "      <th>3</th>\n",
       "      <td>CC1(C=COC2=C(O1)C=CC3=C2NCC34CC56CN7CCC(C7(CC5...</td>\n",
       "      <td>-9.9</td>\n",
       "      <td>&lt;img data-content=\"rdkit/molecule\" src=\"data:i...</td>\n",
       "    </tr>\n",
       "    <tr>\n",
       "      <th>4</th>\n",
       "      <td>CC1=C2CC3C(=CC(CN3C)C(=O)NC4(C(=O)N5C(C(=O)N6C...</td>\n",
       "      <td>-9.9</td>\n",
       "      <td>&lt;img data-content=\"rdkit/molecule\" src=\"data:i...</td>\n",
       "    </tr>\n",
       "  </tbody>\n",
       "</table>\n",
       "</div>"
      ],
      "text/plain": [
       "                                              smiles  vina_score  \\\n",
       "0  CC1(C(=O)N2C(C(=O)N3CCCC3C2(O1)O)CC4=CC=CC=C4)...       -10.6   \n",
       "1  CC1(C(=O)N2C(C(=O)N3CCCC3C2(O1)O)CC4=CC=CC=C4)...       -10.0   \n",
       "2  CCNC(=O)C1=CC2=C(N1)C(=O)N(C=C2C3=C(C=CC(=C3)C...        -9.9   \n",
       "3  CC1(C=COC2=C(O1)C=CC3=C2NCC34CC56CN7CCC(C7(CC5...        -9.9   \n",
       "4  CC1=C2CC3C(=CC(CN3C)C(=O)NC4(C(=O)N5C(C(=O)N6C...        -9.9   \n",
       "\n",
       "                                           molecules  \n",
       "0  <img data-content=\"rdkit/molecule\" src=\"data:i...  \n",
       "1  <img data-content=\"rdkit/molecule\" src=\"data:i...  \n",
       "2  <img data-content=\"rdkit/molecule\" src=\"data:i...  \n",
       "3  <img data-content=\"rdkit/molecule\" src=\"data:i...  \n",
       "4  <img data-content=\"rdkit/molecule\" src=\"data:i...  "
      ]
     },
     "execution_count": 8,
     "metadata": {},
     "output_type": "execute_result"
    }
   ],
   "source": [
    "X_full_df['molecules'] = X_full_df['smiles'].apply(lambda x: Chem.MolFromSmiles(x))\n",
    "X_full_df.head()"
   ]
  },
  {
   "cell_type": "code",
   "execution_count": 9,
   "metadata": {
    "colab": {
     "base_uri": "https://localhost:8080/"
    },
    "executionInfo": {
     "elapsed": 560,
     "status": "ok",
     "timestamp": 1643987683063,
     "user": {
      "displayName": "Ratul Mali",
      "photoUrl": "https://lh3.googleusercontent.com/a/default-user=s64",
      "userId": "15812466021162346003"
     },
     "user_tz": -330
    },
    "id": "TQGfire_97v_",
    "outputId": "8527e7b8-6fe6-4516-ffce-881fab47a395"
   },
   "outputs": [
    {
     "data": {
      "text/plain": [
       "(9002, 3)"
      ]
     },
     "execution_count": 9,
     "metadata": {},
     "output_type": "execute_result"
    }
   ],
   "source": [
    "# drop any missing value\n",
    "X_full_df = X_full_df.dropna(axis=0)\n",
    "X_full_df.shape"
   ]
  },
  {
   "cell_type": "code",
   "execution_count": 10,
   "metadata": {
    "colab": {
     "base_uri": "https://localhost:8080/"
    },
    "executionInfo": {
     "elapsed": 4,
     "status": "ok",
     "timestamp": 1643987685245,
     "user": {
      "displayName": "Ratul Mali",
      "photoUrl": "https://lh3.googleusercontent.com/a/default-user=s64",
      "userId": "15812466021162346003"
     },
     "user_tz": -330
    },
    "id": "ya8HIQDWso4T",
    "outputId": "9c61f800-7117-4b23-f7b4-c6ad9e119fa3"
   },
   "outputs": [
    {
     "name": "stdout",
     "output_type": "stream",
     "text": [
      "(9002,)\n"
     ]
    },
    {
     "data": {
      "text/plain": [
       "0   -10.6\n",
       "1   -10.0\n",
       "2    -9.9\n",
       "3    -9.9\n",
       "4    -9.9\n",
       "Name: vina_score, dtype: float64"
      ]
     },
     "execution_count": 10,
     "metadata": {},
     "output_type": "execute_result"
    }
   ],
   "source": [
    "# target variables\n",
    "y_full_df = X_full_df['vina_score']\n",
    "print(y_full_df.shape)\n",
    "y_full_df.head()"
   ]
  },
  {
   "cell_type": "code",
   "execution_count": 11,
   "metadata": {
    "colab": {
     "base_uri": "https://localhost:8080/"
    },
    "executionInfo": {
     "elapsed": 4,
     "status": "ok",
     "timestamp": 1643987687161,
     "user": {
      "displayName": "Ratul Mali",
      "photoUrl": "https://lh3.googleusercontent.com/a/default-user=s64",
      "userId": "15812466021162346003"
     },
     "user_tz": -330
    },
    "id": "WkBTu7mv_Hfu",
    "outputId": "c8025dbc-33fd-4f67-990f-677333508052"
   },
   "outputs": [
    {
     "data": {
      "text/plain": [
       "(9002, 2)"
      ]
     },
     "execution_count": 11,
     "metadata": {},
     "output_type": "execute_result"
    }
   ],
   "source": [
    "X_full_df = X_full_df.drop(['vina_score'], axis=1)\n",
    "X_full_df.shape"
   ]
  },
  {
   "cell_type": "code",
   "execution_count": 12,
   "metadata": {
    "colab": {
     "base_uri": "https://localhost:8080/",
     "height": 250
    },
    "executionInfo": {
     "elapsed": 7959,
     "status": "ok",
     "timestamp": 1643987695920,
     "user": {
      "displayName": "Ratul Mali",
      "photoUrl": "https://lh3.googleusercontent.com/a/default-user=s64",
      "userId": "15812466021162346003"
     },
     "user_tz": -330
    },
    "id": "ZOhjlBLqt_4T",
    "outputId": "2ec2a83e-3d5d-4413-a442-ae4e9b1316d5"
   },
   "outputs": [
    {
     "data": {
      "text/html": [
       "<div>\n",
       "<style scoped>\n",
       "    .dataframe tbody tr th:only-of-type {\n",
       "        vertical-align: middle;\n",
       "    }\n",
       "\n",
       "    .dataframe tbody tr th {\n",
       "        vertical-align: top;\n",
       "    }\n",
       "\n",
       "    .dataframe thead th {\n",
       "        text-align: right;\n",
       "    }\n",
       "</style>\n",
       "<table border=\"1\" class=\"dataframe\">\n",
       "  <thead>\n",
       "    <tr style=\"text-align: right;\">\n",
       "      <th></th>\n",
       "      <th>smiles</th>\n",
       "      <th>molecules</th>\n",
       "      <th>sentence</th>\n",
       "    </tr>\n",
       "  </thead>\n",
       "  <tbody>\n",
       "    <tr>\n",
       "      <th>0</th>\n",
       "      <td>CC1(C(=O)N2C(C(=O)N3CCCC3C2(O1)O)CC4=CC=CC=C4)...</td>\n",
       "      <td>&lt;img data-content=\"rdkit/molecule\" src=\"data:i...</td>\n",
       "      <td>(2246728737, 1861965050, 2976816164, 417788840...</td>\n",
       "    </tr>\n",
       "    <tr>\n",
       "      <th>1</th>\n",
       "      <td>CC1(C(=O)N2C(C(=O)N3CCCC3C2(O1)O)CC4=CC=CC=C4)...</td>\n",
       "      <td>&lt;img data-content=\"rdkit/molecule\" src=\"data:i...</td>\n",
       "      <td>(2246728737, 1861965050, 2976816164, 417788840...</td>\n",
       "    </tr>\n",
       "    <tr>\n",
       "      <th>2</th>\n",
       "      <td>CCNC(=O)C1=CC2=C(N1)C(=O)N(C=C2C3=C(C=CC(=C3)C...</td>\n",
       "      <td>&lt;img data-content=\"rdkit/molecule\" src=\"data:i...</td>\n",
       "      <td>(2246728737, 3542456614, 2245384272, 773607102...</td>\n",
       "    </tr>\n",
       "    <tr>\n",
       "      <th>3</th>\n",
       "      <td>CC1(C=COC2=C(O1)C=CC3=C2NCC34CC56CN7CCC(C7(CC5...</td>\n",
       "      <td>&lt;img data-content=\"rdkit/molecule\" src=\"data:i...</td>\n",
       "      <td>(2246728737, 1861965050, 2976816164, 247601566...</td>\n",
       "    </tr>\n",
       "    <tr>\n",
       "      <th>4</th>\n",
       "      <td>CC1=C2CC3C(=CC(CN3C)C(=O)NC4(C(=O)N5C(C(=O)N6C...</td>\n",
       "      <td>&lt;img data-content=\"rdkit/molecule\" src=\"data:i...</td>\n",
       "      <td>(2246728737, 422715066, 3217380708, 1308598964...</td>\n",
       "    </tr>\n",
       "  </tbody>\n",
       "</table>\n",
       "</div>"
      ],
      "text/plain": [
       "                                              smiles  \\\n",
       "0  CC1(C(=O)N2C(C(=O)N3CCCC3C2(O1)O)CC4=CC=CC=C4)...   \n",
       "1  CC1(C(=O)N2C(C(=O)N3CCCC3C2(O1)O)CC4=CC=CC=C4)...   \n",
       "2  CCNC(=O)C1=CC2=C(N1)C(=O)N(C=C2C3=C(C=CC(=C3)C...   \n",
       "3  CC1(C=COC2=C(O1)C=CC3=C2NCC34CC56CN7CCC(C7(CC5...   \n",
       "4  CC1=C2CC3C(=CC(CN3C)C(=O)NC4(C(=O)N5C(C(=O)N6C...   \n",
       "\n",
       "                                           molecules  \\\n",
       "0  <img data-content=\"rdkit/molecule\" src=\"data:i...   \n",
       "1  <img data-content=\"rdkit/molecule\" src=\"data:i...   \n",
       "2  <img data-content=\"rdkit/molecule\" src=\"data:i...   \n",
       "3  <img data-content=\"rdkit/molecule\" src=\"data:i...   \n",
       "4  <img data-content=\"rdkit/molecule\" src=\"data:i...   \n",
       "\n",
       "                                            sentence  \n",
       "0  (2246728737, 1861965050, 2976816164, 417788840...  \n",
       "1  (2246728737, 1861965050, 2976816164, 417788840...  \n",
       "2  (2246728737, 3542456614, 2245384272, 773607102...  \n",
       "3  (2246728737, 1861965050, 2976816164, 247601566...  \n",
       "4  (2246728737, 422715066, 3217380708, 1308598964...  "
      ]
     },
     "execution_count": 12,
     "metadata": {},
     "output_type": "execute_result"
    }
   ],
   "source": [
    "X_full_df['sentence'] = X_full_df.apply(lambda x: MolSentence(mol2alt_sentence(x['molecules'], 1)), axis=1)\n",
    "X_full_df.head()"
   ]
  },
  {
   "cell_type": "code",
   "execution_count": 13,
   "metadata": {
    "colab": {
     "base_uri": "https://localhost:8080/",
     "height": 337
    },
    "executionInfo": {
     "elapsed": 7016,
     "status": "ok",
     "timestamp": 1643987704949,
     "user": {
      "displayName": "Ratul Mali",
      "photoUrl": "https://lh3.googleusercontent.com/a/default-user=s64",
      "userId": "15812466021162346003"
     },
     "user_tz": -330
    },
    "id": "NEHzlhgd9F_H",
    "outputId": "a6cc25ef-0733-4a6c-cfbb-3ef77ec97f72"
   },
   "outputs": [
    {
     "data": {
      "text/html": [
       "<div>\n",
       "<style scoped>\n",
       "    .dataframe tbody tr th:only-of-type {\n",
       "        vertical-align: middle;\n",
       "    }\n",
       "\n",
       "    .dataframe tbody tr th {\n",
       "        vertical-align: top;\n",
       "    }\n",
       "\n",
       "    .dataframe thead th {\n",
       "        text-align: right;\n",
       "    }\n",
       "</style>\n",
       "<table border=\"1\" class=\"dataframe\">\n",
       "  <thead>\n",
       "    <tr style=\"text-align: right;\">\n",
       "      <th></th>\n",
       "      <th>smiles</th>\n",
       "      <th>molecules</th>\n",
       "      <th>sentence</th>\n",
       "      <th>mol2vec</th>\n",
       "    </tr>\n",
       "  </thead>\n",
       "  <tbody>\n",
       "    <tr>\n",
       "      <th>0</th>\n",
       "      <td>CC1(C(=O)N2C(C(=O)N3CCCC3C2(O1)O)CC4=CC=CC=C4)...</td>\n",
       "      <td>&lt;img data-content=\"rdkit/molecule\" src=\"data:i...</td>\n",
       "      <td>(2246728737, 1861965050, 2976816164, 417788840...</td>\n",
       "      <td>(300,) dimensional vector</td>\n",
       "    </tr>\n",
       "    <tr>\n",
       "      <th>1</th>\n",
       "      <td>CC1(C(=O)N2C(C(=O)N3CCCC3C2(O1)O)CC4=CC=CC=C4)...</td>\n",
       "      <td>&lt;img data-content=\"rdkit/molecule\" src=\"data:i...</td>\n",
       "      <td>(2246728737, 1861965050, 2976816164, 417788840...</td>\n",
       "      <td>(300,) dimensional vector</td>\n",
       "    </tr>\n",
       "    <tr>\n",
       "      <th>2</th>\n",
       "      <td>CCNC(=O)C1=CC2=C(N1)C(=O)N(C=C2C3=C(C=CC(=C3)C...</td>\n",
       "      <td>&lt;img data-content=\"rdkit/molecule\" src=\"data:i...</td>\n",
       "      <td>(2246728737, 3542456614, 2245384272, 773607102...</td>\n",
       "      <td>(300,) dimensional vector</td>\n",
       "    </tr>\n",
       "    <tr>\n",
       "      <th>3</th>\n",
       "      <td>CC1(C=COC2=C(O1)C=CC3=C2NCC34CC56CN7CCC(C7(CC5...</td>\n",
       "      <td>&lt;img data-content=\"rdkit/molecule\" src=\"data:i...</td>\n",
       "      <td>(2246728737, 1861965050, 2976816164, 247601566...</td>\n",
       "      <td>(300,) dimensional vector</td>\n",
       "    </tr>\n",
       "    <tr>\n",
       "      <th>4</th>\n",
       "      <td>CC1=C2CC3C(=CC(CN3C)C(=O)NC4(C(=O)N5C(C(=O)N6C...</td>\n",
       "      <td>&lt;img data-content=\"rdkit/molecule\" src=\"data:i...</td>\n",
       "      <td>(2246728737, 422715066, 3217380708, 1308598964...</td>\n",
       "      <td>(300,) dimensional vector</td>\n",
       "    </tr>\n",
       "  </tbody>\n",
       "</table>\n",
       "</div>"
      ],
      "text/plain": [
       "                                              smiles  \\\n",
       "0  CC1(C(=O)N2C(C(=O)N3CCCC3C2(O1)O)CC4=CC=CC=C4)...   \n",
       "1  CC1(C(=O)N2C(C(=O)N3CCCC3C2(O1)O)CC4=CC=CC=C4)...   \n",
       "2  CCNC(=O)C1=CC2=C(N1)C(=O)N(C=C2C3=C(C=CC(=C3)C...   \n",
       "3  CC1(C=COC2=C(O1)C=CC3=C2NCC34CC56CN7CCC(C7(CC5...   \n",
       "4  CC1=C2CC3C(=CC(CN3C)C(=O)NC4(C(=O)N5C(C(=O)N6C...   \n",
       "\n",
       "                                           molecules  \\\n",
       "0  <img data-content=\"rdkit/molecule\" src=\"data:i...   \n",
       "1  <img data-content=\"rdkit/molecule\" src=\"data:i...   \n",
       "2  <img data-content=\"rdkit/molecule\" src=\"data:i...   \n",
       "3  <img data-content=\"rdkit/molecule\" src=\"data:i...   \n",
       "4  <img data-content=\"rdkit/molecule\" src=\"data:i...   \n",
       "\n",
       "                                            sentence  \\\n",
       "0  (2246728737, 1861965050, 2976816164, 417788840...   \n",
       "1  (2246728737, 1861965050, 2976816164, 417788840...   \n",
       "2  (2246728737, 3542456614, 2245384272, 773607102...   \n",
       "3  (2246728737, 1861965050, 2976816164, 247601566...   \n",
       "4  (2246728737, 422715066, 3217380708, 1308598964...   \n",
       "\n",
       "                     mol2vec  \n",
       "0  (300,) dimensional vector  \n",
       "1  (300,) dimensional vector  \n",
       "2  (300,) dimensional vector  \n",
       "3  (300,) dimensional vector  \n",
       "4  (300,) dimensional vector  "
      ]
     },
     "execution_count": 13,
     "metadata": {},
     "output_type": "execute_result"
    }
   ],
   "source": [
    "model = word2vec.Word2Vec.load('model_300dim.pkl')\n",
    "X_full_df['mol2vec'] = [DfVec(x) for x in sentences2vec(X_full_df['sentence'], model, unseen='UNK')]\n",
    "X_full_df.head()"
   ]
  },
  {
   "cell_type": "code",
   "execution_count": 14,
   "metadata": {
    "colab": {
     "base_uri": "https://localhost:8080/"
    },
    "executionInfo": {
     "elapsed": 551,
     "status": "ok",
     "timestamp": 1643987707725,
     "user": {
      "displayName": "Ratul Mali",
      "photoUrl": "https://lh3.googleusercontent.com/a/default-user=s64",
      "userId": "15812466021162346003"
     },
     "user_tz": -330
    },
    "id": "6IkNfoJcwnRL",
    "outputId": "a84abdee-6168-47b9-b6c5-a8b14fb4d9eb"
   },
   "outputs": [
    {
     "name": "stdout",
     "output_type": "stream",
     "text": [
      "(9002, 300)\n",
      "(9002,)\n"
     ]
    }
   ],
   "source": [
    "X_full = np.array([x.vec for x in X_full_df['mol2vec']])\n",
    "y_full = np.array(y_full_df)\n",
    "print(X_full.shape)\n",
    "print(y_full.shape)"
   ]
  },
  {
   "cell_type": "code",
   "execution_count": 15,
   "metadata": {
    "executionInfo": {
     "elapsed": 816,
     "status": "ok",
     "timestamp": 1643987714143,
     "user": {
      "displayName": "Ratul Mali",
      "photoUrl": "https://lh3.googleusercontent.com/a/default-user=s64",
      "userId": "15812466021162346003"
     },
     "user_tz": -330
    },
    "id": "2ce_-QyaxeuY"
   },
   "outputs": [],
   "source": [
    "X_train,X_test,y_train,y_test = train_test_split(X_full, y_full, test_size=0.2, random_state=1)"
   ]
  },
  {
   "cell_type": "code",
   "execution_count": 16,
   "metadata": {
    "executionInfo": {
     "elapsed": 3,
     "status": "ok",
     "timestamp": 1643987718454,
     "user": {
      "displayName": "Ratul Mali",
      "photoUrl": "https://lh3.googleusercontent.com/a/default-user=s64",
      "userId": "15812466021162346003"
     },
     "user_tz": -330
    },
    "id": "1aTfeqy6KBfu"
   },
   "outputs": [],
   "source": [
    "# Feature scaling if necessary, Tree based models do not need it\n",
    "standarize = StandardScaler()\n",
    "standarize.fit(X_train)\n",
    "X_train_scaled = standarize.transform(X_train)\n",
    "X_test_scaled = standarize.transform(X_test)"
   ]
  },
  {
   "cell_type": "code",
   "execution_count": 17,
   "metadata": {
    "colab": {
     "base_uri": "https://localhost:8080/"
    },
    "executionInfo": {
     "elapsed": 3,
     "status": "ok",
     "timestamp": 1643987718455,
     "user": {
      "displayName": "Ratul Mali",
      "photoUrl": "https://lh3.googleusercontent.com/a/default-user=s64",
      "userId": "15812466021162346003"
     },
     "user_tz": -330
    },
    "id": "GcphsC9wKwDx",
    "outputId": "1a9fc8f8-7c89-4c87-f324-0f1cc236731d"
   },
   "outputs": [
    {
     "name": "stdout",
     "output_type": "stream",
     "text": [
      "(7201, 300)\n",
      "(1801, 300)\n"
     ]
    }
   ],
   "source": [
    "print(X_train_scaled.shape)\n",
    "print(X_test_scaled.shape)"
   ]
  },
  {
   "cell_type": "markdown",
   "metadata": {
    "id": "JJyW2XDgxL10"
   },
   "source": [
    "### Modelling and Training"
   ]
  },
  {
   "cell_type": "code",
   "execution_count": 18,
   "metadata": {
    "executionInfo": {
     "elapsed": 3,
     "status": "ok",
     "timestamp": 1643987726408,
     "user": {
      "displayName": "Ratul Mali",
      "photoUrl": "https://lh3.googleusercontent.com/a/default-user=s64",
      "userId": "15812466021162346003"
     },
     "user_tz": -330
    },
    "id": "KOLlnCXfxHpw"
   },
   "outputs": [],
   "source": [
    "def evaluate(model,X_test,y_test):\n",
    "  preds = model.predict(X_test)\n",
    "  mae = mean_absolute_error(y_test, preds)\n",
    "  mse = mean_squared_error(y_test, preds)\n",
    "  r_square = r2_score(y_test, preds)\n",
    "  return mae,mse,r_square"
   ]
  },
  {
   "cell_type": "code",
   "execution_count": 27,
   "metadata": {},
   "outputs": [
    {
     "name": "stderr",
     "output_type": "stream",
     "text": [
      "100%|██████████████████████████████████████████████████████████████████████████████████| 42/42 [07:37<00:00, 10.89s/it]\n"
     ]
    },
    {
     "data": {
      "text/html": [
       "<div>\n",
       "<style scoped>\n",
       "    .dataframe tbody tr th:only-of-type {\n",
       "        vertical-align: middle;\n",
       "    }\n",
       "\n",
       "    .dataframe tbody tr th {\n",
       "        vertical-align: top;\n",
       "    }\n",
       "\n",
       "    .dataframe thead th {\n",
       "        text-align: right;\n",
       "    }\n",
       "</style>\n",
       "<table border=\"1\" class=\"dataframe\">\n",
       "  <thead>\n",
       "    <tr style=\"text-align: right;\">\n",
       "      <th></th>\n",
       "      <th>Adjusted R-Squared</th>\n",
       "      <th>R-Squared</th>\n",
       "      <th>RMSE</th>\n",
       "      <th>Time Taken</th>\n",
       "    </tr>\n",
       "    <tr>\n",
       "      <th>Model</th>\n",
       "      <th></th>\n",
       "      <th></th>\n",
       "      <th></th>\n",
       "      <th></th>\n",
       "    </tr>\n",
       "  </thead>\n",
       "  <tbody>\n",
       "    <tr>\n",
       "      <th>DecisionTreeRegressor</th>\n",
       "      <td>1.00</td>\n",
       "      <td>1.00</td>\n",
       "      <td>0.05</td>\n",
       "      <td>2.12</td>\n",
       "    </tr>\n",
       "    <tr>\n",
       "      <th>ExtraTreeRegressor</th>\n",
       "      <td>1.00</td>\n",
       "      <td>1.00</td>\n",
       "      <td>0.05</td>\n",
       "      <td>0.45</td>\n",
       "    </tr>\n",
       "    <tr>\n",
       "      <th>ExtraTreesRegressor</th>\n",
       "      <td>1.00</td>\n",
       "      <td>1.00</td>\n",
       "      <td>0.05</td>\n",
       "      <td>34.45</td>\n",
       "    </tr>\n",
       "    <tr>\n",
       "      <th>GaussianProcessRegressor</th>\n",
       "      <td>1.00</td>\n",
       "      <td>1.00</td>\n",
       "      <td>0.05</td>\n",
       "      <td>57.38</td>\n",
       "    </tr>\n",
       "    <tr>\n",
       "      <th>XGBRegressor</th>\n",
       "      <td>0.99</td>\n",
       "      <td>0.99</td>\n",
       "      <td>0.10</td>\n",
       "      <td>6.76</td>\n",
       "    </tr>\n",
       "    <tr>\n",
       "      <th>RandomForestRegressor</th>\n",
       "      <td>0.97</td>\n",
       "      <td>0.97</td>\n",
       "      <td>0.20</td>\n",
       "      <td>125.74</td>\n",
       "    </tr>\n",
       "    <tr>\n",
       "      <th>BaggingRegressor</th>\n",
       "      <td>0.95</td>\n",
       "      <td>0.96</td>\n",
       "      <td>0.23</td>\n",
       "      <td>12.05</td>\n",
       "    </tr>\n",
       "    <tr>\n",
       "      <th>HistGradientBoostingRegressor</th>\n",
       "      <td>0.94</td>\n",
       "      <td>0.94</td>\n",
       "      <td>0.27</td>\n",
       "      <td>5.53</td>\n",
       "    </tr>\n",
       "    <tr>\n",
       "      <th>LGBMRegressor</th>\n",
       "      <td>0.94</td>\n",
       "      <td>0.94</td>\n",
       "      <td>0.27</td>\n",
       "      <td>2.27</td>\n",
       "    </tr>\n",
       "    <tr>\n",
       "      <th>SVR</th>\n",
       "      <td>0.88</td>\n",
       "      <td>0.88</td>\n",
       "      <td>0.38</td>\n",
       "      <td>31.85</td>\n",
       "    </tr>\n",
       "    <tr>\n",
       "      <th>NuSVR</th>\n",
       "      <td>0.88</td>\n",
       "      <td>0.88</td>\n",
       "      <td>0.38</td>\n",
       "      <td>28.12</td>\n",
       "    </tr>\n",
       "    <tr>\n",
       "      <th>GradientBoostingRegressor</th>\n",
       "      <td>0.84</td>\n",
       "      <td>0.85</td>\n",
       "      <td>0.43</td>\n",
       "      <td>59.17</td>\n",
       "    </tr>\n",
       "    <tr>\n",
       "      <th>KNeighborsRegressor</th>\n",
       "      <td>0.83</td>\n",
       "      <td>0.84</td>\n",
       "      <td>0.44</td>\n",
       "      <td>28.77</td>\n",
       "    </tr>\n",
       "    <tr>\n",
       "      <th>MLPRegressor</th>\n",
       "      <td>0.81</td>\n",
       "      <td>0.82</td>\n",
       "      <td>0.47</td>\n",
       "      <td>11.56</td>\n",
       "    </tr>\n",
       "    <tr>\n",
       "      <th>AdaBoostRegressor</th>\n",
       "      <td>0.72</td>\n",
       "      <td>0.73</td>\n",
       "      <td>0.57</td>\n",
       "      <td>13.65</td>\n",
       "    </tr>\n",
       "    <tr>\n",
       "      <th>LinearRegression</th>\n",
       "      <td>0.66</td>\n",
       "      <td>0.67</td>\n",
       "      <td>0.63</td>\n",
       "      <td>0.23</td>\n",
       "    </tr>\n",
       "    <tr>\n",
       "      <th>TransformedTargetRegressor</th>\n",
       "      <td>0.66</td>\n",
       "      <td>0.67</td>\n",
       "      <td>0.63</td>\n",
       "      <td>0.24</td>\n",
       "    </tr>\n",
       "    <tr>\n",
       "      <th>Ridge</th>\n",
       "      <td>0.66</td>\n",
       "      <td>0.67</td>\n",
       "      <td>0.63</td>\n",
       "      <td>0.20</td>\n",
       "    </tr>\n",
       "    <tr>\n",
       "      <th>RidgeCV</th>\n",
       "      <td>0.66</td>\n",
       "      <td>0.67</td>\n",
       "      <td>0.63</td>\n",
       "      <td>0.46</td>\n",
       "    </tr>\n",
       "    <tr>\n",
       "      <th>BayesianRidge</th>\n",
       "      <td>0.65</td>\n",
       "      <td>0.67</td>\n",
       "      <td>0.64</td>\n",
       "      <td>0.42</td>\n",
       "    </tr>\n",
       "    <tr>\n",
       "      <th>ElasticNetCV</th>\n",
       "      <td>0.65</td>\n",
       "      <td>0.67</td>\n",
       "      <td>0.64</td>\n",
       "      <td>5.82</td>\n",
       "    </tr>\n",
       "    <tr>\n",
       "      <th>LassoCV</th>\n",
       "      <td>0.65</td>\n",
       "      <td>0.67</td>\n",
       "      <td>0.64</td>\n",
       "      <td>5.61</td>\n",
       "    </tr>\n",
       "    <tr>\n",
       "      <th>LassoLarsCV</th>\n",
       "      <td>0.65</td>\n",
       "      <td>0.67</td>\n",
       "      <td>0.64</td>\n",
       "      <td>1.73</td>\n",
       "    </tr>\n",
       "    <tr>\n",
       "      <th>HuberRegressor</th>\n",
       "      <td>0.63</td>\n",
       "      <td>0.65</td>\n",
       "      <td>0.66</td>\n",
       "      <td>2.30</td>\n",
       "    </tr>\n",
       "    <tr>\n",
       "      <th>LassoLarsIC</th>\n",
       "      <td>0.63</td>\n",
       "      <td>0.64</td>\n",
       "      <td>0.66</td>\n",
       "      <td>0.43</td>\n",
       "    </tr>\n",
       "    <tr>\n",
       "      <th>SGDRegressor</th>\n",
       "      <td>0.62</td>\n",
       "      <td>0.63</td>\n",
       "      <td>0.67</td>\n",
       "      <td>0.33</td>\n",
       "    </tr>\n",
       "    <tr>\n",
       "      <th>LinearSVR</th>\n",
       "      <td>0.62</td>\n",
       "      <td>0.63</td>\n",
       "      <td>0.67</td>\n",
       "      <td>5.64</td>\n",
       "    </tr>\n",
       "    <tr>\n",
       "      <th>OrthogonalMatchingPursuitCV</th>\n",
       "      <td>0.59</td>\n",
       "      <td>0.61</td>\n",
       "      <td>0.69</td>\n",
       "      <td>1.47</td>\n",
       "    </tr>\n",
       "    <tr>\n",
       "      <th>OrthogonalMatchingPursuit</th>\n",
       "      <td>0.59</td>\n",
       "      <td>0.61</td>\n",
       "      <td>0.69</td>\n",
       "      <td>0.20</td>\n",
       "    </tr>\n",
       "    <tr>\n",
       "      <th>TweedieRegressor</th>\n",
       "      <td>0.59</td>\n",
       "      <td>0.60</td>\n",
       "      <td>0.70</td>\n",
       "      <td>0.48</td>\n",
       "    </tr>\n",
       "    <tr>\n",
       "      <th>GeneralizedLinearRegressor</th>\n",
       "      <td>0.59</td>\n",
       "      <td>0.60</td>\n",
       "      <td>0.70</td>\n",
       "      <td>0.45</td>\n",
       "    </tr>\n",
       "    <tr>\n",
       "      <th>LarsCV</th>\n",
       "      <td>0.40</td>\n",
       "      <td>0.42</td>\n",
       "      <td>0.84</td>\n",
       "      <td>1.41</td>\n",
       "    </tr>\n",
       "    <tr>\n",
       "      <th>ElasticNet</th>\n",
       "      <td>0.19</td>\n",
       "      <td>0.23</td>\n",
       "      <td>0.97</td>\n",
       "      <td>0.17</td>\n",
       "    </tr>\n",
       "    <tr>\n",
       "      <th>DummyRegressor</th>\n",
       "      <td>-0.04</td>\n",
       "      <td>0.00</td>\n",
       "      <td>1.11</td>\n",
       "      <td>0.12</td>\n",
       "    </tr>\n",
       "    <tr>\n",
       "      <th>LassoLars</th>\n",
       "      <td>-0.04</td>\n",
       "      <td>-0.00</td>\n",
       "      <td>1.11</td>\n",
       "      <td>0.16</td>\n",
       "    </tr>\n",
       "    <tr>\n",
       "      <th>Lasso</th>\n",
       "      <td>-0.04</td>\n",
       "      <td>-0.00</td>\n",
       "      <td>1.11</td>\n",
       "      <td>0.17</td>\n",
       "    </tr>\n",
       "    <tr>\n",
       "      <th>PassiveAggressiveRegressor</th>\n",
       "      <td>-0.18</td>\n",
       "      <td>-0.13</td>\n",
       "      <td>1.18</td>\n",
       "      <td>0.35</td>\n",
       "    </tr>\n",
       "    <tr>\n",
       "      <th>RANSACRegressor</th>\n",
       "      <td>-13.58</td>\n",
       "      <td>-12.97</td>\n",
       "      <td>4.13</td>\n",
       "      <td>3.35</td>\n",
       "    </tr>\n",
       "    <tr>\n",
       "      <th>KernelRidge</th>\n",
       "      <td>-36.02</td>\n",
       "      <td>-34.48</td>\n",
       "      <td>6.58</td>\n",
       "      <td>5.09</td>\n",
       "    </tr>\n",
       "    <tr>\n",
       "      <th>Lars</th>\n",
       "      <td>-147.97</td>\n",
       "      <td>-141.76</td>\n",
       "      <td>13.20</td>\n",
       "      <td>0.34</td>\n",
       "    </tr>\n",
       "  </tbody>\n",
       "</table>\n",
       "</div>"
      ],
      "text/plain": [
       "                               Adjusted R-Squared  R-Squared  RMSE  Time Taken\n",
       "Model                                                                         \n",
       "DecisionTreeRegressor                        1.00       1.00  0.05        2.12\n",
       "ExtraTreeRegressor                           1.00       1.00  0.05        0.45\n",
       "ExtraTreesRegressor                          1.00       1.00  0.05       34.45\n",
       "GaussianProcessRegressor                     1.00       1.00  0.05       57.38\n",
       "XGBRegressor                                 0.99       0.99  0.10        6.76\n",
       "RandomForestRegressor                        0.97       0.97  0.20      125.74\n",
       "BaggingRegressor                             0.95       0.96  0.23       12.05\n",
       "HistGradientBoostingRegressor                0.94       0.94  0.27        5.53\n",
       "LGBMRegressor                                0.94       0.94  0.27        2.27\n",
       "SVR                                          0.88       0.88  0.38       31.85\n",
       "NuSVR                                        0.88       0.88  0.38       28.12\n",
       "GradientBoostingRegressor                    0.84       0.85  0.43       59.17\n",
       "KNeighborsRegressor                          0.83       0.84  0.44       28.77\n",
       "MLPRegressor                                 0.81       0.82  0.47       11.56\n",
       "AdaBoostRegressor                            0.72       0.73  0.57       13.65\n",
       "LinearRegression                             0.66       0.67  0.63        0.23\n",
       "TransformedTargetRegressor                   0.66       0.67  0.63        0.24\n",
       "Ridge                                        0.66       0.67  0.63        0.20\n",
       "RidgeCV                                      0.66       0.67  0.63        0.46\n",
       "BayesianRidge                                0.65       0.67  0.64        0.42\n",
       "ElasticNetCV                                 0.65       0.67  0.64        5.82\n",
       "LassoCV                                      0.65       0.67  0.64        5.61\n",
       "LassoLarsCV                                  0.65       0.67  0.64        1.73\n",
       "HuberRegressor                               0.63       0.65  0.66        2.30\n",
       "LassoLarsIC                                  0.63       0.64  0.66        0.43\n",
       "SGDRegressor                                 0.62       0.63  0.67        0.33\n",
       "LinearSVR                                    0.62       0.63  0.67        5.64\n",
       "OrthogonalMatchingPursuitCV                  0.59       0.61  0.69        1.47\n",
       "OrthogonalMatchingPursuit                    0.59       0.61  0.69        0.20\n",
       "TweedieRegressor                             0.59       0.60  0.70        0.48\n",
       "GeneralizedLinearRegressor                   0.59       0.60  0.70        0.45\n",
       "LarsCV                                       0.40       0.42  0.84        1.41\n",
       "ElasticNet                                   0.19       0.23  0.97        0.17\n",
       "DummyRegressor                              -0.04       0.00  1.11        0.12\n",
       "LassoLars                                   -0.04      -0.00  1.11        0.16\n",
       "Lasso                                       -0.04      -0.00  1.11        0.17\n",
       "PassiveAggressiveRegressor                  -0.18      -0.13  1.18        0.35\n",
       "RANSACRegressor                            -13.58     -12.97  4.13        3.35\n",
       "KernelRidge                                -36.02     -34.48  6.58        5.09\n",
       "Lars                                      -147.97    -141.76 13.20        0.34"
      ]
     },
     "execution_count": 27,
     "metadata": {},
     "output_type": "execute_result"
    }
   ],
   "source": [
    "# Defines and builds the lazyclassifier\n",
    "lazy_clf = LazyRegressor(verbose=0,ignore_warnings=True, custom_metric=None)\n",
    "models_train,predictions_train = lazy_clf.fit(X_train, X_train, y_train, y_train)\n",
    "\n",
    "# Performance table of the training set (80% subset)\n",
    "predictions_train"
   ]
  },
  {
   "cell_type": "code",
   "execution_count": 26,
   "metadata": {},
   "outputs": [
    {
     "name": "stderr",
     "output_type": "stream",
     "text": [
      "100%|██████████████████████████████████████████████████████████████████████████████████| 42/42 [06:22<00:00,  9.12s/it]\n"
     ]
    },
    {
     "data": {
      "text/html": [
       "<div>\n",
       "<style scoped>\n",
       "    .dataframe tbody tr th:only-of-type {\n",
       "        vertical-align: middle;\n",
       "    }\n",
       "\n",
       "    .dataframe tbody tr th {\n",
       "        vertical-align: top;\n",
       "    }\n",
       "\n",
       "    .dataframe thead th {\n",
       "        text-align: right;\n",
       "    }\n",
       "</style>\n",
       "<table border=\"1\" class=\"dataframe\">\n",
       "  <thead>\n",
       "    <tr style=\"text-align: right;\">\n",
       "      <th></th>\n",
       "      <th>Adjusted R-Squared</th>\n",
       "      <th>R-Squared</th>\n",
       "      <th>RMSE</th>\n",
       "      <th>Time Taken</th>\n",
       "    </tr>\n",
       "    <tr>\n",
       "      <th>Model</th>\n",
       "      <th></th>\n",
       "      <th></th>\n",
       "      <th></th>\n",
       "      <th></th>\n",
       "    </tr>\n",
       "  </thead>\n",
       "  <tbody>\n",
       "    <tr>\n",
       "      <th>NuSVR</th>\n",
       "      <td>0.79</td>\n",
       "      <td>0.82</td>\n",
       "      <td>0.47</td>\n",
       "      <td>18.78</td>\n",
       "    </tr>\n",
       "    <tr>\n",
       "      <th>SVR</th>\n",
       "      <td>0.79</td>\n",
       "      <td>0.82</td>\n",
       "      <td>0.47</td>\n",
       "      <td>19.65</td>\n",
       "    </tr>\n",
       "    <tr>\n",
       "      <th>LGBMRegressor</th>\n",
       "      <td>0.78</td>\n",
       "      <td>0.81</td>\n",
       "      <td>0.48</td>\n",
       "      <td>1.86</td>\n",
       "    </tr>\n",
       "    <tr>\n",
       "      <th>HistGradientBoostingRegressor</th>\n",
       "      <td>0.78</td>\n",
       "      <td>0.81</td>\n",
       "      <td>0.48</td>\n",
       "      <td>5.51</td>\n",
       "    </tr>\n",
       "    <tr>\n",
       "      <th>ExtraTreesRegressor</th>\n",
       "      <td>0.77</td>\n",
       "      <td>0.81</td>\n",
       "      <td>0.49</td>\n",
       "      <td>34.30</td>\n",
       "    </tr>\n",
       "    <tr>\n",
       "      <th>RandomForestRegressor</th>\n",
       "      <td>0.77</td>\n",
       "      <td>0.81</td>\n",
       "      <td>0.49</td>\n",
       "      <td>110.10</td>\n",
       "    </tr>\n",
       "    <tr>\n",
       "      <th>BaggingRegressor</th>\n",
       "      <td>0.75</td>\n",
       "      <td>0.79</td>\n",
       "      <td>0.51</td>\n",
       "      <td>12.59</td>\n",
       "    </tr>\n",
       "    <tr>\n",
       "      <th>GradientBoostingRegressor</th>\n",
       "      <td>0.74</td>\n",
       "      <td>0.78</td>\n",
       "      <td>0.52</td>\n",
       "      <td>58.92</td>\n",
       "    </tr>\n",
       "    <tr>\n",
       "      <th>KNeighborsRegressor</th>\n",
       "      <td>0.74</td>\n",
       "      <td>0.78</td>\n",
       "      <td>0.52</td>\n",
       "      <td>7.31</td>\n",
       "    </tr>\n",
       "    <tr>\n",
       "      <th>XGBRegressor</th>\n",
       "      <td>0.74</td>\n",
       "      <td>0.78</td>\n",
       "      <td>0.52</td>\n",
       "      <td>6.39</td>\n",
       "    </tr>\n",
       "    <tr>\n",
       "      <th>AdaBoostRegressor</th>\n",
       "      <td>0.64</td>\n",
       "      <td>0.70</td>\n",
       "      <td>0.61</td>\n",
       "      <td>14.38</td>\n",
       "    </tr>\n",
       "    <tr>\n",
       "      <th>BayesianRidge</th>\n",
       "      <td>0.58</td>\n",
       "      <td>0.65</td>\n",
       "      <td>0.66</td>\n",
       "      <td>0.39</td>\n",
       "    </tr>\n",
       "    <tr>\n",
       "      <th>ElasticNetCV</th>\n",
       "      <td>0.58</td>\n",
       "      <td>0.65</td>\n",
       "      <td>0.66</td>\n",
       "      <td>5.79</td>\n",
       "    </tr>\n",
       "    <tr>\n",
       "      <th>LassoLarsCV</th>\n",
       "      <td>0.58</td>\n",
       "      <td>0.65</td>\n",
       "      <td>0.66</td>\n",
       "      <td>1.59</td>\n",
       "    </tr>\n",
       "    <tr>\n",
       "      <th>LassoCV</th>\n",
       "      <td>0.58</td>\n",
       "      <td>0.65</td>\n",
       "      <td>0.66</td>\n",
       "      <td>5.63</td>\n",
       "    </tr>\n",
       "    <tr>\n",
       "      <th>MLPRegressor</th>\n",
       "      <td>0.58</td>\n",
       "      <td>0.65</td>\n",
       "      <td>0.66</td>\n",
       "      <td>11.31</td>\n",
       "    </tr>\n",
       "    <tr>\n",
       "      <th>RidgeCV</th>\n",
       "      <td>0.57</td>\n",
       "      <td>0.64</td>\n",
       "      <td>0.67</td>\n",
       "      <td>0.39</td>\n",
       "    </tr>\n",
       "    <tr>\n",
       "      <th>Ridge</th>\n",
       "      <td>0.57</td>\n",
       "      <td>0.64</td>\n",
       "      <td>0.67</td>\n",
       "      <td>0.14</td>\n",
       "    </tr>\n",
       "    <tr>\n",
       "      <th>TransformedTargetRegressor</th>\n",
       "      <td>0.57</td>\n",
       "      <td>0.64</td>\n",
       "      <td>0.67</td>\n",
       "      <td>0.22</td>\n",
       "    </tr>\n",
       "    <tr>\n",
       "      <th>LinearRegression</th>\n",
       "      <td>0.57</td>\n",
       "      <td>0.64</td>\n",
       "      <td>0.67</td>\n",
       "      <td>0.24</td>\n",
       "    </tr>\n",
       "    <tr>\n",
       "      <th>LassoLarsIC</th>\n",
       "      <td>0.57</td>\n",
       "      <td>0.64</td>\n",
       "      <td>0.67</td>\n",
       "      <td>0.39</td>\n",
       "    </tr>\n",
       "    <tr>\n",
       "      <th>HuberRegressor</th>\n",
       "      <td>0.56</td>\n",
       "      <td>0.64</td>\n",
       "      <td>0.67</td>\n",
       "      <td>2.63</td>\n",
       "    </tr>\n",
       "    <tr>\n",
       "      <th>LinearSVR</th>\n",
       "      <td>0.55</td>\n",
       "      <td>0.62</td>\n",
       "      <td>0.69</td>\n",
       "      <td>6.01</td>\n",
       "    </tr>\n",
       "    <tr>\n",
       "      <th>SGDRegressor</th>\n",
       "      <td>0.53</td>\n",
       "      <td>0.61</td>\n",
       "      <td>0.70</td>\n",
       "      <td>0.21</td>\n",
       "    </tr>\n",
       "    <tr>\n",
       "      <th>DecisionTreeRegressor</th>\n",
       "      <td>0.53</td>\n",
       "      <td>0.61</td>\n",
       "      <td>0.70</td>\n",
       "      <td>2.11</td>\n",
       "    </tr>\n",
       "    <tr>\n",
       "      <th>TweedieRegressor</th>\n",
       "      <td>0.53</td>\n",
       "      <td>0.61</td>\n",
       "      <td>0.70</td>\n",
       "      <td>0.53</td>\n",
       "    </tr>\n",
       "    <tr>\n",
       "      <th>GeneralizedLinearRegressor</th>\n",
       "      <td>0.53</td>\n",
       "      <td>0.61</td>\n",
       "      <td>0.70</td>\n",
       "      <td>0.50</td>\n",
       "    </tr>\n",
       "    <tr>\n",
       "      <th>OrthogonalMatchingPursuit</th>\n",
       "      <td>0.52</td>\n",
       "      <td>0.60</td>\n",
       "      <td>0.71</td>\n",
       "      <td>0.13</td>\n",
       "    </tr>\n",
       "    <tr>\n",
       "      <th>OrthogonalMatchingPursuitCV</th>\n",
       "      <td>0.52</td>\n",
       "      <td>0.60</td>\n",
       "      <td>0.71</td>\n",
       "      <td>1.25</td>\n",
       "    </tr>\n",
       "    <tr>\n",
       "      <th>ExtraTreeRegressor</th>\n",
       "      <td>0.42</td>\n",
       "      <td>0.51</td>\n",
       "      <td>0.78</td>\n",
       "      <td>0.44</td>\n",
       "    </tr>\n",
       "    <tr>\n",
       "      <th>LarsCV</th>\n",
       "      <td>0.30</td>\n",
       "      <td>0.42</td>\n",
       "      <td>0.85</td>\n",
       "      <td>1.18</td>\n",
       "    </tr>\n",
       "    <tr>\n",
       "      <th>ElasticNet</th>\n",
       "      <td>0.07</td>\n",
       "      <td>0.22</td>\n",
       "      <td>0.98</td>\n",
       "      <td>0.13</td>\n",
       "    </tr>\n",
       "    <tr>\n",
       "      <th>DummyRegressor</th>\n",
       "      <td>-0.20</td>\n",
       "      <td>-0.00</td>\n",
       "      <td>1.12</td>\n",
       "      <td>0.09</td>\n",
       "    </tr>\n",
       "    <tr>\n",
       "      <th>Lasso</th>\n",
       "      <td>-0.20</td>\n",
       "      <td>-0.00</td>\n",
       "      <td>1.12</td>\n",
       "      <td>0.13</td>\n",
       "    </tr>\n",
       "    <tr>\n",
       "      <th>LassoLars</th>\n",
       "      <td>-0.20</td>\n",
       "      <td>-0.00</td>\n",
       "      <td>1.12</td>\n",
       "      <td>0.14</td>\n",
       "    </tr>\n",
       "    <tr>\n",
       "      <th>PassiveAggressiveRegressor</th>\n",
       "      <td>-0.30</td>\n",
       "      <td>-0.08</td>\n",
       "      <td>1.16</td>\n",
       "      <td>0.25</td>\n",
       "    </tr>\n",
       "    <tr>\n",
       "      <th>RANSACRegressor</th>\n",
       "      <td>-19.16</td>\n",
       "      <td>-15.80</td>\n",
       "      <td>4.58</td>\n",
       "      <td>3.21</td>\n",
       "    </tr>\n",
       "    <tr>\n",
       "      <th>GaussianProcessRegressor</th>\n",
       "      <td>-40.43</td>\n",
       "      <td>-33.52</td>\n",
       "      <td>6.56</td>\n",
       "      <td>42.80</td>\n",
       "    </tr>\n",
       "    <tr>\n",
       "      <th>KernelRidge</th>\n",
       "      <td>-40.84</td>\n",
       "      <td>-33.87</td>\n",
       "      <td>6.60</td>\n",
       "      <td>4.79</td>\n",
       "    </tr>\n",
       "    <tr>\n",
       "      <th>Lars</th>\n",
       "      <td>-197.94</td>\n",
       "      <td>-164.79</td>\n",
       "      <td>14.39</td>\n",
       "      <td>0.25</td>\n",
       "    </tr>\n",
       "  </tbody>\n",
       "</table>\n",
       "</div>"
      ],
      "text/plain": [
       "                               Adjusted R-Squared  R-Squared  RMSE  Time Taken\n",
       "Model                                                                         \n",
       "NuSVR                                        0.79       0.82  0.47       18.78\n",
       "SVR                                          0.79       0.82  0.47       19.65\n",
       "LGBMRegressor                                0.78       0.81  0.48        1.86\n",
       "HistGradientBoostingRegressor                0.78       0.81  0.48        5.51\n",
       "ExtraTreesRegressor                          0.77       0.81  0.49       34.30\n",
       "RandomForestRegressor                        0.77       0.81  0.49      110.10\n",
       "BaggingRegressor                             0.75       0.79  0.51       12.59\n",
       "GradientBoostingRegressor                    0.74       0.78  0.52       58.92\n",
       "KNeighborsRegressor                          0.74       0.78  0.52        7.31\n",
       "XGBRegressor                                 0.74       0.78  0.52        6.39\n",
       "AdaBoostRegressor                            0.64       0.70  0.61       14.38\n",
       "BayesianRidge                                0.58       0.65  0.66        0.39\n",
       "ElasticNetCV                                 0.58       0.65  0.66        5.79\n",
       "LassoLarsCV                                  0.58       0.65  0.66        1.59\n",
       "LassoCV                                      0.58       0.65  0.66        5.63\n",
       "MLPRegressor                                 0.58       0.65  0.66       11.31\n",
       "RidgeCV                                      0.57       0.64  0.67        0.39\n",
       "Ridge                                        0.57       0.64  0.67        0.14\n",
       "TransformedTargetRegressor                   0.57       0.64  0.67        0.22\n",
       "LinearRegression                             0.57       0.64  0.67        0.24\n",
       "LassoLarsIC                                  0.57       0.64  0.67        0.39\n",
       "HuberRegressor                               0.56       0.64  0.67        2.63\n",
       "LinearSVR                                    0.55       0.62  0.69        6.01\n",
       "SGDRegressor                                 0.53       0.61  0.70        0.21\n",
       "DecisionTreeRegressor                        0.53       0.61  0.70        2.11\n",
       "TweedieRegressor                             0.53       0.61  0.70        0.53\n",
       "GeneralizedLinearRegressor                   0.53       0.61  0.70        0.50\n",
       "OrthogonalMatchingPursuit                    0.52       0.60  0.71        0.13\n",
       "OrthogonalMatchingPursuitCV                  0.52       0.60  0.71        1.25\n",
       "ExtraTreeRegressor                           0.42       0.51  0.78        0.44\n",
       "LarsCV                                       0.30       0.42  0.85        1.18\n",
       "ElasticNet                                   0.07       0.22  0.98        0.13\n",
       "DummyRegressor                              -0.20      -0.00  1.12        0.09\n",
       "Lasso                                       -0.20      -0.00  1.12        0.13\n",
       "LassoLars                                   -0.20      -0.00  1.12        0.14\n",
       "PassiveAggressiveRegressor                  -0.30      -0.08  1.16        0.25\n",
       "RANSACRegressor                            -19.16     -15.80  4.58        3.21\n",
       "GaussianProcessRegressor                   -40.43     -33.52  6.56       42.80\n",
       "KernelRidge                                -40.84     -33.87  6.60        4.79\n",
       "Lars                                      -197.94    -164.79 14.39        0.25"
      ]
     },
     "execution_count": 26,
     "metadata": {},
     "output_type": "execute_result"
    }
   ],
   "source": [
    "# Defines and builds the lazyclassifier\n",
    "lazy_clf = LazyRegressor(verbose=0,ignore_warnings=True, custom_metric=None)\n",
    "models_test,predictions_test = lazy_clf.fit(X_train, X_test, y_train, y_test)\n",
    "\n",
    "# Performance table of the test set (20% subset)\n",
    "predictions_test"
   ]
  },
  {
   "cell_type": "code",
   "execution_count": 28,
   "metadata": {},
   "outputs": [
    {
     "data": {
      "text/plain": [
       "[(0.0, 1.0)]"
      ]
     },
     "execution_count": 28,
     "metadata": {},
     "output_type": "execute_result"
    },
    {
     "data": {
      "image/png": "[encoded data removed]",
      "text/plain": [
       "<Figure size 360x720 with 1 Axes>"
      ]
     },
     "metadata": {
      "needs_background": "light"
     },
     "output_type": "display_data"
    }
   ],
   "source": [
    "# Bar plot of R-squared values on test set\n",
    "plt.figure(figsize=(5, 10))\n",
    "sns.set_theme(style=\"whitegrid\")\n",
    "ax = sns.barplot(y=predictions_test.index, x=\"R-Squared\", data=predictions_test)\n",
    "ax.set(xlim=(0, 1))"
   ]
  },
  {
   "cell_type": "code",
   "execution_count": 29,
   "metadata": {},
   "outputs": [
    {
     "data": {
      "text/plain": [
       "[(0.0, 10.0)]"
      ]
     },
     "execution_count": 29,
     "metadata": {},
     "output_type": "execute_result"
    },
    {
     "data": {
      "image/png": "[encoded data removed]",
      "text/plain": [
       "<Figure size 360x720 with 1 Axes>"
      ]
     },
     "metadata": {},
     "output_type": "display_data"
    }
   ],
   "source": [
    "# Bar plot of RMSE values on test set\n",
    "plt.figure(figsize=(5, 10))\n",
    "sns.set_theme(style=\"whitegrid\")\n",
    "ax = sns.barplot(y=predictions_test.index, x=\"RMSE\", data=predictions_test)\n",
    "ax.set(xlim=(0, 10))"
   ]
  },
  {
   "cell_type": "code",
   "execution_count": 31,
   "metadata": {},
   "outputs": [
    {
     "data": {
      "image/png": "[encoded data removed]",
      "text/plain": [
       "<Figure size 360x720 with 1 Axes>"
      ]
     },
     "metadata": {},
     "output_type": "display_data"
    }
   ],
   "source": [
    "# Bar plot of calculation time for training\n",
    "plt.figure(figsize=(5, 10))\n",
    "sns.set_theme(style=\"whitegrid\")\n",
    "ax = sns.barplot(y=predictions_train.index, x=\"Time Taken\", data=predictions_train)"
   ]
  },
  {
   "cell_type": "markdown",
   "metadata": {},
   "source": [
    "## Training using Random Forest Regressor"
   ]
  },
  {
   "cell_type": "code",
   "execution_count": 32,
   "metadata": {
    "colab": {
     "base_uri": "https://localhost:8080/"
    },
    "executionInfo": {
     "elapsed": 82577,
     "status": "ok",
     "timestamp": 1643987813325,
     "user": {
      "displayName": "Ratul Mali",
      "photoUrl": "https://lh3.googleusercontent.com/a/default-user=s64",
      "userId": "15812466021162346003"
     },
     "user_tz": -330
    },
    "id": "1KAKK8YfyGrZ",
    "outputId": "5bd0bd1e-0a47-42e7-a954-7c70b835953f"
   },
   "outputs": [
    {
     "data": {
      "text/plain": [
       "RandomForestRegressor(max_depth=8, n_estimators=250, n_jobs=-1, random_state=1)"
      ]
     },
     "execution_count": 32,
     "metadata": {},
     "output_type": "execute_result"
    }
   ],
   "source": [
    "model = RandomForestRegressor(n_estimators=250, max_depth=8, n_jobs=-1, random_state=1)\n",
    "model.fit(X_train,y_train)"
   ]
  },
  {
   "cell_type": "code",
   "execution_count": 33,
   "metadata": {
    "colab": {
     "base_uri": "https://localhost:8080/"
    },
    "executionInfo": {
     "elapsed": 6,
     "status": "ok",
     "timestamp": 1643987902121,
     "user": {
      "displayName": "Ratul Mali",
      "photoUrl": "https://lh3.googleusercontent.com/a/default-user=s64",
      "userId": "15812466021162346003"
     },
     "user_tz": -330
    },
    "id": "Q_J1N49urYkR",
    "outputId": "d0ef5553-f50a-4e90-80a8-fefa54e9096d"
   },
   "outputs": [
    {
     "name": "stdout",
     "output_type": "stream",
     "text": [
      "Training data performance:\n",
      "MAE score : 0.3014\n",
      "MSE score : 0.1661\n",
      "r2 score : 0.8640\n",
      "Test data performance:\n",
      "MAE score : 0.3675\n",
      "MSE score : 0.2739\n",
      "r2 score : 0.7806\n"
     ]
    }
   ],
   "source": [
    "# Compare preformance of the model on train and test data to account for bias and undefitting\n",
    "print('Training data performance:')\n",
    "mae,mse,r_square = evaluate(model, X_train, y_train)\n",
    "print('MAE score : {:.4f}'.format(mae))\n",
    "print('MSE score : {:.4f}'.format(mse))\n",
    "print('r2 score : {:.4f}'.format(r_square))\n",
    "print('Test data performance:')\n",
    "mae,mse,r_square = evaluate(model, X_test, y_test)\n",
    "print('MAE score : {:.4f}'.format(mae))\n",
    "print('MSE score : {:.4f}'.format(mse))\n",
    "print('r2 score : {:.4f}'.format(r_square))"
   ]
  },
  {
   "cell_type": "code",
   "execution_count": 34,
   "metadata": {
    "colab": {
     "base_uri": "https://localhost:8080/"
    },
    "executionInfo": {
     "elapsed": 567,
     "status": "ok",
     "timestamp": 1643988216742,
     "user": {
      "displayName": "Ratul Mali",
      "photoUrl": "https://lh3.googleusercontent.com/a/default-user=s64",
      "userId": "15812466021162346003"
     },
     "user_tz": -330
    },
    "id": "0ijUvVsvWrtK",
    "outputId": "f7c9c21d-56ce-4811-f6d5-dbf16bff80d4"
   },
   "outputs": [
    {
     "name": "stdout",
     "output_type": "stream",
     "text": [
      "{'n_estimators': [200, 300, 400, 500, 600, 700, 800, 900, 1000], 'max_depth': [5, 7, 9, 11, 13, 15], 'min_samples_split': [2, 3, 4, 5, 6, 7, 8, 9, 10], 'min_samples_leaf': [1, 2, 3, 4, 5], 'max_features': ['auto', 'sqrt'], 'bootstrap': [True, False]}\n"
     ]
    }
   ],
   "source": [
    "params_grid = {'n_estimators': [i for i in range(200,1001,100)],\n",
    "         'max_depth': [i for i in range(5,16,2)],\n",
    "         'min_samples_split': [i for i in range(2,11)],\n",
    "         'min_samples_leaf': [i for i in range(1,6)],\n",
    "         'max_features': ['auto', 'sqrt'],\n",
    "         'bootstrap': [True, False]}\n",
    "print(params_grid)"
   ]
  },
  {
   "cell_type": "code",
   "execution_count": 35,
   "metadata": {
    "colab": {
     "base_uri": "https://localhost:8080/",
     "height": 453
    },
    "executionInfo": {
     "elapsed": 15908194,
     "status": "error",
     "timestamp": 1644004149675,
     "user": {
      "displayName": "Ratul Mali",
      "photoUrl": "https://lh3.googleusercontent.com/a/default-user=s64",
      "userId": "15812466021162346003"
     },
     "user_tz": -330
    },
    "id": "qiEU8Xm2zhAh",
    "outputId": "226f8594-019b-416a-b827-42a03cd5f96a"
   },
   "outputs": [
    {
     "name": "stdout",
     "output_type": "stream",
     "text": [
      "Fitting 5 folds for each of 10 candidates, totalling 50 fits\n"
     ]
    },
    {
     "name": "stderr",
     "output_type": "stream",
     "text": [
      "[Parallel(n_jobs=-1)]: Using backend LokyBackend with 8 concurrent workers.\n",
      "[Parallel(n_jobs=-1)]: Done  25 tasks      | elapsed: 20.2min\n",
      "[Parallel(n_jobs=-1)]: Done  50 out of  50 | elapsed: 45.6min finished\n"
     ]
    },
    {
     "name": "stdout",
     "output_type": "stream",
     "text": [
      "0.7807415788979155\n"
     ]
    },
    {
     "data": {
      "text/plain": [
       "{'n_estimators': 600,\n",
       " 'min_samples_split': 3,\n",
       " 'min_samples_leaf': 3,\n",
       " 'max_features': 'auto',\n",
       " 'max_depth': 15,\n",
       " 'bootstrap': True}"
      ]
     },
     "execution_count": 35,
     "metadata": {},
     "output_type": "execute_result"
    }
   ],
   "source": [
    "reg = RandomForestRegressor()\n",
    "# Create the random search Random Forest\n",
    "reg_tune = RandomizedSearchCV(estimator = reg, param_distributions = params_grid, n_iter = 10, cv = 5, verbose=2, n_jobs = -1, random_state=1)\n",
    "# Fit the random search model\n",
    "reg_tune.fit(X_train,y_train)\n",
    "# Optimal score\n",
    "print(reg_tune.best_score_)\n",
    "# Get the optimal parameters\n",
    "reg_tune.best_params_"
   ]
  },
  {
   "cell_type": "code",
   "execution_count": 36,
   "metadata": {
    "colab": {
     "base_uri": "https://localhost:8080/"
    },
    "executionInfo": {
     "elapsed": 4,
     "status": "ok",
     "timestamp": 1643958944175,
     "user": {
      "displayName": "Ratul Mali",
      "photoUrl": "https://lh3.googleusercontent.com/a/default-user=s64",
      "userId": "15812466021162346003"
     },
     "user_tz": -330
    },
    "id": "wCZ-PriVloH5",
    "outputId": "adf4bf02-e363-47ae-cbdb-89d2be618c54"
   },
   "outputs": [
    {
     "data": {
      "text/plain": [
       "RandomForestRegressor(max_depth=15, min_samples_leaf=3, min_samples_split=3,\n",
       "                      n_estimators=600)"
      ]
     },
     "execution_count": 36,
     "metadata": {},
     "output_type": "execute_result"
    }
   ],
   "source": [
    "reg_tune.best_estimator_"
   ]
  },
  {
   "cell_type": "code",
   "execution_count": 106,
   "metadata": {
    "colab": {
     "base_uri": "https://localhost:8080/"
    },
    "executionInfo": {
     "elapsed": 46353,
     "status": "ok",
     "timestamp": 1643971845742,
     "user": {
      "displayName": "Ratul Mali",
      "photoUrl": "https://lh3.googleusercontent.com/a/default-user=s64",
      "userId": "15812466021162346003"
     },
     "user_tz": -330
    },
    "id": "Kwnv7shWWlcq",
    "outputId": "3abcabe2-155b-4f23-afb9-a54aaec81cdf"
   },
   "outputs": [
    {
     "data": {
      "text/plain": [
       "RandomForestRegressor(max_depth=15, min_samples_leaf=3, min_samples_split=3,\n",
       "                      n_estimators=600, n_jobs=-1, random_state=1)"
      ]
     },
     "execution_count": 106,
     "metadata": {},
     "output_type": "execute_result"
    }
   ],
   "source": [
    "rfr_model = RandomForestRegressor(n_estimators=600, max_depth=15, min_samples_leaf=3, min_samples_split=3, n_jobs=-1, random_state=1)\n",
    "rfr_model.fit(X_train,y_train)"
   ]
  },
  {
   "cell_type": "code",
   "execution_count": 107,
   "metadata": {
    "colab": {
     "base_uri": "https://localhost:8080/"
    },
    "executionInfo": {
     "elapsed": 460,
     "status": "ok",
     "timestamp": 1643971854169,
     "user": {
      "displayName": "Ratul Mali",
      "photoUrl": "https://lh3.googleusercontent.com/a/default-user=s64",
      "userId": "15812466021162346003"
     },
     "user_tz": -330
    },
    "id": "I28RZ2VeWrBk",
    "outputId": "edbdd130-3a66-40cd-bd64-ac5a19925db4"
   },
   "outputs": [
    {
     "name": "stdout",
     "output_type": "stream",
     "text": [
      "MAE score : 0.3409\n",
      "MSE score : 0.2424\n",
      "r2 score : 0.8058\n"
     ]
    }
   ],
   "source": [
    "mae,mse,r_square = evaluate(rfr_model, X_test, y_test)\n",
    "print('MAE score : {:.4f}'.format(mae))\n",
    "print('MSE score : {:.4f}'.format(mse))\n",
    "print('r2 score : {:.4f}'.format(r_square))"
   ]
  },
  {
   "cell_type": "markdown",
   "metadata": {},
   "source": [
    "## Training using SVR"
   ]
  },
  {
   "cell_type": "code",
   "execution_count": 39,
   "metadata": {
    "colab": {
     "base_uri": "https://localhost:8080/"
    },
    "executionInfo": {
     "elapsed": 14121,
     "status": "ok",
     "timestamp": 1643952692355,
     "user": {
      "displayName": "Ratul Mali",
      "photoUrl": "https://lh3.googleusercontent.com/a/default-user=s64",
      "userId": "15812466021162346003"
     },
     "user_tz": -330
    },
    "id": "elR_GeSNY5Vv",
    "outputId": "26d64b20-ea61-43f8-9ade-807ec6fabdd4"
   },
   "outputs": [
    {
     "data": {
      "text/plain": [
       "SVR()"
      ]
     },
     "execution_count": 39,
     "metadata": {},
     "output_type": "execute_result"
    }
   ],
   "source": [
    "model2 = SVR(kernel='rbf')\n",
    "model2.fit(X_train_scaled, y_train)"
   ]
  },
  {
   "cell_type": "code",
   "execution_count": 40,
   "metadata": {
    "colab": {
     "base_uri": "https://localhost:8080/"
    },
    "executionInfo": {
     "elapsed": 20111,
     "status": "ok",
     "timestamp": 1643952714862,
     "user": {
      "displayName": "Ratul Mali",
      "photoUrl": "https://lh3.googleusercontent.com/a/default-user=s64",
      "userId": "15812466021162346003"
     },
     "user_tz": -330
    },
    "id": "86jRQux99tEJ",
    "outputId": "7e160d07-ca60-40f6-831b-1ace8c60a367"
   },
   "outputs": [
    {
     "name": "stdout",
     "output_type": "stream",
     "text": [
      "Training data performance:\n",
      "0.22666584041249324\n",
      "0.1420441807901457\n",
      "0.8836982288561485\n",
      "Test data performance:\n",
      "0.3177095462981116\n",
      "0.22290259645009397\n",
      "0.8214329669981865\n"
     ]
    }
   ],
   "source": [
    "# Compare preformance of the model on train and test data to account for bias and undefitting\n",
    "print('Training data performance:')\n",
    "mae,mse,r_square = evaluate(model2, X_train_scaled, y_train)\n",
    "print(mae)\n",
    "print(mse)\n",
    "print(r_square)\n",
    "print('Test data performance:')\n",
    "mae,mse,r_square = evaluate(model2, X_test_scaled, y_test)\n",
    "print(mae)\n",
    "print(mse)\n",
    "print(r_square)"
   ]
  },
  {
   "cell_type": "code",
   "execution_count": 62,
   "metadata": {},
   "outputs": [
    {
     "name": "stdout",
     "output_type": "stream",
     "text": [
      "{'C': [0.01, 0.03, 0.1, 0.3, 1, 3, 10, 30], 'gamma': ['scale', 'auto']}\n"
     ]
    }
   ],
   "source": [
    "svr_grid = {'C': [0.01, 0.03, 0.1, 0.3, 1, 3, 10, 30],\n",
    "            'gamma': ['scale', 'auto']}\n",
    "print(svr_grid)"
   ]
  },
  {
   "cell_type": "code",
   "execution_count": 77,
   "metadata": {},
   "outputs": [
    {
     "name": "stdout",
     "output_type": "stream",
     "text": [
      "Fitting 5 folds for each of 16 candidates, totalling 80 fits\n"
     ]
    },
    {
     "name": "stderr",
     "output_type": "stream",
     "text": [
      "[Parallel(n_jobs=-1)]: Using backend LokyBackend with 8 concurrent workers.\n",
      "[Parallel(n_jobs=-1)]: Done  25 tasks      | elapsed:   58.9s\n",
      "[Parallel(n_jobs=-1)]: Done  80 out of  80 | elapsed:  2.7min finished\n"
     ]
    },
    {
     "name": "stdout",
     "output_type": "stream",
     "text": [
      "0.8054297011412309\n"
     ]
    },
    {
     "data": {
      "text/plain": [
       "{'C': 1, 'gamma': 'scale'}"
      ]
     },
     "execution_count": 77,
     "metadata": {},
     "output_type": "execute_result"
    }
   ],
   "source": [
    "svr_reg = SVR(kernel='rbf')\n",
    "# Create the random search SVR\n",
    "svr_reg_tune = GridSearchCV(estimator = svr_reg, param_grid = svr_grid, cv = 5, verbose=2, n_jobs = -1)\n",
    "# Fit the random search model\n",
    "svr_reg_tune.fit(X_train_scaled,y_train)\n",
    "# Optimal score\n",
    "print(svr_reg_tune.best_score_)\n",
    "# Get the optimal parameters\n",
    "svr_reg_tune.best_params_"
   ]
  },
  {
   "cell_type": "code",
   "execution_count": 78,
   "metadata": {},
   "outputs": [
    {
     "data": {
      "text/plain": [
       "SVR(C=1)"
      ]
     },
     "execution_count": 78,
     "metadata": {},
     "output_type": "execute_result"
    }
   ],
   "source": [
    "svr_reg_tune.best_estimator_"
   ]
  },
  {
   "cell_type": "code",
   "execution_count": 108,
   "metadata": {},
   "outputs": [
    {
     "data": {
      "text/plain": [
       "SVR(C=1)"
      ]
     },
     "execution_count": 108,
     "metadata": {},
     "output_type": "execute_result"
    }
   ],
   "source": [
    "svr_model = SVR(kernel='rbf', C=1, gamma='scale')\n",
    "svr_model.fit(X_train_scaled, y_train)"
   ]
  },
  {
   "cell_type": "code",
   "execution_count": 109,
   "metadata": {},
   "outputs": [
    {
     "name": "stdout",
     "output_type": "stream",
     "text": [
      "Test set performance:\n",
      "MAE score : 0.3177\n",
      "MSE score : 0.2229\n",
      "r2 score : 0.8214\n"
     ]
    }
   ],
   "source": [
    "print('Test set performance:')\n",
    "mae,mse,r_square = evaluate(svr_model, X_test_scaled, y_test)\n",
    "print('MAE score : {:.4f}'.format(mae))\n",
    "print('MSE score : {:.4f}'.format(mse))\n",
    "print('r2 score : {:.4f}'.format(r_square))"
   ]
  },
  {
   "cell_type": "markdown",
   "metadata": {},
   "source": [
    "## Training using XGBRegressor"
   ]
  },
  {
   "cell_type": "code",
   "execution_count": 99,
   "metadata": {},
   "outputs": [
    {
     "data": {
      "text/plain": [
       "XGBRegressor(base_score=0.5, booster='gbtree', colsample_bylevel=1,\n",
       "             colsample_bynode=1, colsample_bytree=1, gamma=0, gpu_id=-1,\n",
       "             importance_type='gain', interaction_constraints='',\n",
       "             learning_rate=0.300000012, max_delta_step=0, max_depth=6,\n",
       "             min_child_weight=1, missing=nan, monotone_constraints='()',\n",
       "             n_estimators=100, n_jobs=-1, num_parallel_tree=1, random_state=1,\n",
       "             reg_alpha=0, reg_lambda=1, scale_pos_weight=1, subsample=1,\n",
       "             tree_method='exact', validate_parameters=1, verbosity=None)"
      ]
     },
     "execution_count": 99,
     "metadata": {},
     "output_type": "execute_result"
    }
   ],
   "source": [
    "model3 = XGBRegressor(n_jobs=-1, random_state = 1)\n",
    "model3.fit(X_train,y_train)"
   ]
  },
  {
   "cell_type": "code",
   "execution_count": 100,
   "metadata": {},
   "outputs": [
    {
     "name": "stdout",
     "output_type": "stream",
     "text": [
      "Training data performance:\n",
      "0.07067884042385203\n",
      "0.010011769033215977\n",
      "0.9918026457376213\n",
      "Test data performance:\n",
      "0.3630061943354969\n",
      "0.27414826324295416\n",
      "0.7803801178204094\n"
     ]
    }
   ],
   "source": [
    "# Compare preformance of the model on train and test data to account for bias and undefitting\n",
    "print('Training data performance:')\n",
    "mae,mse,r_square = evaluate(model3, X_train, y_train)\n",
    "print(mae)\n",
    "print(mse)\n",
    "print(r_square)\n",
    "print('Test data performance:')\n",
    "mae,mse,r_square = evaluate(model3, X_test, y_test)\n",
    "print(mae)\n",
    "print(mse)\n",
    "print(r_square)"
   ]
  },
  {
   "cell_type": "code",
   "execution_count": 101,
   "metadata": {
    "id": "c4TJ470pWTkq"
   },
   "outputs": [
    {
     "name": "stdout",
     "output_type": "stream",
     "text": [
      "{'n_estimators': [100, 150, 200, 250, 300, 350, 400, 450, 500, 550, 600, 650, 700], 'max_depth': [2, 4, 6, 8, 10, 12, 14], 'min_child_weight': [0, 1, 2, 3, 4, 5, 6, 7, 8, 9, 10], 'tree_method': ['auto', 'exact', 'approx', 'hist', 'gpu_hist'], 'objective': ['reg:squarederror', 'reg:squaredlogerror']}\n"
     ]
    }
   ],
   "source": [
    "xgb_grid = {'n_estimators': [i for i in range(100,701,50)],\n",
    "            'max_depth': [i for i in range(2,15,2)],\n",
    "            'min_child_weight': [i for i in range(11)],\n",
    "            'tree_method': ['auto', 'exact', 'approx', 'hist', 'gpu_hist'],\n",
    "            'objective': ['reg:squarederror', 'reg:squaredlogerror']}\n",
    "print(xgb_grid)"
   ]
  },
  {
   "cell_type": "code",
   "execution_count": 102,
   "metadata": {
    "id": "sg6SihelWTV5"
   },
   "outputs": [
    {
     "name": "stdout",
     "output_type": "stream",
     "text": [
      "Fitting 5 folds for each of 20 candidates, totalling 100 fits\n"
     ]
    },
    {
     "name": "stderr",
     "output_type": "stream",
     "text": [
      "[Parallel(n_jobs=-1)]: Using backend LokyBackend with 8 concurrent workers.\n",
      "[Parallel(n_jobs=-1)]: Done  37 tasks      | elapsed:  3.6min\n",
      "[Parallel(n_jobs=-1)]: Done 100 out of 100 | elapsed: 16.7min finished\n"
     ]
    },
    {
     "name": "stdout",
     "output_type": "stream",
     "text": [
      "0.7626302226788594\n"
     ]
    },
    {
     "data": {
      "text/plain": [
       "{'tree_method': 'gpu_hist',\n",
       " 'objective': 'reg:squarederror',\n",
       " 'n_estimators': 150,\n",
       " 'min_child_weight': 1,\n",
       " 'max_depth': 2}"
      ]
     },
     "execution_count": 102,
     "metadata": {},
     "output_type": "execute_result"
    }
   ],
   "source": [
    "xgb_reg = XGBRegressor()\n",
    "\n",
    "# Create the random search Random Forest\n",
    "xgb_reg_tune = RandomizedSearchCV(estimator = xgb_reg, param_distributions = xgb_grid, n_iter = 20, cv = 5, verbose = 2, \n",
    "                                random_state = 1, n_jobs = -1)\n",
    "\n",
    "# Fit the random search model\n",
    "xgb_reg_tune.fit(X_train, y_train)\n",
    "\n",
    "# Optimal score\n",
    "print(xgb_reg_tune.best_score_)\n",
    "# Get the optimal parameters\n",
    "xgb_reg_tune.best_params_"
   ]
  },
  {
   "cell_type": "code",
   "execution_count": 103,
   "metadata": {
    "id": "4HOrqHv3WTGN"
   },
   "outputs": [
    {
     "data": {
      "text/plain": [
       "XGBRegressor(base_score=0.5, booster='gbtree', colsample_bylevel=1,\n",
       "             colsample_bynode=1, colsample_bytree=1, gamma=0, gpu_id=0,\n",
       "             importance_type='gain', interaction_constraints='',\n",
       "             learning_rate=0.300000012, max_delta_step=0, max_depth=2,\n",
       "             min_child_weight=1, missing=nan,\n",
       "             monotone_constraints='(0,0,0,0,0,0,0,0,0,0,0,0,0,0,0,0,0,0,0,0,0,0,0,0,0,0,0,0,0,0,0,0,0,0,0,0...,0,0,0,0,0,0,0,0,0,0,0,0,0,0,0,0,0,0,0,0,0,0,0,0,0,0,0,0,0,0,0,0,0,0,0,0,0,0,0,0,0,0,0,0,0,0,0,0,0,0,0,0,0,0,0,0,0,0,0,0,0,0,0,0,0,0,0,0,0,0,0,0,0,0,0,0,0,0,0,0,0,0,0,0,0)',\n",
       "             n_estimators=150, n_jobs=0, num_parallel_tree=1, random_state=0,\n",
       "             reg_alpha=0, reg_lambda=1, scale_pos_weight=1, subsample=1,\n",
       "             tree_method='gpu_hist', validate_parameters=1, verbosity=None)"
      ]
     },
     "execution_count": 103,
     "metadata": {},
     "output_type": "execute_result"
    }
   ],
   "source": [
    "xgb_reg_tune.best_estimator_"
   ]
  },
  {
   "cell_type": "code",
   "execution_count": 110,
   "metadata": {
    "id": "kscUx6qbZJ7X"
   },
   "outputs": [
    {
     "data": {
      "text/plain": [
       "XGBRegressor(base_score=0.5, booster='gbtree', colsample_bylevel=1,\n",
       "             colsample_bynode=1, colsample_bytree=1, gamma=0, gpu_id=0,\n",
       "             importance_type='gain', interaction_constraints='',\n",
       "             learning_rate=0.300000012, max_delta_step=0, max_depth=2,\n",
       "             min_child_weight=1, missing=nan,\n",
       "             monotone_constraints='(0,0,0,0,0,0,0,0,0,0,0,0,0,0,0,0,0,0,0,0,0,0,0,0,0,0,0,0,0,0,0,0,0,0,0,0...0,0,0,0,0,0,0,0,0,0,0,0,0,0,0,0,0,0,0,0,0,0,0,0,0,0,0,0,0,0,0,0,0,0,0,0,0,0,0,0,0,0,0,0,0,0,0,0,0,0,0,0,0,0,0,0,0,0,0,0,0,0,0,0,0,0,0,0,0,0,0,0,0,0,0,0,0,0,0,0,0,0,0,0,0)',\n",
       "             n_estimators=150, n_jobs=-1, num_parallel_tree=1, random_state=1,\n",
       "             reg_alpha=0, reg_lambda=1, scale_pos_weight=1, subsample=1,\n",
       "             tree_method='gpu_hist', validate_parameters=1, verbosity=None)"
      ]
     },
     "execution_count": 110,
     "metadata": {},
     "output_type": "execute_result"
    }
   ],
   "source": [
    "xgb_model = XGBRegressor(tree_method='gpu_hist', objective='reg:squarederror', n_estimators=150, min_child_weight=1,\n",
    "                      max_depth=2, n_jobs=-1, random_state = 1)\n",
    "xgb_model.fit(X_train,y_train)"
   ]
  },
  {
   "cell_type": "code",
   "execution_count": 111,
   "metadata": {
    "id": "DdXiJNDaZRv_"
   },
   "outputs": [
    {
     "name": "stdout",
     "output_type": "stream",
     "text": [
      "Test set performance\n",
      "MAE score : 0.3599\n",
      "MSE score : 0.2583\n",
      "r2 score : 0.7931\n"
     ]
    }
   ],
   "source": [
    "print('Test set performance')\n",
    "mae,mse,r_square = evaluate(xgb_model, X_test, y_test)\n",
    "print('MAE score : {:.4f}'.format(mae))\n",
    "print('MSE score : {:.4f}'.format(mse))\n",
    "print('r2 score : {:.4f}'.format(r_square))"
   ]
  },
  {
   "cell_type": "code",
   "execution_count": 118,
   "metadata": {
    "id": "NxZiJgSn90qn"
   },
   "outputs": [],
   "source": [
    "# Define a function that compares all final models\n",
    "def final_comparison(models, test_features, test_features_scaled, test_labels):\n",
    "    scores = pd.DataFrame()\n",
    "    for model in models:\n",
    "        if model==svr_model:\n",
    "            predictions = model.predict(test_features_scaled)\n",
    "        else:\n",
    "            predictions = model.predict(test_features)\n",
    "        mae = round(mean_absolute_error(test_labels, predictions), 4)\n",
    "        mse = round(mean_squared_error(test_labels, predictions), 4)\n",
    "        r2 = round(r2_score(test_labels, predictions), 4)\n",
    "        scores[type(model).__name__] = [mae, mse, r2]\n",
    "    scores.index = ['Mean Absolute Error', 'Mean Squared Error', 'R^2']\n",
    "    return scores"
   ]
  },
  {
   "cell_type": "code",
   "execution_count": 119,
   "metadata": {},
   "outputs": [
    {
     "data": {
      "text/html": [
       "<div>\n",
       "<style scoped>\n",
       "    .dataframe tbody tr th:only-of-type {\n",
       "        vertical-align: middle;\n",
       "    }\n",
       "\n",
       "    .dataframe tbody tr th {\n",
       "        vertical-align: top;\n",
       "    }\n",
       "\n",
       "    .dataframe thead th {\n",
       "        text-align: right;\n",
       "    }\n",
       "</style>\n",
       "<table border=\"1\" class=\"dataframe\">\n",
       "  <thead>\n",
       "    <tr style=\"text-align: right;\">\n",
       "      <th></th>\n",
       "      <th>RandomForestRegressor</th>\n",
       "      <th>SVR</th>\n",
       "      <th>XGBRegressor</th>\n",
       "    </tr>\n",
       "  </thead>\n",
       "  <tbody>\n",
       "    <tr>\n",
       "      <th>Mean Absolute Error</th>\n",
       "      <td>0.34</td>\n",
       "      <td>0.32</td>\n",
       "      <td>0.36</td>\n",
       "    </tr>\n",
       "    <tr>\n",
       "      <th>Mean Squared Error</th>\n",
       "      <td>0.24</td>\n",
       "      <td>0.22</td>\n",
       "      <td>0.26</td>\n",
       "    </tr>\n",
       "    <tr>\n",
       "      <th>R^2</th>\n",
       "      <td>0.81</td>\n",
       "      <td>0.82</td>\n",
       "      <td>0.79</td>\n",
       "    </tr>\n",
       "  </tbody>\n",
       "</table>\n",
       "</div>"
      ],
      "text/plain": [
       "                     RandomForestRegressor  SVR  XGBRegressor\n",
       "Mean Absolute Error                   0.34 0.32          0.36\n",
       "Mean Squared Error                    0.24 0.22          0.26\n",
       "R^2                                   0.81 0.82          0.79"
      ]
     },
     "execution_count": 119,
     "metadata": {},
     "output_type": "execute_result"
    }
   ],
   "source": [
    "scores = final_comparison([rfr_model, svr_model, xgb_model], X_test, X_test_scaled, y_test)\n",
    "scores"
   ]
  },
  {
   "cell_type": "markdown",
   "metadata": {},
   "source": [
    "*Note*: For using SVR model to make predictions on new data, scaling must be performed on the feature vector using the 'standarize' object defined above. For example, if the new feature vector is X, for applying SVR model we should use:\n",
    "\\begin{align} X\\_ scaled &= strandarize.transform(X) \\end{align} And then use X_scaled for furthur analysis"
   ]
  }
 ],
 "metadata": {
  "colab": {
   "authorship_tag": "ABX9TyP250Bvn/17sHh3o+59QsDf",
   "collapsed_sections": [],
   "name": "Vina_score_predictor_num.ipynb",
   "provenance": []
  },
  "kernelspec": {
   "display_name": "Python 3 (ipykernel)",
   "language": "python",
   "name": "python3"
  },
  "language_info": {
   "codemirror_mode": {
    "name": "ipython",
    "version": 3
   },
   "file_extension": ".py",
   "mimetype": "text/x-python",
   "name": "python",
   "nbconvert_exporter": "python",
   "pygments_lexer": "ipython3",
   "version": "3.7.11"
  }
 },
 "nbformat": 4,
 "nbformat_minor": 1
}
